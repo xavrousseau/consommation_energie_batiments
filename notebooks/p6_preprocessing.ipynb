{
 "cells": [
  {
   "cell_type": "code",
   "execution_count": 1,
   "metadata": {},
   "outputs": [
    {
     "name": "stderr",
     "output_type": "stream",
     "text": [
      "\u001b[32m2025-01-31 15:51:13.503\u001b[0m | \u001b[1mINFO    \u001b[0m | \u001b[36m__main__\u001b[0m:\u001b[36m<module>\u001b[0m:\u001b[36m43\u001b[0m - \u001b[1m============================================================\u001b[0m\n",
      "\u001b[32m2025-01-31 15:51:13.504\u001b[0m | \u001b[1mINFO    \u001b[0m | \u001b[36m__main__\u001b[0m:\u001b[36m<module>\u001b[0m:\u001b[36m44\u001b[0m - \u001b[1mDémarrage du notebook\u001b[0m\n",
      "\u001b[32m2025-01-31 15:51:13.505\u001b[0m | \u001b[1mINFO    \u001b[0m | \u001b[36m__main__\u001b[0m:\u001b[36m<module>\u001b[0m:\u001b[36m45\u001b[0m - \u001b[1m============================================================\u001b[0m\n",
      "\u001b[32m2025-01-31 15:51:13.506\u001b[0m | \u001b[1mINFO    \u001b[0m | \u001b[36m__main__\u001b[0m:\u001b[36msetup_and_log_directories\u001b[0m:\u001b[36m88\u001b[0m - \u001b[1mRépertoire racine configuré : consommation_energie_batiments\u001b[0m\n",
      "\u001b[32m2025-01-31 15:51:13.507\u001b[0m | \u001b[1mINFO    \u001b[0m | \u001b[36m__main__\u001b[0m:\u001b[36msetup_and_log_directories\u001b[0m:\u001b[36m92\u001b[0m - \u001b[1mRépertoire des fichiers bruts configuré : consommation_energie_batiments\\data\\raw\u001b[0m\n",
      "\u001b[32m2025-01-31 15:51:13.508\u001b[0m | \u001b[1mINFO    \u001b[0m | \u001b[36m__main__\u001b[0m:\u001b[36msetup_and_log_directories\u001b[0m:\u001b[36m95\u001b[0m - \u001b[1mRépertoire des fichiers nettoyés configuré : consommation_energie_batiments\\data\\processed\u001b[0m\n",
      "\u001b[32m2025-01-31 15:51:13.509\u001b[0m | \u001b[1mINFO    \u001b[0m | \u001b[36m__main__\u001b[0m:\u001b[36msetup_and_log_directories\u001b[0m:\u001b[36m98\u001b[0m - \u001b[1mRépertoire des scripts configuré : consommation_energie_batiments\\scripts\u001b[0m\n",
      "\u001b[32m2025-01-31 15:51:13.510\u001b[0m | \u001b[1mINFO    \u001b[0m | \u001b[36m__main__\u001b[0m:\u001b[36msetup_and_log_directories\u001b[0m:\u001b[36m101\u001b[0m - \u001b[1mRépertoire des scripts configuré : consommation_energie_batiments\\outputs\u001b[0m\n",
      "\u001b[32m2025-01-31 15:51:13.510\u001b[0m | \u001b[1mINFO    \u001b[0m | \u001b[36m__main__\u001b[0m:\u001b[36m<module>\u001b[0m:\u001b[36m118\u001b[0m - \u001b[1m============================================================\u001b[0m\n",
      "\u001b[32m2025-01-31 15:51:13.511\u001b[0m | \u001b[1mINFO    \u001b[0m | \u001b[36m__main__\u001b[0m:\u001b[36m<module>\u001b[0m:\u001b[36m119\u001b[0m - \u001b[1mRépertoires vérifiés et configurés avec succès.\u001b[0m\n",
      "\u001b[32m2025-01-31 15:51:13.512\u001b[0m | \u001b[1mINFO    \u001b[0m | \u001b[36m__main__\u001b[0m:\u001b[36m<module>\u001b[0m:\u001b[36m120\u001b[0m - \u001b[1m============================================================\u001b[0m\n"
     ]
    }
   ],
   "source": [
    "# --- Importation des Bibliothèques ---\n",
    "\n",
    "# Manipulation des données\n",
    "import pandas as pd  # Pour la manipulation des données tabulaires\n",
    "import numpy as np  # Pour les calculs numériques\n",
    "\n",
    "# Gestion des fichiers et des répertoires\n",
    "import os  # Pour interagir avec le système de fichiers\n",
    "from pathlib import Path  # Pour gérer les chemins de fichiers et répertoires\n",
    "import sys  # Pour modifier le chemin d'import des modules\n",
    "\n",
    "# Gestion des logs\n",
    "from loguru import logger  # Pour gérer les logs enrichis\n",
    "\n",
    "# Résumés statistiques\n",
    "from skimpy import skim  # Résumés enrichis pour les DataFrames\n",
    "\n",
    "# Suppression des avertissements inutiles\n",
    "import warnings  # Pour ignorer les warnings\n",
    "warnings.filterwarnings(\"ignore\")\n",
    "\n",
    "# Visualisation des données\n",
    "import matplotlib.pyplot as plt  # Visualisations statiques simples\n",
    "import seaborn as sns  # Visualisations statistiques avancées\n",
    "import plotly.express as px  # Visualisations interactives rapides\n",
    "import plotly.graph_objects as go  # Graphiques interactifs personnalisés\n",
    "from plotly.subplots import make_subplots  # Pour combiner plusieurs graphiques interactifs\n",
    " \n",
    "# Analyse statistique\n",
    "from scipy.stats import gaussian_kde  # Estimation de la densité des probabilités\n",
    "from scipy.stats.mstats import winsorize  # Pour limiter les outliers\n",
    "from sklearn.preprocessing import LabelEncoder\n",
    "from sklearn.impute import KNNImputer \n",
    "\n",
    "# Configuration des affichages pandas\n",
    "pd.set_option('display.max_columns', None)  # Afficher toutes les colonnes d'un DataFrame\n",
    "pd.set_option('display.max_rows', 150)  # Afficher jusqu'à 150 lignes d'un DataFrame\n",
    "pd.set_option('display.width', 300)  # Éviter les retours à la ligne inutiles\n",
    "\n",
    "# --- Configuration des Logs ---\n",
    "# Définir le fichier pour enregistrer les logs avec rotation automatique\n",
    "logger.add(\"../logs/analyse.log\", rotation=\"500 MB\")\n",
    "logger.info(\"=\" * 60)\n",
    "logger.info(\"Démarrage du notebook\")\n",
    "logger.info(\"=\" * 60)\n",
    "# --- Définir le répertoire de travail ---\n",
    "NOTEBOOK_PATH = Path(os.getcwd())  # Chemin actuel\n",
    "if NOTEBOOK_PATH.name == \"notebooks\":\n",
    "    BASE_DIR = NOTEBOOK_PATH.parent\n",
    "else:\n",
    "    BASE_DIR = NOTEBOOK_PATH\n",
    "\n",
    "# Ajouter le répertoire 'src' au chemin Python\n",
    "sys.path.append(str(BASE_DIR / \"src\"))\n",
    "\n",
    "# Définir les répertoires pour les données brutes, nettoyées et les scripts\n",
    "RAW_DIR = BASE_DIR / \"data/raw\"\n",
    "PROCESSED_DIR = BASE_DIR / \"data/processed\"\n",
    "SCRIPTS_DIR = BASE_DIR / \"scripts\"\n",
    "OUTPUTS_DIR = BASE_DIR / \"outputs\"\n",
    "\n",
    "\n",
    "# --- Fonction pour configurer les répertoires ---\n",
    "def setup_and_log_directories(base_dir, raw_dir, processed_dir, scripts_dir, outputs_dir):\n",
    "    \"\"\"\n",
    "    Configure les répertoires nécessaires au projet.\n",
    "    Crée les répertoires s'ils n'existent pas et logue leur état.\n",
    "\n",
    "    Args:\n",
    "        base_dir (Path): Répertoire racine.\n",
    "        raw_dir (Path): Répertoire des fichiers bruts.\n",
    "        processed_dir (Path): Répertoire des fichiers nettoyés.\n",
    "        scripts_dir (Path): Répertoire des scripts.\n",
    "        outputs_dir (Path): Répertoire des outputs.\n",
    "\n",
    "    Returns:\n",
    "        dict: Dictionnaire contenant les chemins relatifs et absolus.\n",
    "    \"\"\"\n",
    "    try:\n",
    "        # Définir les chemins relatifs\n",
    "        base_dir_relative = base_dir.name\n",
    "        raw_dir_relative = raw_dir.relative_to(base_dir)\n",
    "        processed_dir_relative = processed_dir.relative_to(base_dir)\n",
    "        scripts_dir_relative = scripts_dir.relative_to(base_dir)\n",
    "        outputs_dir_relative = outputs_dir.relative_to(base_dir)\n",
    "        \n",
    "        # Loguer le répertoire racine\n",
    "        logger.info(f\"Répertoire racine configuré : {base_dir_relative}\")\n",
    "\n",
    "        # Vérifier et créer les répertoires si nécessaire\n",
    "        raw_dir.mkdir(parents=True, exist_ok=True)\n",
    "        logger.info(f\"Répertoire des fichiers bruts configuré : {base_dir_relative}\\\\{raw_dir_relative}\")\n",
    "\n",
    "        processed_dir.mkdir(parents=True, exist_ok=True)\n",
    "        logger.info(f\"Répertoire des fichiers nettoyés configuré : {base_dir_relative}\\\\{processed_dir_relative}\")\n",
    "\n",
    "        scripts_dir.mkdir(parents=True, exist_ok=True)\n",
    "        logger.info(f\"Répertoire des scripts configuré : {base_dir_relative}\\\\{scripts_dir_relative}\")\n",
    "\n",
    "        outputs_dir.mkdir(parents=True, exist_ok=True)\n",
    "        logger.info(f\"Répertoire des scripts configuré : {base_dir_relative}\\\\{outputs_dir_relative}\")\n",
    "\n",
    "        # Retourner les chemins relatifs et absolus\n",
    "        return {\n",
    "            \"base_dir\": base_dir,\n",
    "            \"raw_dir\": {\"absolute\": raw_dir, \"relative\": raw_dir_relative},\n",
    "            \"processed_dir\": {\"absolute\": processed_dir, \"relative\": processed_dir_relative},\n",
    "            \"scripts_dir\": {\"absolute\": scripts_dir, \"relative\": scripts_dir_relative},\n",
    "            \"outputs_dir\": {\"absolute\": outputs_dir, \"relative\": outputs_dir_relative}\n",
    "        }\n",
    "\n",
    "    except Exception as e:\n",
    "        logger.error(f\"Erreur lors de la configuration des répertoires : {e}\")\n",
    "        raise\n",
    "\n",
    "# Configuration des répertoires\n",
    "directories = setup_and_log_directories(BASE_DIR, RAW_DIR, PROCESSED_DIR, SCRIPTS_DIR, OUTPUTS_DIR)\n",
    "logger.info(\"=\" * 60)\n",
    "logger.info(\"Répertoires vérifiés et configurés avec succès.\")\n",
    "logger.info(\"=\" * 60)"
   ]
  },
  {
   "cell_type": "code",
   "execution_count": 2,
   "metadata": {},
   "outputs": [
    {
     "name": "stderr",
     "output_type": "stream",
     "text": [
      "\u001b[32m2025-01-31 15:51:13.518\u001b[0m | \u001b[1mINFO    \u001b[0m | \u001b[36m__main__\u001b[0m:\u001b[36m<module>\u001b[0m:\u001b[36m2\u001b[0m - \u001b[1m============================================================\u001b[0m\n",
      "\u001b[32m2025-01-31 15:51:13.520\u001b[0m | \u001b[1mINFO    \u001b[0m | \u001b[36m__main__\u001b[0m:\u001b[36m<module>\u001b[0m:\u001b[36m3\u001b[0m - \u001b[1mDébut de l'importation du DataFrame en fichier CSV\u001b[0m\n",
      "\u001b[32m2025-01-31 15:51:13.520\u001b[0m | \u001b[1mINFO    \u001b[0m | \u001b[36m__main__\u001b[0m:\u001b[36m<module>\u001b[0m:\u001b[36m4\u001b[0m - \u001b[1m----------\u001b[0m\n",
      "\u001b[32m2025-01-31 15:51:13.536\u001b[0m | \u001b[1mINFO    \u001b[0m | \u001b[36m__main__\u001b[0m:\u001b[36m<module>\u001b[0m:\u001b[36m13\u001b[0m - \u001b[1mFichier '2016_Building_Energy_Benchmarking.csv' chargé avec succès.\u001b[0m\n",
      "\u001b[32m2025-01-31 15:51:13.537\u001b[0m | \u001b[1mINFO    \u001b[0m | \u001b[36m__main__\u001b[0m:\u001b[36m<module>\u001b[0m:\u001b[36m14\u001b[0m - \u001b[1mNombre de lignes : 3376. Nombre de colonnes : 46.\u001b[0m\n",
      "\u001b[32m2025-01-31 15:51:13.538\u001b[0m | \u001b[1mINFO    \u001b[0m | \u001b[36m__main__\u001b[0m:\u001b[36m<module>\u001b[0m:\u001b[36m27\u001b[0m - \u001b[1m----------\u001b[0m\n",
      "\u001b[32m2025-01-31 15:51:13.539\u001b[0m | \u001b[1mINFO    \u001b[0m | \u001b[36m__main__\u001b[0m:\u001b[36m<module>\u001b[0m:\u001b[36m28\u001b[0m - \u001b[1mFin de l'importation du DataFrame en fichier CSV\u001b[0m\n",
      "\u001b[32m2025-01-31 15:51:13.539\u001b[0m | \u001b[1mINFO    \u001b[0m | \u001b[36m__main__\u001b[0m:\u001b[36m<module>\u001b[0m:\u001b[36m29\u001b[0m - \u001b[1m============================================================\u001b[0m\n"
     ]
    }
   ],
   "source": [
    "# 🚀 Importation des DataFrames en CSV avec encodage UTF-8\n",
    "logger.info(\"=\" * 60)\n",
    "logger.info(\"Début de l'importation du DataFrame en fichier CSV\")\n",
    "logger.info(\"-\" * 10)\n",
    "\n",
    "# --- Définir le chemin du fichier à charger ---\n",
    "file_path = directories[\"raw_dir\"][\"absolute\"]  # Chemin absolu vers le répertoire contenant les données brutes\n",
    "dataset_file = file_path / \"2016_Building_Energy_Benchmarking.csv\"  # Fichier CSV à charger\n",
    "\n",
    "try:\n",
    "    # --- Chargement du fichier CSV dans un DataFrame pandas ---\n",
    "    building_consumption = pd.read_csv(dataset_file, encoding=\"utf-8\")  # Chargement avec encodage UTF-8\n",
    "    logger.info(f\"Fichier '{dataset_file.name}' chargé avec succès.\")\n",
    "    logger.info(f\"Nombre de lignes : {building_consumption.shape[0]}. \"\n",
    "                f\"Nombre de colonnes : {building_consumption.shape[1]}.\")\n",
    "\n",
    "except FileNotFoundError:\n",
    "    # --- Gestion des erreurs : fichier manquant ---\n",
    "    logger.error(f\"Le fichier spécifié '{dataset_file.name}' est introuvable dans le dataset.\")\n",
    "    raise\n",
    "\n",
    "except Exception as e:\n",
    "    # --- Gestion des erreurs générales ---\n",
    "    logger.error(f\"Erreur lors du chargement du fichier '{dataset_file.name}' : {e}\")\n",
    "    raise\n",
    "\n",
    "logger.info(\"-\" * 10)\n",
    "logger.info(\"Fin de l'importation du DataFrame en fichier CSV\")\n",
    "logger.info(\"=\" * 60)"
   ]
  },
  {
   "cell_type": "code",
   "execution_count": 3,
   "metadata": {},
   "outputs": [
    {
     "data": {
      "application/vnd.plotly.v1+json": {
       "config": {
        "plotlyServerURL": "https://plot.ly"
       },
       "data": [
        {
         "alignmentgroup": "True",
         "hovertemplate": "Type de bâtiment=%{x}<br>Nombre de bâtiments=%{y}<extra></extra>",
         "legendgroup": "",
         "marker": {
          "color": "blue",
          "pattern": {
           "shape": ""
          }
         },
         "name": "",
         "offsetgroup": "",
         "orientation": "v",
         "showlegend": false,
         "textposition": "auto",
         "type": "bar",
         "x": [
          "NonResidential",
          "Multifamily LR (1-4)",
          "Multifamily MR (5-9)",
          "Multifamily HR (10+)",
          "SPS-District K-12",
          "Nonresidential COS",
          "Campus",
          "Nonresidential WA"
         ],
         "xaxis": "x",
         "y": [
          1460,
          1018,
          580,
          110,
          98,
          85,
          24,
          1
         ],
         "yaxis": "y"
        }
       ],
       "layout": {
        "barmode": "relative",
        "legend": {
         "tracegroupgap": 0
        },
        "template": {
         "data": {
          "bar": [
           {
            "error_x": {
             "color": "#2a3f5f"
            },
            "error_y": {
             "color": "#2a3f5f"
            },
            "marker": {
             "line": {
              "color": "white",
              "width": 0.5
             },
             "pattern": {
              "fillmode": "overlay",
              "size": 10,
              "solidity": 0.2
             }
            },
            "type": "bar"
           }
          ],
          "barpolar": [
           {
            "marker": {
             "line": {
              "color": "white",
              "width": 0.5
             },
             "pattern": {
              "fillmode": "overlay",
              "size": 10,
              "solidity": 0.2
             }
            },
            "type": "barpolar"
           }
          ],
          "carpet": [
           {
            "aaxis": {
             "endlinecolor": "#2a3f5f",
             "gridcolor": "#C8D4E3",
             "linecolor": "#C8D4E3",
             "minorgridcolor": "#C8D4E3",
             "startlinecolor": "#2a3f5f"
            },
            "baxis": {
             "endlinecolor": "#2a3f5f",
             "gridcolor": "#C8D4E3",
             "linecolor": "#C8D4E3",
             "minorgridcolor": "#C8D4E3",
             "startlinecolor": "#2a3f5f"
            },
            "type": "carpet"
           }
          ],
          "choropleth": [
           {
            "colorbar": {
             "outlinewidth": 0,
             "ticks": ""
            },
            "type": "choropleth"
           }
          ],
          "contour": [
           {
            "colorbar": {
             "outlinewidth": 0,
             "ticks": ""
            },
            "colorscale": [
             [
              0,
              "#0d0887"
             ],
             [
              0.1111111111111111,
              "#46039f"
             ],
             [
              0.2222222222222222,
              "#7201a8"
             ],
             [
              0.3333333333333333,
              "#9c179e"
             ],
             [
              0.4444444444444444,
              "#bd3786"
             ],
             [
              0.5555555555555556,
              "#d8576b"
             ],
             [
              0.6666666666666666,
              "#ed7953"
             ],
             [
              0.7777777777777778,
              "#fb9f3a"
             ],
             [
              0.8888888888888888,
              "#fdca26"
             ],
             [
              1,
              "#f0f921"
             ]
            ],
            "type": "contour"
           }
          ],
          "contourcarpet": [
           {
            "colorbar": {
             "outlinewidth": 0,
             "ticks": ""
            },
            "type": "contourcarpet"
           }
          ],
          "heatmap": [
           {
            "colorbar": {
             "outlinewidth": 0,
             "ticks": ""
            },
            "colorscale": [
             [
              0,
              "#0d0887"
             ],
             [
              0.1111111111111111,
              "#46039f"
             ],
             [
              0.2222222222222222,
              "#7201a8"
             ],
             [
              0.3333333333333333,
              "#9c179e"
             ],
             [
              0.4444444444444444,
              "#bd3786"
             ],
             [
              0.5555555555555556,
              "#d8576b"
             ],
             [
              0.6666666666666666,
              "#ed7953"
             ],
             [
              0.7777777777777778,
              "#fb9f3a"
             ],
             [
              0.8888888888888888,
              "#fdca26"
             ],
             [
              1,
              "#f0f921"
             ]
            ],
            "type": "heatmap"
           }
          ],
          "heatmapgl": [
           {
            "colorbar": {
             "outlinewidth": 0,
             "ticks": ""
            },
            "colorscale": [
             [
              0,
              "#0d0887"
             ],
             [
              0.1111111111111111,
              "#46039f"
             ],
             [
              0.2222222222222222,
              "#7201a8"
             ],
             [
              0.3333333333333333,
              "#9c179e"
             ],
             [
              0.4444444444444444,
              "#bd3786"
             ],
             [
              0.5555555555555556,
              "#d8576b"
             ],
             [
              0.6666666666666666,
              "#ed7953"
             ],
             [
              0.7777777777777778,
              "#fb9f3a"
             ],
             [
              0.8888888888888888,
              "#fdca26"
             ],
             [
              1,
              "#f0f921"
             ]
            ],
            "type": "heatmapgl"
           }
          ],
          "histogram": [
           {
            "marker": {
             "pattern": {
              "fillmode": "overlay",
              "size": 10,
              "solidity": 0.2
             }
            },
            "type": "histogram"
           }
          ],
          "histogram2d": [
           {
            "colorbar": {
             "outlinewidth": 0,
             "ticks": ""
            },
            "colorscale": [
             [
              0,
              "#0d0887"
             ],
             [
              0.1111111111111111,
              "#46039f"
             ],
             [
              0.2222222222222222,
              "#7201a8"
             ],
             [
              0.3333333333333333,
              "#9c179e"
             ],
             [
              0.4444444444444444,
              "#bd3786"
             ],
             [
              0.5555555555555556,
              "#d8576b"
             ],
             [
              0.6666666666666666,
              "#ed7953"
             ],
             [
              0.7777777777777778,
              "#fb9f3a"
             ],
             [
              0.8888888888888888,
              "#fdca26"
             ],
             [
              1,
              "#f0f921"
             ]
            ],
            "type": "histogram2d"
           }
          ],
          "histogram2dcontour": [
           {
            "colorbar": {
             "outlinewidth": 0,
             "ticks": ""
            },
            "colorscale": [
             [
              0,
              "#0d0887"
             ],
             [
              0.1111111111111111,
              "#46039f"
             ],
             [
              0.2222222222222222,
              "#7201a8"
             ],
             [
              0.3333333333333333,
              "#9c179e"
             ],
             [
              0.4444444444444444,
              "#bd3786"
             ],
             [
              0.5555555555555556,
              "#d8576b"
             ],
             [
              0.6666666666666666,
              "#ed7953"
             ],
             [
              0.7777777777777778,
              "#fb9f3a"
             ],
             [
              0.8888888888888888,
              "#fdca26"
             ],
             [
              1,
              "#f0f921"
             ]
            ],
            "type": "histogram2dcontour"
           }
          ],
          "mesh3d": [
           {
            "colorbar": {
             "outlinewidth": 0,
             "ticks": ""
            },
            "type": "mesh3d"
           }
          ],
          "parcoords": [
           {
            "line": {
             "colorbar": {
              "outlinewidth": 0,
              "ticks": ""
             }
            },
            "type": "parcoords"
           }
          ],
          "pie": [
           {
            "automargin": true,
            "type": "pie"
           }
          ],
          "scatter": [
           {
            "fillpattern": {
             "fillmode": "overlay",
             "size": 10,
             "solidity": 0.2
            },
            "type": "scatter"
           }
          ],
          "scatter3d": [
           {
            "line": {
             "colorbar": {
              "outlinewidth": 0,
              "ticks": ""
             }
            },
            "marker": {
             "colorbar": {
              "outlinewidth": 0,
              "ticks": ""
             }
            },
            "type": "scatter3d"
           }
          ],
          "scattercarpet": [
           {
            "marker": {
             "colorbar": {
              "outlinewidth": 0,
              "ticks": ""
             }
            },
            "type": "scattercarpet"
           }
          ],
          "scattergeo": [
           {
            "marker": {
             "colorbar": {
              "outlinewidth": 0,
              "ticks": ""
             }
            },
            "type": "scattergeo"
           }
          ],
          "scattergl": [
           {
            "marker": {
             "colorbar": {
              "outlinewidth": 0,
              "ticks": ""
             }
            },
            "type": "scattergl"
           }
          ],
          "scattermapbox": [
           {
            "marker": {
             "colorbar": {
              "outlinewidth": 0,
              "ticks": ""
             }
            },
            "type": "scattermapbox"
           }
          ],
          "scatterpolar": [
           {
            "marker": {
             "colorbar": {
              "outlinewidth": 0,
              "ticks": ""
             }
            },
            "type": "scatterpolar"
           }
          ],
          "scatterpolargl": [
           {
            "marker": {
             "colorbar": {
              "outlinewidth": 0,
              "ticks": ""
             }
            },
            "type": "scatterpolargl"
           }
          ],
          "scatterternary": [
           {
            "marker": {
             "colorbar": {
              "outlinewidth": 0,
              "ticks": ""
             }
            },
            "type": "scatterternary"
           }
          ],
          "surface": [
           {
            "colorbar": {
             "outlinewidth": 0,
             "ticks": ""
            },
            "colorscale": [
             [
              0,
              "#0d0887"
             ],
             [
              0.1111111111111111,
              "#46039f"
             ],
             [
              0.2222222222222222,
              "#7201a8"
             ],
             [
              0.3333333333333333,
              "#9c179e"
             ],
             [
              0.4444444444444444,
              "#bd3786"
             ],
             [
              0.5555555555555556,
              "#d8576b"
             ],
             [
              0.6666666666666666,
              "#ed7953"
             ],
             [
              0.7777777777777778,
              "#fb9f3a"
             ],
             [
              0.8888888888888888,
              "#fdca26"
             ],
             [
              1,
              "#f0f921"
             ]
            ],
            "type": "surface"
           }
          ],
          "table": [
           {
            "cells": {
             "fill": {
              "color": "#EBF0F8"
             },
             "line": {
              "color": "white"
             }
            },
            "header": {
             "fill": {
              "color": "#C8D4E3"
             },
             "line": {
              "color": "white"
             }
            },
            "type": "table"
           }
          ]
         },
         "layout": {
          "annotationdefaults": {
           "arrowcolor": "#2a3f5f",
           "arrowhead": 0,
           "arrowwidth": 1
          },
          "autotypenumbers": "strict",
          "coloraxis": {
           "colorbar": {
            "outlinewidth": 0,
            "ticks": ""
           }
          },
          "colorscale": {
           "diverging": [
            [
             0,
             "#8e0152"
            ],
            [
             0.1,
             "#c51b7d"
            ],
            [
             0.2,
             "#de77ae"
            ],
            [
             0.3,
             "#f1b6da"
            ],
            [
             0.4,
             "#fde0ef"
            ],
            [
             0.5,
             "#f7f7f7"
            ],
            [
             0.6,
             "#e6f5d0"
            ],
            [
             0.7,
             "#b8e186"
            ],
            [
             0.8,
             "#7fbc41"
            ],
            [
             0.9,
             "#4d9221"
            ],
            [
             1,
             "#276419"
            ]
           ],
           "sequential": [
            [
             0,
             "#0d0887"
            ],
            [
             0.1111111111111111,
             "#46039f"
            ],
            [
             0.2222222222222222,
             "#7201a8"
            ],
            [
             0.3333333333333333,
             "#9c179e"
            ],
            [
             0.4444444444444444,
             "#bd3786"
            ],
            [
             0.5555555555555556,
             "#d8576b"
            ],
            [
             0.6666666666666666,
             "#ed7953"
            ],
            [
             0.7777777777777778,
             "#fb9f3a"
            ],
            [
             0.8888888888888888,
             "#fdca26"
            ],
            [
             1,
             "#f0f921"
            ]
           ],
           "sequentialminus": [
            [
             0,
             "#0d0887"
            ],
            [
             0.1111111111111111,
             "#46039f"
            ],
            [
             0.2222222222222222,
             "#7201a8"
            ],
            [
             0.3333333333333333,
             "#9c179e"
            ],
            [
             0.4444444444444444,
             "#bd3786"
            ],
            [
             0.5555555555555556,
             "#d8576b"
            ],
            [
             0.6666666666666666,
             "#ed7953"
            ],
            [
             0.7777777777777778,
             "#fb9f3a"
            ],
            [
             0.8888888888888888,
             "#fdca26"
            ],
            [
             1,
             "#f0f921"
            ]
           ]
          },
          "colorway": [
           "#636efa",
           "#EF553B",
           "#00cc96",
           "#ab63fa",
           "#FFA15A",
           "#19d3f3",
           "#FF6692",
           "#B6E880",
           "#FF97FF",
           "#FECB52"
          ],
          "font": {
           "color": "#2a3f5f"
          },
          "geo": {
           "bgcolor": "white",
           "lakecolor": "white",
           "landcolor": "white",
           "showlakes": true,
           "showland": true,
           "subunitcolor": "#C8D4E3"
          },
          "hoverlabel": {
           "align": "left"
          },
          "hovermode": "closest",
          "mapbox": {
           "style": "light"
          },
          "paper_bgcolor": "white",
          "plot_bgcolor": "white",
          "polar": {
           "angularaxis": {
            "gridcolor": "#EBF0F8",
            "linecolor": "#EBF0F8",
            "ticks": ""
           },
           "bgcolor": "white",
           "radialaxis": {
            "gridcolor": "#EBF0F8",
            "linecolor": "#EBF0F8",
            "ticks": ""
           }
          },
          "scene": {
           "xaxis": {
            "backgroundcolor": "white",
            "gridcolor": "#DFE8F3",
            "gridwidth": 2,
            "linecolor": "#EBF0F8",
            "showbackground": true,
            "ticks": "",
            "zerolinecolor": "#EBF0F8"
           },
           "yaxis": {
            "backgroundcolor": "white",
            "gridcolor": "#DFE8F3",
            "gridwidth": 2,
            "linecolor": "#EBF0F8",
            "showbackground": true,
            "ticks": "",
            "zerolinecolor": "#EBF0F8"
           },
           "zaxis": {
            "backgroundcolor": "white",
            "gridcolor": "#DFE8F3",
            "gridwidth": 2,
            "linecolor": "#EBF0F8",
            "showbackground": true,
            "ticks": "",
            "zerolinecolor": "#EBF0F8"
           }
          },
          "shapedefaults": {
           "line": {
            "color": "#2a3f5f"
           }
          },
          "ternary": {
           "aaxis": {
            "gridcolor": "#DFE8F3",
            "linecolor": "#A2B1C6",
            "ticks": ""
           },
           "baxis": {
            "gridcolor": "#DFE8F3",
            "linecolor": "#A2B1C6",
            "ticks": ""
           },
           "bgcolor": "white",
           "caxis": {
            "gridcolor": "#DFE8F3",
            "linecolor": "#A2B1C6",
            "ticks": ""
           }
          },
          "title": {
           "x": 0.05
          },
          "xaxis": {
           "automargin": true,
           "gridcolor": "#EBF0F8",
           "linecolor": "#EBF0F8",
           "ticks": "",
           "title": {
            "standoff": 15
           },
           "zerolinecolor": "#EBF0F8",
           "zerolinewidth": 2
          },
          "yaxis": {
           "automargin": true,
           "gridcolor": "#EBF0F8",
           "linecolor": "#EBF0F8",
           "ticks": "",
           "title": {
            "standoff": 15
           },
           "zerolinecolor": "#EBF0F8",
           "zerolinewidth": 2
          }
         }
        },
        "title": {
         "text": "Distribution des types de bâtiments"
        },
        "xaxis": {
         "anchor": "y",
         "domain": [
          0,
          1
         ],
         "title": {
          "text": "Type de bâtiment"
         }
        },
        "yaxis": {
         "anchor": "x",
         "domain": [
          0,
          1
         ],
         "title": {
          "text": "Nombre de bâtiments"
         }
        }
       }
      }
     },
     "metadata": {},
     "output_type": "display_data"
    },
    {
     "data": {
      "application/vnd.plotly.v1+json": {
       "config": {
        "plotlyServerURL": "https://plot.ly"
       },
       "data": [
        {
         "alignmentgroup": "True",
         "hovertemplate": "Ville=%{x}<br>Nombre de bâtiments=%{y}<extra></extra>",
         "legendgroup": "",
         "marker": {
          "color": "green",
          "pattern": {
           "shape": ""
          }
         },
         "name": "",
         "offsetgroup": "",
         "orientation": "v",
         "showlegend": false,
         "textposition": "auto",
         "type": "bar",
         "x": [
          "Seattle"
         ],
         "xaxis": "x",
         "y": [
          3376
         ],
         "yaxis": "y"
        }
       ],
       "layout": {
        "barmode": "relative",
        "legend": {
         "tracegroupgap": 0
        },
        "template": {
         "data": {
          "bar": [
           {
            "error_x": {
             "color": "#2a3f5f"
            },
            "error_y": {
             "color": "#2a3f5f"
            },
            "marker": {
             "line": {
              "color": "white",
              "width": 0.5
             },
             "pattern": {
              "fillmode": "overlay",
              "size": 10,
              "solidity": 0.2
             }
            },
            "type": "bar"
           }
          ],
          "barpolar": [
           {
            "marker": {
             "line": {
              "color": "white",
              "width": 0.5
             },
             "pattern": {
              "fillmode": "overlay",
              "size": 10,
              "solidity": 0.2
             }
            },
            "type": "barpolar"
           }
          ],
          "carpet": [
           {
            "aaxis": {
             "endlinecolor": "#2a3f5f",
             "gridcolor": "#C8D4E3",
             "linecolor": "#C8D4E3",
             "minorgridcolor": "#C8D4E3",
             "startlinecolor": "#2a3f5f"
            },
            "baxis": {
             "endlinecolor": "#2a3f5f",
             "gridcolor": "#C8D4E3",
             "linecolor": "#C8D4E3",
             "minorgridcolor": "#C8D4E3",
             "startlinecolor": "#2a3f5f"
            },
            "type": "carpet"
           }
          ],
          "choropleth": [
           {
            "colorbar": {
             "outlinewidth": 0,
             "ticks": ""
            },
            "type": "choropleth"
           }
          ],
          "contour": [
           {
            "colorbar": {
             "outlinewidth": 0,
             "ticks": ""
            },
            "colorscale": [
             [
              0,
              "#0d0887"
             ],
             [
              0.1111111111111111,
              "#46039f"
             ],
             [
              0.2222222222222222,
              "#7201a8"
             ],
             [
              0.3333333333333333,
              "#9c179e"
             ],
             [
              0.4444444444444444,
              "#bd3786"
             ],
             [
              0.5555555555555556,
              "#d8576b"
             ],
             [
              0.6666666666666666,
              "#ed7953"
             ],
             [
              0.7777777777777778,
              "#fb9f3a"
             ],
             [
              0.8888888888888888,
              "#fdca26"
             ],
             [
              1,
              "#f0f921"
             ]
            ],
            "type": "contour"
           }
          ],
          "contourcarpet": [
           {
            "colorbar": {
             "outlinewidth": 0,
             "ticks": ""
            },
            "type": "contourcarpet"
           }
          ],
          "heatmap": [
           {
            "colorbar": {
             "outlinewidth": 0,
             "ticks": ""
            },
            "colorscale": [
             [
              0,
              "#0d0887"
             ],
             [
              0.1111111111111111,
              "#46039f"
             ],
             [
              0.2222222222222222,
              "#7201a8"
             ],
             [
              0.3333333333333333,
              "#9c179e"
             ],
             [
              0.4444444444444444,
              "#bd3786"
             ],
             [
              0.5555555555555556,
              "#d8576b"
             ],
             [
              0.6666666666666666,
              "#ed7953"
             ],
             [
              0.7777777777777778,
              "#fb9f3a"
             ],
             [
              0.8888888888888888,
              "#fdca26"
             ],
             [
              1,
              "#f0f921"
             ]
            ],
            "type": "heatmap"
           }
          ],
          "heatmapgl": [
           {
            "colorbar": {
             "outlinewidth": 0,
             "ticks": ""
            },
            "colorscale": [
             [
              0,
              "#0d0887"
             ],
             [
              0.1111111111111111,
              "#46039f"
             ],
             [
              0.2222222222222222,
              "#7201a8"
             ],
             [
              0.3333333333333333,
              "#9c179e"
             ],
             [
              0.4444444444444444,
              "#bd3786"
             ],
             [
              0.5555555555555556,
              "#d8576b"
             ],
             [
              0.6666666666666666,
              "#ed7953"
             ],
             [
              0.7777777777777778,
              "#fb9f3a"
             ],
             [
              0.8888888888888888,
              "#fdca26"
             ],
             [
              1,
              "#f0f921"
             ]
            ],
            "type": "heatmapgl"
           }
          ],
          "histogram": [
           {
            "marker": {
             "pattern": {
              "fillmode": "overlay",
              "size": 10,
              "solidity": 0.2
             }
            },
            "type": "histogram"
           }
          ],
          "histogram2d": [
           {
            "colorbar": {
             "outlinewidth": 0,
             "ticks": ""
            },
            "colorscale": [
             [
              0,
              "#0d0887"
             ],
             [
              0.1111111111111111,
              "#46039f"
             ],
             [
              0.2222222222222222,
              "#7201a8"
             ],
             [
              0.3333333333333333,
              "#9c179e"
             ],
             [
              0.4444444444444444,
              "#bd3786"
             ],
             [
              0.5555555555555556,
              "#d8576b"
             ],
             [
              0.6666666666666666,
              "#ed7953"
             ],
             [
              0.7777777777777778,
              "#fb9f3a"
             ],
             [
              0.8888888888888888,
              "#fdca26"
             ],
             [
              1,
              "#f0f921"
             ]
            ],
            "type": "histogram2d"
           }
          ],
          "histogram2dcontour": [
           {
            "colorbar": {
             "outlinewidth": 0,
             "ticks": ""
            },
            "colorscale": [
             [
              0,
              "#0d0887"
             ],
             [
              0.1111111111111111,
              "#46039f"
             ],
             [
              0.2222222222222222,
              "#7201a8"
             ],
             [
              0.3333333333333333,
              "#9c179e"
             ],
             [
              0.4444444444444444,
              "#bd3786"
             ],
             [
              0.5555555555555556,
              "#d8576b"
             ],
             [
              0.6666666666666666,
              "#ed7953"
             ],
             [
              0.7777777777777778,
              "#fb9f3a"
             ],
             [
              0.8888888888888888,
              "#fdca26"
             ],
             [
              1,
              "#f0f921"
             ]
            ],
            "type": "histogram2dcontour"
           }
          ],
          "mesh3d": [
           {
            "colorbar": {
             "outlinewidth": 0,
             "ticks": ""
            },
            "type": "mesh3d"
           }
          ],
          "parcoords": [
           {
            "line": {
             "colorbar": {
              "outlinewidth": 0,
              "ticks": ""
             }
            },
            "type": "parcoords"
           }
          ],
          "pie": [
           {
            "automargin": true,
            "type": "pie"
           }
          ],
          "scatter": [
           {
            "fillpattern": {
             "fillmode": "overlay",
             "size": 10,
             "solidity": 0.2
            },
            "type": "scatter"
           }
          ],
          "scatter3d": [
           {
            "line": {
             "colorbar": {
              "outlinewidth": 0,
              "ticks": ""
             }
            },
            "marker": {
             "colorbar": {
              "outlinewidth": 0,
              "ticks": ""
             }
            },
            "type": "scatter3d"
           }
          ],
          "scattercarpet": [
           {
            "marker": {
             "colorbar": {
              "outlinewidth": 0,
              "ticks": ""
             }
            },
            "type": "scattercarpet"
           }
          ],
          "scattergeo": [
           {
            "marker": {
             "colorbar": {
              "outlinewidth": 0,
              "ticks": ""
             }
            },
            "type": "scattergeo"
           }
          ],
          "scattergl": [
           {
            "marker": {
             "colorbar": {
              "outlinewidth": 0,
              "ticks": ""
             }
            },
            "type": "scattergl"
           }
          ],
          "scattermapbox": [
           {
            "marker": {
             "colorbar": {
              "outlinewidth": 0,
              "ticks": ""
             }
            },
            "type": "scattermapbox"
           }
          ],
          "scatterpolar": [
           {
            "marker": {
             "colorbar": {
              "outlinewidth": 0,
              "ticks": ""
             }
            },
            "type": "scatterpolar"
           }
          ],
          "scatterpolargl": [
           {
            "marker": {
             "colorbar": {
              "outlinewidth": 0,
              "ticks": ""
             }
            },
            "type": "scatterpolargl"
           }
          ],
          "scatterternary": [
           {
            "marker": {
             "colorbar": {
              "outlinewidth": 0,
              "ticks": ""
             }
            },
            "type": "scatterternary"
           }
          ],
          "surface": [
           {
            "colorbar": {
             "outlinewidth": 0,
             "ticks": ""
            },
            "colorscale": [
             [
              0,
              "#0d0887"
             ],
             [
              0.1111111111111111,
              "#46039f"
             ],
             [
              0.2222222222222222,
              "#7201a8"
             ],
             [
              0.3333333333333333,
              "#9c179e"
             ],
             [
              0.4444444444444444,
              "#bd3786"
             ],
             [
              0.5555555555555556,
              "#d8576b"
             ],
             [
              0.6666666666666666,
              "#ed7953"
             ],
             [
              0.7777777777777778,
              "#fb9f3a"
             ],
             [
              0.8888888888888888,
              "#fdca26"
             ],
             [
              1,
              "#f0f921"
             ]
            ],
            "type": "surface"
           }
          ],
          "table": [
           {
            "cells": {
             "fill": {
              "color": "#EBF0F8"
             },
             "line": {
              "color": "white"
             }
            },
            "header": {
             "fill": {
              "color": "#C8D4E3"
             },
             "line": {
              "color": "white"
             }
            },
            "type": "table"
           }
          ]
         },
         "layout": {
          "annotationdefaults": {
           "arrowcolor": "#2a3f5f",
           "arrowhead": 0,
           "arrowwidth": 1
          },
          "autotypenumbers": "strict",
          "coloraxis": {
           "colorbar": {
            "outlinewidth": 0,
            "ticks": ""
           }
          },
          "colorscale": {
           "diverging": [
            [
             0,
             "#8e0152"
            ],
            [
             0.1,
             "#c51b7d"
            ],
            [
             0.2,
             "#de77ae"
            ],
            [
             0.3,
             "#f1b6da"
            ],
            [
             0.4,
             "#fde0ef"
            ],
            [
             0.5,
             "#f7f7f7"
            ],
            [
             0.6,
             "#e6f5d0"
            ],
            [
             0.7,
             "#b8e186"
            ],
            [
             0.8,
             "#7fbc41"
            ],
            [
             0.9,
             "#4d9221"
            ],
            [
             1,
             "#276419"
            ]
           ],
           "sequential": [
            [
             0,
             "#0d0887"
            ],
            [
             0.1111111111111111,
             "#46039f"
            ],
            [
             0.2222222222222222,
             "#7201a8"
            ],
            [
             0.3333333333333333,
             "#9c179e"
            ],
            [
             0.4444444444444444,
             "#bd3786"
            ],
            [
             0.5555555555555556,
             "#d8576b"
            ],
            [
             0.6666666666666666,
             "#ed7953"
            ],
            [
             0.7777777777777778,
             "#fb9f3a"
            ],
            [
             0.8888888888888888,
             "#fdca26"
            ],
            [
             1,
             "#f0f921"
            ]
           ],
           "sequentialminus": [
            [
             0,
             "#0d0887"
            ],
            [
             0.1111111111111111,
             "#46039f"
            ],
            [
             0.2222222222222222,
             "#7201a8"
            ],
            [
             0.3333333333333333,
             "#9c179e"
            ],
            [
             0.4444444444444444,
             "#bd3786"
            ],
            [
             0.5555555555555556,
             "#d8576b"
            ],
            [
             0.6666666666666666,
             "#ed7953"
            ],
            [
             0.7777777777777778,
             "#fb9f3a"
            ],
            [
             0.8888888888888888,
             "#fdca26"
            ],
            [
             1,
             "#f0f921"
            ]
           ]
          },
          "colorway": [
           "#636efa",
           "#EF553B",
           "#00cc96",
           "#ab63fa",
           "#FFA15A",
           "#19d3f3",
           "#FF6692",
           "#B6E880",
           "#FF97FF",
           "#FECB52"
          ],
          "font": {
           "color": "#2a3f5f"
          },
          "geo": {
           "bgcolor": "white",
           "lakecolor": "white",
           "landcolor": "white",
           "showlakes": true,
           "showland": true,
           "subunitcolor": "#C8D4E3"
          },
          "hoverlabel": {
           "align": "left"
          },
          "hovermode": "closest",
          "mapbox": {
           "style": "light"
          },
          "paper_bgcolor": "white",
          "plot_bgcolor": "white",
          "polar": {
           "angularaxis": {
            "gridcolor": "#EBF0F8",
            "linecolor": "#EBF0F8",
            "ticks": ""
           },
           "bgcolor": "white",
           "radialaxis": {
            "gridcolor": "#EBF0F8",
            "linecolor": "#EBF0F8",
            "ticks": ""
           }
          },
          "scene": {
           "xaxis": {
            "backgroundcolor": "white",
            "gridcolor": "#DFE8F3",
            "gridwidth": 2,
            "linecolor": "#EBF0F8",
            "showbackground": true,
            "ticks": "",
            "zerolinecolor": "#EBF0F8"
           },
           "yaxis": {
            "backgroundcolor": "white",
            "gridcolor": "#DFE8F3",
            "gridwidth": 2,
            "linecolor": "#EBF0F8",
            "showbackground": true,
            "ticks": "",
            "zerolinecolor": "#EBF0F8"
           },
           "zaxis": {
            "backgroundcolor": "white",
            "gridcolor": "#DFE8F3",
            "gridwidth": 2,
            "linecolor": "#EBF0F8",
            "showbackground": true,
            "ticks": "",
            "zerolinecolor": "#EBF0F8"
           }
          },
          "shapedefaults": {
           "line": {
            "color": "#2a3f5f"
           }
          },
          "ternary": {
           "aaxis": {
            "gridcolor": "#DFE8F3",
            "linecolor": "#A2B1C6",
            "ticks": ""
           },
           "baxis": {
            "gridcolor": "#DFE8F3",
            "linecolor": "#A2B1C6",
            "ticks": ""
           },
           "bgcolor": "white",
           "caxis": {
            "gridcolor": "#DFE8F3",
            "linecolor": "#A2B1C6",
            "ticks": ""
           }
          },
          "title": {
           "x": 0.05
          },
          "xaxis": {
           "automargin": true,
           "gridcolor": "#EBF0F8",
           "linecolor": "#EBF0F8",
           "ticks": "",
           "title": {
            "standoff": 15
           },
           "zerolinecolor": "#EBF0F8",
           "zerolinewidth": 2
          },
          "yaxis": {
           "automargin": true,
           "gridcolor": "#EBF0F8",
           "linecolor": "#EBF0F8",
           "ticks": "",
           "title": {
            "standoff": 15
           },
           "zerolinecolor": "#EBF0F8",
           "zerolinewidth": 2
          }
         }
        },
        "title": {
         "text": "Distribution des bâtiments par ville"
        },
        "xaxis": {
         "anchor": "y",
         "domain": [
          0,
          1
         ],
         "title": {
          "text": "Ville"
         }
        },
        "yaxis": {
         "anchor": "x",
         "domain": [
          0,
          1
         ],
         "title": {
          "text": "Nombre de bâtiments"
         }
        }
       }
      }
     },
     "metadata": {},
     "output_type": "display_data"
    }
   ],
   "source": [
    "# --- Préparer les données pour la distribution des types de bâtiments ---\n",
    "building_type_counts = building_consumption['BuildingType'].value_counts().reset_index()\n",
    "building_type_counts.columns = ['BuildingType', 'count']  # Renommer les colonnes pour Plotly\n",
    "\n",
    "# --- Créer un graphique interactif ---\n",
    "fig_building_type = px.bar(\n",
    "    building_type_counts,\n",
    "    x='BuildingType',  # Axe X : Types de bâtiments\n",
    "    y='count',          # Axe Y : Nombre de bâtiments\n",
    "    title=\"Distribution des types de bâtiments\",\n",
    "    labels={'BuildingType': 'Type de bâtiment', 'count': 'Nombre de bâtiments'},\n",
    "    template=\"plotly_white\"\n",
    ")\n",
    "fig_building_type.update_traces(marker_color='blue')  # Couleur des barres\n",
    "fig_building_type.show()  # Afficher le graphique\n",
    " \n",
    "# --- Préparer les données pour la distribution des villes ---\n",
    "city_counts = building_consumption['City'].value_counts().reset_index()\n",
    "city_counts.columns = ['City', 'count']  # Renommer les colonnes pour Plotly\n",
    "\n",
    "# --- Créer un graphique interactif ---\n",
    "fig_city = px.bar(\n",
    "    city_counts,\n",
    "    x='City',  # Axe X : Villes\n",
    "    y='count',  # Axe Y : Nombre de bâtiments\n",
    "    title=\"Distribution des bâtiments par ville\",\n",
    "    labels={'City': 'Ville', 'count': 'Nombre de bâtiments'},\n",
    "    template=\"plotly_white\"\n",
    ")\n",
    "fig_city.update_traces(marker_color='green')  # Couleur des barres\n",
    "fig_city.show()  # Afficher le graphique"
   ]
  },
  {
   "cell_type": "code",
   "execution_count": 4,
   "metadata": {},
   "outputs": [
    {
     "name": "stderr",
     "output_type": "stream",
     "text": [
      "\u001b[32m2025-01-31 15:51:13.950\u001b[0m | \u001b[1mINFO    \u001b[0m | \u001b[36m__main__\u001b[0m:\u001b[36m<module>\u001b[0m:\u001b[36m17\u001b[0m - \u001b[1mDimensions après filtrage : (1668, 46)\u001b[0m\n"
     ]
    }
   ],
   "source": [
    "# --- types de bâtiments non résidentiels ---\n",
    "non_residential_types = [\n",
    "    'NonResidential',\n",
    "    'Nonresidential COS',\n",
    "    'SPS-District K-12',\n",
    "    'Campus',\n",
    "    'Nonresidential WA'\n",
    "]\n",
    "\n",
    "# --- Appliquer le filtre sur les données ---\n",
    "building_consumption = building_consumption[\n",
    "    (building_consumption['BuildingType'].isin(non_residential_types)) &  # Filtrer par type de bâtiment\n",
    "    (building_consumption['City'].str.lower() == 'seattle')  # Filtrer par ville (insensible à la casse)\n",
    "]\n",
    "\n",
    "# --- Afficher les dimensions du DataFrame après filtrage ---\n",
    "logger.info(f\"Dimensions après filtrage : {building_consumption.shape}\")"
   ]
  },
  {
   "cell_type": "code",
   "execution_count": 5,
   "metadata": {},
   "outputs": [
    {
     "name": "stderr",
     "output_type": "stream",
     "text": [
      "\u001b[32m2025-01-31 15:51:13.957\u001b[0m | \u001b[1mINFO    \u001b[0m | \u001b[36m__main__\u001b[0m:\u001b[36m<module>\u001b[0m:\u001b[36m2\u001b[0m - \u001b[1m============================================================\u001b[0m\n",
      "\u001b[32m2025-01-31 15:51:13.957\u001b[0m | \u001b[1mINFO    \u001b[0m | \u001b[36m__main__\u001b[0m:\u001b[36m<module>\u001b[0m:\u001b[36m3\u001b[0m - \u001b[1mNombre de lignes : 1668\u001b[0m\n",
      "\u001b[32m2025-01-31 15:51:13.958\u001b[0m | \u001b[1mINFO    \u001b[0m | \u001b[36m__main__\u001b[0m:\u001b[36m<module>\u001b[0m:\u001b[36m4\u001b[0m - \u001b[1mNombre de colonnes : 46\u001b[0m\n",
      "\u001b[32m2025-01-31 15:51:13.959\u001b[0m | \u001b[1mINFO    \u001b[0m | \u001b[36m__main__\u001b[0m:\u001b[36m<module>\u001b[0m:\u001b[36m5\u001b[0m - \u001b[1m============================================================\u001b[0m\n"
     ]
    }
   ],
   "source": [
    "# Afficher les dimensions du dataset après filtrage\n",
    "logger.info(\"=\" * 60)\n",
    "logger.info(f\"Nombre de lignes : {building_consumption.shape[0]}\")\n",
    "logger.info(f\"Nombre de colonnes : {building_consumption.shape[1]}\")\n",
    "logger.info(\"=\" * 60)"
   ]
  },
  {
   "cell_type": "code",
   "execution_count": 6,
   "metadata": {},
   "outputs": [
    {
     "name": "stderr",
     "output_type": "stream",
     "text": [
      "\u001b[32m2025-01-31 15:51:13.964\u001b[0m | \u001b[1mINFO    \u001b[0m | \u001b[36m__main__\u001b[0m:\u001b[36m<module>\u001b[0m:\u001b[36m1\u001b[0m - \u001b[1m============================================================\u001b[0m\n",
      "\u001b[32m2025-01-31 15:51:13.965\u001b[0m | \u001b[1mINFO    \u001b[0m | \u001b[36m__main__\u001b[0m:\u001b[36m<module>\u001b[0m:\u001b[36m3\u001b[0m - \u001b[1mAperçu des données :\u001b[0m\n",
      "\u001b[32m2025-01-31 15:51:13.965\u001b[0m | \u001b[1mINFO    \u001b[0m | \u001b[36m__main__\u001b[0m:\u001b[36m<module>\u001b[0m:\u001b[36m4\u001b[0m - \u001b[1m============================================================\u001b[0m\n",
      "\u001b[32m2025-01-31 15:51:13.973\u001b[0m | \u001b[1mINFO    \u001b[0m | \u001b[36m__main__\u001b[0m:\u001b[36m<module>\u001b[0m:\u001b[36m5\u001b[0m - \u001b[1m\n",
      "    OSEBuildingID  DataYear    BuildingType PrimaryPropertyType                 PropertyName          Address     City State  ZipCode TaxParcelIdentificationNumber  CouncilDistrictCode Neighborhood  Latitude  Longitude  YearBuilt  NumberofBuildings  NumberofFloors  PropertyGFATotal  \\\n",
      "0              1      2016  NonResidential               Hotel         Mayflower park hotel    405 Olive way  Seattle    WA  98101.0                    0659000030                    7     DOWNTOWN  47.61220 -122.33799       1927                1.0              12             88434   \n",
      "1              2      2016  NonResidential               Hotel              Paramount Hotel  724 Pine street  Seattle    WA  98101.0                    0659000220                    7     DOWNTOWN  47.61317 -122.33393       1996                1.0              11            103566   \n",
      "2              3      2016  NonResidential               Hotel      5673-The Westin Seattle  1900 5th Avenue  Seattle    WA  98101.0                    0659000475                    7     DOWNTOWN  47.61393 -122.33810       1969                1.0              41            956110   \n",
      "3              5      2016  NonResidential               Hotel                    HOTEL MAX   620 STEWART ST  Seattle    WA  98101.0                    0659000640                    7     DOWNTOWN  47.61412 -122.33664       1926                1.0              10             61320   \n",
      "4              8      2016  NonResidential               Hotel  WARWICK SEATTLE HOTEL (ID8)    401 LENORA ST  Seattle    WA  98121.0                    0659000970                    7     DOWNTOWN  47.61375 -122.34047       1980                1.0              18            175580   \n",
      "\n",
      "   PropertyGFAParking  PropertyGFABuilding(s)      ListOfAllPropertyUseTypes LargestPropertyUseType  LargestPropertyUseTypeGFA SecondLargestPropertyUseType  SecondLargestPropertyUseTypeGFA ThirdLargestPropertyUseType  ThirdLargestPropertyUseTypeGFA YearsENERGYSTARCertified  ENERGYSTARScore  \\\n",
      "0                   0                   88434                          Hotel                  Hotel                    88434.0                          NaN                              NaN                         NaN                             NaN                      NaN             60.0   \n",
      "1               15064                   88502     Hotel, Parking, Restaurant                  Hotel                    83880.0                      Parking                          15064.0                  Restaurant                          4622.0                      NaN             61.0   \n",
      "2              196718                  759392                          Hotel                  Hotel                   756493.0                          NaN                              NaN                         NaN                             NaN                      NaN             43.0   \n",
      "3                   0                   61320                          Hotel                  Hotel                    61320.0                          NaN                              NaN                         NaN                             NaN                      NaN             56.0   \n",
      "4               62000                  113580  Hotel, Parking, Swimming Pool                  Hotel                   123445.0                      Parking                          68009.0               Swimming Pool                             0.0                      NaN             75.0   \n",
      "\n",
      "   SiteEUI(kBtu/sf)  SiteEUIWN(kBtu/sf)  SourceEUI(kBtu/sf)  SourceEUIWN(kBtu/sf)  SiteEnergyUse(kBtu)  SiteEnergyUseWN(kBtu)  SteamUse(kBtu)  Electricity(kWh)  Electricity(kBtu)  NaturalGas(therms)  NaturalGas(kBtu)  DefaultData  Comments ComplianceStatus Outlier  TotalGHGEmissions  \\\n",
      "0         81.699997           84.300003          182.500000            189.000000            7226362.5              7456910.0      2003882.00      1.156514e+06          3946027.0         12764.52930         1276453.0        False       NaN        Compliant     NaN             249.98   \n",
      "1         94.800003           97.900002          176.100006            179.399994            8387933.0              8664479.0            0.00      9.504252e+05          3242851.0         51450.81641         5145082.0        False       NaN        Compliant     NaN             295.86   \n",
      "2         96.000000           97.699997          241.899994            244.100006           72587024.0             73937112.0     21566554.00      1.451544e+07         49526664.0         14938.00000         1493800.0        False       NaN        Compliant     NaN            2089.28   \n",
      "3        110.800003          113.300003          216.199997            224.000000            6794584.0              6946800.5      2214446.25      8.115253e+05          2768924.0         18112.13086         1811213.0        False       NaN        Compliant     NaN             286.43   \n",
      "4        114.800003          118.699997          211.399994            215.600006           14172606.0             14656503.0            0.00      1.573449e+06          5368607.0         88039.98438         8803998.0        False       NaN        Compliant     NaN             505.01   \n",
      "\n",
      "   GHGEmissionsIntensity  \n",
      "0                   2.83  \n",
      "1                   2.86  \n",
      "2                   2.19  \n",
      "3                   4.67  \n",
      "4                   2.88  \u001b[0m\n",
      "\u001b[32m2025-01-31 15:51:13.974\u001b[0m | \u001b[1mINFO    \u001b[0m | \u001b[36m__main__\u001b[0m:\u001b[36m<module>\u001b[0m:\u001b[36m6\u001b[0m - \u001b[1m============================================================\u001b[0m\n"
     ]
    }
   ],
   "source": [
    "logger.info(\"=\" * 60)\n",
    "# Afficher un aperçu des 5 premières lignes du dataset\n",
    "logger.info(\"Aperçu des données :\")\n",
    "logger.info(\"=\" * 60)\n",
    "logger.info(f\"\\n {building_consumption.head()}\")\n",
    "logger.info(\"=\" * 60)"
   ]
  },
  {
   "cell_type": "code",
   "execution_count": 7,
   "metadata": {},
   "outputs": [
    {
     "name": "stderr",
     "output_type": "stream",
     "text": [
      "\u001b[32m2025-01-31 15:51:13.983\u001b[0m | \u001b[1mINFO    \u001b[0m | \u001b[36m__main__\u001b[0m:\u001b[36m<module>\u001b[0m:\u001b[36m2\u001b[0m - \u001b[1m============================================================\u001b[0m\n",
      "\u001b[32m2025-01-31 15:51:13.984\u001b[0m | \u001b[1mINFO    \u001b[0m | \u001b[36m__main__\u001b[0m:\u001b[36m<module>\u001b[0m:\u001b[36m3\u001b[0m - \u001b[1m📊 Types des colonnes pour le DataFrame 'building_consumption\u001b[0m\n",
      "\u001b[32m2025-01-31 15:51:13.985\u001b[0m | \u001b[1mINFO    \u001b[0m | \u001b[36m__main__\u001b[0m:\u001b[36m<module>\u001b[0m:\u001b[36m4\u001b[0m - \u001b[1m============================================================\u001b[0m\n",
      "\u001b[32m2025-01-31 15:51:13.987\u001b[0m | \u001b[1mINFO    \u001b[0m | \u001b[36m__main__\u001b[0m:\u001b[36m<module>\u001b[0m:\u001b[36m10\u001b[0m - \u001b[1m🔹 OSEBuildingID : int64 | Types Python rencontrés : int\u001b[0m\n",
      "\u001b[32m2025-01-31 15:51:13.988\u001b[0m | \u001b[1mINFO    \u001b[0m | \u001b[36m__main__\u001b[0m:\u001b[36m<module>\u001b[0m:\u001b[36m10\u001b[0m - \u001b[1m🔹 DataYear : int64 | Types Python rencontrés : int\u001b[0m\n",
      "\u001b[32m2025-01-31 15:51:13.988\u001b[0m | \u001b[1mINFO    \u001b[0m | \u001b[36m__main__\u001b[0m:\u001b[36m<module>\u001b[0m:\u001b[36m10\u001b[0m - \u001b[1m🔹 BuildingType : object | Types Python rencontrés : str\u001b[0m\n",
      "\u001b[32m2025-01-31 15:51:13.989\u001b[0m | \u001b[1mINFO    \u001b[0m | \u001b[36m__main__\u001b[0m:\u001b[36m<module>\u001b[0m:\u001b[36m10\u001b[0m - \u001b[1m🔹 PrimaryPropertyType : object | Types Python rencontrés : str\u001b[0m\n",
      "\u001b[32m2025-01-31 15:51:13.990\u001b[0m | \u001b[1mINFO    \u001b[0m | \u001b[36m__main__\u001b[0m:\u001b[36m<module>\u001b[0m:\u001b[36m10\u001b[0m - \u001b[1m🔹 PropertyName : object | Types Python rencontrés : str\u001b[0m\n",
      "\u001b[32m2025-01-31 15:51:13.991\u001b[0m | \u001b[1mINFO    \u001b[0m | \u001b[36m__main__\u001b[0m:\u001b[36m<module>\u001b[0m:\u001b[36m10\u001b[0m - \u001b[1m🔹 Address : object | Types Python rencontrés : str\u001b[0m\n",
      "\u001b[32m2025-01-31 15:51:13.992\u001b[0m | \u001b[1mINFO    \u001b[0m | \u001b[36m__main__\u001b[0m:\u001b[36m<module>\u001b[0m:\u001b[36m10\u001b[0m - \u001b[1m🔹 City : object | Types Python rencontrés : str\u001b[0m\n",
      "\u001b[32m2025-01-31 15:51:13.994\u001b[0m | \u001b[1mINFO    \u001b[0m | \u001b[36m__main__\u001b[0m:\u001b[36m<module>\u001b[0m:\u001b[36m10\u001b[0m - \u001b[1m🔹 State : object | Types Python rencontrés : str\u001b[0m\n",
      "\u001b[32m2025-01-31 15:51:13.995\u001b[0m | \u001b[1mINFO    \u001b[0m | \u001b[36m__main__\u001b[0m:\u001b[36m<module>\u001b[0m:\u001b[36m10\u001b[0m - \u001b[1m🔹 ZipCode : float64 | Types Python rencontrés : float\u001b[0m\n",
      "\u001b[32m2025-01-31 15:51:13.996\u001b[0m | \u001b[1mINFO    \u001b[0m | \u001b[36m__main__\u001b[0m:\u001b[36m<module>\u001b[0m:\u001b[36m10\u001b[0m - \u001b[1m🔹 TaxParcelIdentificationNumber : object | Types Python rencontrés : str\u001b[0m\n",
      "\u001b[32m2025-01-31 15:51:13.997\u001b[0m | \u001b[1mINFO    \u001b[0m | \u001b[36m__main__\u001b[0m:\u001b[36m<module>\u001b[0m:\u001b[36m10\u001b[0m - \u001b[1m🔹 CouncilDistrictCode : int64 | Types Python rencontrés : int\u001b[0m\n",
      "\u001b[32m2025-01-31 15:51:13.998\u001b[0m | \u001b[1mINFO    \u001b[0m | \u001b[36m__main__\u001b[0m:\u001b[36m<module>\u001b[0m:\u001b[36m10\u001b[0m - \u001b[1m🔹 Neighborhood : object | Types Python rencontrés : str\u001b[0m\n",
      "\u001b[32m2025-01-31 15:51:13.999\u001b[0m | \u001b[1mINFO    \u001b[0m | \u001b[36m__main__\u001b[0m:\u001b[36m<module>\u001b[0m:\u001b[36m10\u001b[0m - \u001b[1m🔹 Latitude : float64 | Types Python rencontrés : float\u001b[0m\n",
      "\u001b[32m2025-01-31 15:51:13.999\u001b[0m | \u001b[1mINFO    \u001b[0m | \u001b[36m__main__\u001b[0m:\u001b[36m<module>\u001b[0m:\u001b[36m10\u001b[0m - \u001b[1m🔹 Longitude : float64 | Types Python rencontrés : float\u001b[0m\n",
      "\u001b[32m2025-01-31 15:51:14.000\u001b[0m | \u001b[1mINFO    \u001b[0m | \u001b[36m__main__\u001b[0m:\u001b[36m<module>\u001b[0m:\u001b[36m10\u001b[0m - \u001b[1m🔹 YearBuilt : int64 | Types Python rencontrés : int\u001b[0m\n",
      "\u001b[32m2025-01-31 15:51:14.001\u001b[0m | \u001b[1mINFO    \u001b[0m | \u001b[36m__main__\u001b[0m:\u001b[36m<module>\u001b[0m:\u001b[36m10\u001b[0m - \u001b[1m🔹 NumberofBuildings : float64 | Types Python rencontrés : float\u001b[0m\n",
      "\u001b[32m2025-01-31 15:51:14.002\u001b[0m | \u001b[1mINFO    \u001b[0m | \u001b[36m__main__\u001b[0m:\u001b[36m<module>\u001b[0m:\u001b[36m10\u001b[0m - \u001b[1m🔹 NumberofFloors : int64 | Types Python rencontrés : int\u001b[0m\n",
      "\u001b[32m2025-01-31 15:51:14.002\u001b[0m | \u001b[1mINFO    \u001b[0m | \u001b[36m__main__\u001b[0m:\u001b[36m<module>\u001b[0m:\u001b[36m10\u001b[0m - \u001b[1m🔹 PropertyGFATotal : int64 | Types Python rencontrés : int\u001b[0m\n",
      "\u001b[32m2025-01-31 15:51:14.003\u001b[0m | \u001b[1mINFO    \u001b[0m | \u001b[36m__main__\u001b[0m:\u001b[36m<module>\u001b[0m:\u001b[36m10\u001b[0m - \u001b[1m🔹 PropertyGFAParking : int64 | Types Python rencontrés : int\u001b[0m\n",
      "\u001b[32m2025-01-31 15:51:14.004\u001b[0m | \u001b[1mINFO    \u001b[0m | \u001b[36m__main__\u001b[0m:\u001b[36m<module>\u001b[0m:\u001b[36m10\u001b[0m - \u001b[1m🔹 PropertyGFABuilding(s) : int64 | Types Python rencontrés : int\u001b[0m\n",
      "\u001b[32m2025-01-31 15:51:14.005\u001b[0m | \u001b[1mINFO    \u001b[0m | \u001b[36m__main__\u001b[0m:\u001b[36m<module>\u001b[0m:\u001b[36m10\u001b[0m - \u001b[1m🔹 ListOfAllPropertyUseTypes : object | Types Python rencontrés : str, float\u001b[0m\n",
      "\u001b[32m2025-01-31 15:51:14.006\u001b[0m | \u001b[1mINFO    \u001b[0m | \u001b[36m__main__\u001b[0m:\u001b[36m<module>\u001b[0m:\u001b[36m10\u001b[0m - \u001b[1m🔹 LargestPropertyUseType : object | Types Python rencontrés : str, float\u001b[0m\n",
      "\u001b[32m2025-01-31 15:51:14.007\u001b[0m | \u001b[1mINFO    \u001b[0m | \u001b[36m__main__\u001b[0m:\u001b[36m<module>\u001b[0m:\u001b[36m10\u001b[0m - \u001b[1m🔹 LargestPropertyUseTypeGFA : float64 | Types Python rencontrés : float\u001b[0m\n",
      "\u001b[32m2025-01-31 15:51:14.008\u001b[0m | \u001b[1mINFO    \u001b[0m | \u001b[36m__main__\u001b[0m:\u001b[36m<module>\u001b[0m:\u001b[36m10\u001b[0m - \u001b[1m🔹 SecondLargestPropertyUseType : object | Types Python rencontrés : float, str\u001b[0m\n",
      "\u001b[32m2025-01-31 15:51:14.009\u001b[0m | \u001b[1mINFO    \u001b[0m | \u001b[36m__main__\u001b[0m:\u001b[36m<module>\u001b[0m:\u001b[36m10\u001b[0m - \u001b[1m🔹 SecondLargestPropertyUseTypeGFA : float64 | Types Python rencontrés : float\u001b[0m\n",
      "\u001b[32m2025-01-31 15:51:14.009\u001b[0m | \u001b[1mINFO    \u001b[0m | \u001b[36m__main__\u001b[0m:\u001b[36m<module>\u001b[0m:\u001b[36m10\u001b[0m - \u001b[1m🔹 ThirdLargestPropertyUseType : object | Types Python rencontrés : float, str\u001b[0m\n",
      "\u001b[32m2025-01-31 15:51:14.010\u001b[0m | \u001b[1mINFO    \u001b[0m | \u001b[36m__main__\u001b[0m:\u001b[36m<module>\u001b[0m:\u001b[36m10\u001b[0m - \u001b[1m🔹 ThirdLargestPropertyUseTypeGFA : float64 | Types Python rencontrés : float\u001b[0m\n",
      "\u001b[32m2025-01-31 15:51:14.011\u001b[0m | \u001b[1mINFO    \u001b[0m | \u001b[36m__main__\u001b[0m:\u001b[36m<module>\u001b[0m:\u001b[36m10\u001b[0m - \u001b[1m🔹 YearsENERGYSTARCertified : object | Types Python rencontrés : float, str\u001b[0m\n",
      "\u001b[32m2025-01-31 15:51:14.012\u001b[0m | \u001b[1mINFO    \u001b[0m | \u001b[36m__main__\u001b[0m:\u001b[36m<module>\u001b[0m:\u001b[36m10\u001b[0m - \u001b[1m🔹 ENERGYSTARScore : float64 | Types Python rencontrés : float\u001b[0m\n",
      "\u001b[32m2025-01-31 15:51:14.013\u001b[0m | \u001b[1mINFO    \u001b[0m | \u001b[36m__main__\u001b[0m:\u001b[36m<module>\u001b[0m:\u001b[36m10\u001b[0m - \u001b[1m🔹 SiteEUI(kBtu/sf) : float64 | Types Python rencontrés : float\u001b[0m\n",
      "\u001b[32m2025-01-31 15:51:14.014\u001b[0m | \u001b[1mINFO    \u001b[0m | \u001b[36m__main__\u001b[0m:\u001b[36m<module>\u001b[0m:\u001b[36m10\u001b[0m - \u001b[1m🔹 SiteEUIWN(kBtu/sf) : float64 | Types Python rencontrés : float\u001b[0m\n",
      "\u001b[32m2025-01-31 15:51:14.015\u001b[0m | \u001b[1mINFO    \u001b[0m | \u001b[36m__main__\u001b[0m:\u001b[36m<module>\u001b[0m:\u001b[36m10\u001b[0m - \u001b[1m🔹 SourceEUI(kBtu/sf) : float64 | Types Python rencontrés : float\u001b[0m\n",
      "\u001b[32m2025-01-31 15:51:14.016\u001b[0m | \u001b[1mINFO    \u001b[0m | \u001b[36m__main__\u001b[0m:\u001b[36m<module>\u001b[0m:\u001b[36m10\u001b[0m - \u001b[1m🔹 SourceEUIWN(kBtu/sf) : float64 | Types Python rencontrés : float\u001b[0m\n",
      "\u001b[32m2025-01-31 15:51:14.017\u001b[0m | \u001b[1mINFO    \u001b[0m | \u001b[36m__main__\u001b[0m:\u001b[36m<module>\u001b[0m:\u001b[36m10\u001b[0m - \u001b[1m🔹 SiteEnergyUse(kBtu) : float64 | Types Python rencontrés : float\u001b[0m\n",
      "\u001b[32m2025-01-31 15:51:14.018\u001b[0m | \u001b[1mINFO    \u001b[0m | \u001b[36m__main__\u001b[0m:\u001b[36m<module>\u001b[0m:\u001b[36m10\u001b[0m - \u001b[1m🔹 SiteEnergyUseWN(kBtu) : float64 | Types Python rencontrés : float\u001b[0m\n",
      "\u001b[32m2025-01-31 15:51:14.019\u001b[0m | \u001b[1mINFO    \u001b[0m | \u001b[36m__main__\u001b[0m:\u001b[36m<module>\u001b[0m:\u001b[36m10\u001b[0m - \u001b[1m🔹 SteamUse(kBtu) : float64 | Types Python rencontrés : float\u001b[0m\n",
      "\u001b[32m2025-01-31 15:51:14.020\u001b[0m | \u001b[1mINFO    \u001b[0m | \u001b[36m__main__\u001b[0m:\u001b[36m<module>\u001b[0m:\u001b[36m10\u001b[0m - \u001b[1m🔹 Electricity(kWh) : float64 | Types Python rencontrés : float\u001b[0m\n",
      "\u001b[32m2025-01-31 15:51:14.021\u001b[0m | \u001b[1mINFO    \u001b[0m | \u001b[36m__main__\u001b[0m:\u001b[36m<module>\u001b[0m:\u001b[36m10\u001b[0m - \u001b[1m🔹 Electricity(kBtu) : float64 | Types Python rencontrés : float\u001b[0m\n",
      "\u001b[32m2025-01-31 15:51:14.022\u001b[0m | \u001b[1mINFO    \u001b[0m | \u001b[36m__main__\u001b[0m:\u001b[36m<module>\u001b[0m:\u001b[36m10\u001b[0m - \u001b[1m🔹 NaturalGas(therms) : float64 | Types Python rencontrés : float\u001b[0m\n",
      "\u001b[32m2025-01-31 15:51:14.022\u001b[0m | \u001b[1mINFO    \u001b[0m | \u001b[36m__main__\u001b[0m:\u001b[36m<module>\u001b[0m:\u001b[36m10\u001b[0m - \u001b[1m🔹 NaturalGas(kBtu) : float64 | Types Python rencontrés : float\u001b[0m\n",
      "\u001b[32m2025-01-31 15:51:14.023\u001b[0m | \u001b[1mINFO    \u001b[0m | \u001b[36m__main__\u001b[0m:\u001b[36m<module>\u001b[0m:\u001b[36m10\u001b[0m - \u001b[1m🔹 DefaultData : bool | Types Python rencontrés : bool\u001b[0m\n",
      "\u001b[32m2025-01-31 15:51:14.024\u001b[0m | \u001b[1mINFO    \u001b[0m | \u001b[36m__main__\u001b[0m:\u001b[36m<module>\u001b[0m:\u001b[36m10\u001b[0m - \u001b[1m🔹 Comments : float64 | Types Python rencontrés : float\u001b[0m\n",
      "\u001b[32m2025-01-31 15:51:14.025\u001b[0m | \u001b[1mINFO    \u001b[0m | \u001b[36m__main__\u001b[0m:\u001b[36m<module>\u001b[0m:\u001b[36m10\u001b[0m - \u001b[1m🔹 ComplianceStatus : object | Types Python rencontrés : str\u001b[0m\n",
      "\u001b[32m2025-01-31 15:51:14.026\u001b[0m | \u001b[1mINFO    \u001b[0m | \u001b[36m__main__\u001b[0m:\u001b[36m<module>\u001b[0m:\u001b[36m10\u001b[0m - \u001b[1m🔹 Outlier : object | Types Python rencontrés : float, str\u001b[0m\n",
      "\u001b[32m2025-01-31 15:51:14.027\u001b[0m | \u001b[1mINFO    \u001b[0m | \u001b[36m__main__\u001b[0m:\u001b[36m<module>\u001b[0m:\u001b[36m10\u001b[0m - \u001b[1m🔹 TotalGHGEmissions : float64 | Types Python rencontrés : float\u001b[0m\n",
      "\u001b[32m2025-01-31 15:51:14.028\u001b[0m | \u001b[1mINFO    \u001b[0m | \u001b[36m__main__\u001b[0m:\u001b[36m<module>\u001b[0m:\u001b[36m10\u001b[0m - \u001b[1m🔹 GHGEmissionsIntensity : float64 | Types Python rencontrés : float\u001b[0m\n",
      "\u001b[32m2025-01-31 15:51:14.028\u001b[0m | \u001b[1mINFO    \u001b[0m | \u001b[36m__main__\u001b[0m:\u001b[36m<module>\u001b[0m:\u001b[36m11\u001b[0m - \u001b[1m============================================================\u001b[0m\n",
      "\u001b[32m2025-01-31 15:51:14.029\u001b[0m | \u001b[1mINFO    \u001b[0m | \u001b[36m__main__\u001b[0m:\u001b[36m<module>\u001b[0m:\u001b[36m12\u001b[0m - \u001b[1m📋 Types des colonnes inspectés avec succès.\u001b[0m\n",
      "\u001b[32m2025-01-31 15:51:14.029\u001b[0m | \u001b[1mINFO    \u001b[0m | \u001b[36m__main__\u001b[0m:\u001b[36m<module>\u001b[0m:\u001b[36m17\u001b[0m - \u001b[1m============================================================\u001b[0m\n",
      "\u001b[32m2025-01-31 15:51:14.032\u001b[0m | \u001b[33m\u001b[1mWARNING \u001b[0m | \u001b[36m__main__\u001b[0m:\u001b[36m<module>\u001b[0m:\u001b[36m22\u001b[0m - \u001b[33m\u001b[1m⚠️ Colonnes suspectes pouvant contenir des valeurs numériques : ['BuildingType', 'PrimaryPropertyType', 'PropertyName', 'Address', 'City', 'State', 'TaxParcelIdentificationNumber', 'Neighborhood', 'ListOfAllPropertyUseTypes', 'LargestPropertyUseType', 'SecondLargestPropertyUseType', 'ThirdLargestPropertyUseType', 'YearsENERGYSTARCertified', 'ComplianceStatus', 'Outlier']\u001b[0m\n",
      "\u001b[32m2025-01-31 15:51:14.033\u001b[0m | \u001b[1mINFO    \u001b[0m | \u001b[36m__main__\u001b[0m:\u001b[36m<module>\u001b[0m:\u001b[36m27\u001b[0m - \u001b[1m🔹 BuildingType - 5 valeurs uniques : ['NonResidential' 'Nonresidential COS' 'SPS-District K-12' 'Campus'\n",
      " 'Nonresidential WA'] ...\u001b[0m\n",
      "\u001b[32m2025-01-31 15:51:14.033\u001b[0m | \u001b[1mINFO    \u001b[0m | \u001b[36m__main__\u001b[0m:\u001b[36m<module>\u001b[0m:\u001b[36m27\u001b[0m - \u001b[1m🔹 PrimaryPropertyType - 22 valeurs uniques : ['Hotel' 'Other' 'Mixed Use Property' 'K-12 School' 'University'] ...\u001b[0m\n",
      "\u001b[32m2025-01-31 15:51:14.034\u001b[0m | \u001b[1mINFO    \u001b[0m | \u001b[36m__main__\u001b[0m:\u001b[36m<module>\u001b[0m:\u001b[36m27\u001b[0m - \u001b[1m🔹 PropertyName - 1664 valeurs uniques : ['Mayflower park hotel' 'Paramount Hotel' '5673-The Westin Seattle'\n",
      " 'HOTEL MAX' 'WARWICK SEATTLE HOTEL (ID8)'] ...\u001b[0m\n",
      "\u001b[32m2025-01-31 15:51:14.035\u001b[0m | \u001b[1mINFO    \u001b[0m | \u001b[36m__main__\u001b[0m:\u001b[36m<module>\u001b[0m:\u001b[36m27\u001b[0m - \u001b[1m🔹 Address - 1647 valeurs uniques : ['405 Olive way' '724 Pine street' '1900 5th Avenue' '620 STEWART ST'\n",
      " '401 LENORA ST'] ...\u001b[0m\n",
      "\u001b[32m2025-01-31 15:51:14.035\u001b[0m | \u001b[1mINFO    \u001b[0m | \u001b[36m__main__\u001b[0m:\u001b[36m<module>\u001b[0m:\u001b[36m27\u001b[0m - \u001b[1m🔹 City - 1 valeurs uniques : ['Seattle'] ...\u001b[0m\n",
      "\u001b[32m2025-01-31 15:51:14.036\u001b[0m | \u001b[1mINFO    \u001b[0m | \u001b[36m__main__\u001b[0m:\u001b[36m<module>\u001b[0m:\u001b[36m27\u001b[0m - \u001b[1m🔹 State - 1 valeurs uniques : ['WA'] ...\u001b[0m\n",
      "\u001b[32m2025-01-31 15:51:14.036\u001b[0m | \u001b[1mINFO    \u001b[0m | \u001b[36m__main__\u001b[0m:\u001b[36m<module>\u001b[0m:\u001b[36m27\u001b[0m - \u001b[1m🔹 TaxParcelIdentificationNumber - 1587 valeurs uniques : ['0659000030' '0659000220' '0659000475' '0659000640' '0659000970'] ...\u001b[0m\n",
      "\u001b[32m2025-01-31 15:51:14.037\u001b[0m | \u001b[1mINFO    \u001b[0m | \u001b[36m__main__\u001b[0m:\u001b[36m<module>\u001b[0m:\u001b[36m27\u001b[0m - \u001b[1m🔹 Neighborhood - 19 valeurs uniques : ['DOWNTOWN' 'SOUTHEAST' 'NORTHEAST' 'EAST' 'Central'] ...\u001b[0m\n",
      "\u001b[32m2025-01-31 15:51:14.038\u001b[0m | \u001b[1mINFO    \u001b[0m | \u001b[36m__main__\u001b[0m:\u001b[36m<module>\u001b[0m:\u001b[36m27\u001b[0m - \u001b[1m🔹 ListOfAllPropertyUseTypes - 374 valeurs uniques : ['Hotel' 'Hotel, Parking, Restaurant' 'Hotel, Parking, Swimming Pool'\n",
      " 'Police Station' 'Other - Entertainment/Public Assembly'] ...\u001b[0m\n",
      "\u001b[32m2025-01-31 15:51:14.038\u001b[0m | \u001b[1mINFO    \u001b[0m | \u001b[36m__main__\u001b[0m:\u001b[36m<module>\u001b[0m:\u001b[36m27\u001b[0m - \u001b[1m🔹 LargestPropertyUseType - 57 valeurs uniques : ['Hotel' 'Police Station' 'Other - Entertainment/Public Assembly'\n",
      " 'Library' 'Fitness Center/Health Club/Gym'] ...\u001b[0m\n",
      "\u001b[32m2025-01-31 15:51:14.039\u001b[0m | \u001b[1mINFO    \u001b[0m | \u001b[36m__main__\u001b[0m:\u001b[36m<module>\u001b[0m:\u001b[36m27\u001b[0m - \u001b[1m🔹 SecondLargestPropertyUseType - 48 valeurs uniques : [nan 'Parking' 'Office' 'Restaurant' 'K-12 School'] ...\u001b[0m\n",
      "\u001b[32m2025-01-31 15:51:14.039\u001b[0m | \u001b[1mINFO    \u001b[0m | \u001b[36m__main__\u001b[0m:\u001b[36m<module>\u001b[0m:\u001b[36m27\u001b[0m - \u001b[1m🔹 ThirdLargestPropertyUseType - 40 valeurs uniques : [nan 'Restaurant' 'Swimming Pool' 'Data Center' 'Office'] ...\u001b[0m\n",
      "\u001b[32m2025-01-31 15:51:14.039\u001b[0m | \u001b[1mINFO    \u001b[0m | \u001b[36m__main__\u001b[0m:\u001b[36m<module>\u001b[0m:\u001b[36m27\u001b[0m - \u001b[1m🔹 YearsENERGYSTARCertified - 65 valeurs uniques : [nan '2016' '2014' '2012' '20172015'] ...\u001b[0m\n",
      "\u001b[32m2025-01-31 15:51:14.040\u001b[0m | \u001b[1mINFO    \u001b[0m | \u001b[36m__main__\u001b[0m:\u001b[36m<module>\u001b[0m:\u001b[36m27\u001b[0m - \u001b[1m🔹 ComplianceStatus - 4 valeurs uniques : ['Compliant' 'Error - Correct Default Data' 'Missing Data' 'Non-Compliant'] ...\u001b[0m\n",
      "\u001b[32m2025-01-31 15:51:14.041\u001b[0m | \u001b[1mINFO    \u001b[0m | \u001b[36m__main__\u001b[0m:\u001b[36m<module>\u001b[0m:\u001b[36m27\u001b[0m - \u001b[1m🔹 Outlier - 3 valeurs uniques : [nan 'High outlier' 'Low outlier'] ...\u001b[0m\n"
     ]
    }
   ],
   "source": [
    "# Vérification des types des colonnes\n",
    "logger.info(\"=\" * 60)\n",
    "logger.info(\"📊 Types des colonnes pour le DataFrame 'building_consumption\")\n",
    "logger.info(\"=\" * 60)\n",
    "\n",
    "try:\n",
    "    for col in building_consumption.columns:\n",
    "        col_type = building_consumption[col].dtype  # Type de données pandas (int64, float64, object, etc.)\n",
    "        unique_types = building_consumption[col].apply(lambda x: type(x).__name__).unique()\n",
    "        logger.info(f\"🔹 {col} : {col_type} | Types Python rencontrés : {', '.join(unique_types)}\")\n",
    "    logger.info(\"=\" * 60)\n",
    "    logger.info(\"📋 Types des colonnes inspectés avec succès.\")\n",
    "except Exception as e:\n",
    "    logger.error(f\"Erreur lors de l'inspection des types des colonnes : {e}\")\n",
    "    raise\n",
    "\n",
    "logger.info(\"=\" * 60)\n",
    "\n",
    "# 🔍 Détection des colonnes numériques mal encodées en 'object'\n",
    "wrong_types = building_consumption.select_dtypes(include=['object']).columns\n",
    "if len(wrong_types) > 0:\n",
    "    logger.warning(f\"⚠️ Colonnes suspectes pouvant contenir des valeurs numériques : {list(wrong_types)}\")\n",
    "\n",
    "    # Vérification des valeurs uniques pour voir si elles sont mal typées\n",
    "    for col in wrong_types:\n",
    "        unique_values = building_consumption[col].unique()\n",
    "        logger.info(f\"🔹 {col} - {len(unique_values)} valeurs uniques : {unique_values[:5]} ...\")\n",
    "else:\n",
    "    logger.info(\"✅ Aucune colonne suspecte trouvée parmi les types 'object'.\")\n"
   ]
  },
  {
   "cell_type": "code",
   "execution_count": 8,
   "metadata": {},
   "outputs": [
    {
     "name": "stderr",
     "output_type": "stream",
     "text": [
      "\u001b[32m2025-01-31 15:51:14.065\u001b[0m | \u001b[1mINFO    \u001b[0m | \u001b[36m__main__\u001b[0m:\u001b[36m<module>\u001b[0m:\u001b[36m13\u001b[0m - \u001b[1m============================================================\u001b[0m\n",
      "\u001b[32m2025-01-31 15:51:14.065\u001b[0m | \u001b[1mINFO    \u001b[0m | \u001b[36m__main__\u001b[0m:\u001b[36m<module>\u001b[0m:\u001b[36m14\u001b[0m - \u001b[1m🔍 Valeurs aberrantes détectées :\u001b[0m\n",
      "\u001b[32m2025-01-31 15:51:14.066\u001b[0m | \u001b[1mINFO    \u001b[0m | \u001b[36m__main__\u001b[0m:\u001b[36m<module>\u001b[0m:\u001b[36m15\u001b[0m - \u001b[1m============================================================\u001b[0m\n",
      "\u001b[32m2025-01-31 15:51:14.067\u001b[0m | \u001b[1mINFO    \u001b[0m | \u001b[36m__main__\u001b[0m:\u001b[36m<module>\u001b[0m:\u001b[36m17\u001b[0m - \u001b[1m📌 ZipCode : 51 valeurs aberrantes détectées\u001b[0m\n",
      "\u001b[32m2025-01-31 15:51:14.067\u001b[0m | \u001b[1mINFO    \u001b[0m | \u001b[36m__main__\u001b[0m:\u001b[36m<module>\u001b[0m:\u001b[36m17\u001b[0m - \u001b[1m📌 Longitude : 199 valeurs aberrantes détectées\u001b[0m\n",
      "\u001b[32m2025-01-31 15:51:14.068\u001b[0m | \u001b[1mINFO    \u001b[0m | \u001b[36m__main__\u001b[0m:\u001b[36m<module>\u001b[0m:\u001b[36m17\u001b[0m - \u001b[1m📌 NumberofBuildings : 105 valeurs aberrantes détectées\u001b[0m\n",
      "\u001b[32m2025-01-31 15:51:14.068\u001b[0m | \u001b[1mINFO    \u001b[0m | \u001b[36m__main__\u001b[0m:\u001b[36m<module>\u001b[0m:\u001b[36m17\u001b[0m - \u001b[1m📌 NumberofFloors : 138 valeurs aberrantes détectées\u001b[0m\n",
      "\u001b[32m2025-01-31 15:51:14.069\u001b[0m | \u001b[1mINFO    \u001b[0m | \u001b[36m__main__\u001b[0m:\u001b[36m<module>\u001b[0m:\u001b[36m17\u001b[0m - \u001b[1m📌 PropertyGFATotal : 203 valeurs aberrantes détectées\u001b[0m\n",
      "\u001b[32m2025-01-31 15:51:14.069\u001b[0m | \u001b[1mINFO    \u001b[0m | \u001b[36m__main__\u001b[0m:\u001b[36m<module>\u001b[0m:\u001b[36m17\u001b[0m - \u001b[1m📌 PropertyGFAParking : 333 valeurs aberrantes détectées\u001b[0m\n",
      "\u001b[32m2025-01-31 15:51:14.070\u001b[0m | \u001b[1mINFO    \u001b[0m | \u001b[36m__main__\u001b[0m:\u001b[36m<module>\u001b[0m:\u001b[36m17\u001b[0m - \u001b[1m📌 PropertyGFABuilding(s) : 181 valeurs aberrantes détectées\u001b[0m\n",
      "\u001b[32m2025-01-31 15:51:14.070\u001b[0m | \u001b[1mINFO    \u001b[0m | \u001b[36m__main__\u001b[0m:\u001b[36m<module>\u001b[0m:\u001b[36m17\u001b[0m - \u001b[1m📌 LargestPropertyUseTypeGFA : 173 valeurs aberrantes détectées\u001b[0m\n",
      "\u001b[32m2025-01-31 15:51:14.071\u001b[0m | \u001b[1mINFO    \u001b[0m | \u001b[36m__main__\u001b[0m:\u001b[36m<module>\u001b[0m:\u001b[36m17\u001b[0m - \u001b[1m📌 SecondLargestPropertyUseTypeGFA : 120 valeurs aberrantes détectées\u001b[0m\n",
      "\u001b[32m2025-01-31 15:51:14.071\u001b[0m | \u001b[1mINFO    \u001b[0m | \u001b[36m__main__\u001b[0m:\u001b[36m<module>\u001b[0m:\u001b[36m17\u001b[0m - \u001b[1m📌 ThirdLargestPropertyUseTypeGFA : 36 valeurs aberrantes détectées\u001b[0m\n",
      "\u001b[32m2025-01-31 15:51:14.071\u001b[0m | \u001b[1mINFO    \u001b[0m | \u001b[36m__main__\u001b[0m:\u001b[36m<module>\u001b[0m:\u001b[36m17\u001b[0m - \u001b[1m📌 SiteEUI(kBtu/sf) : 159 valeurs aberrantes détectées\u001b[0m\n",
      "\u001b[32m2025-01-31 15:51:14.072\u001b[0m | \u001b[1mINFO    \u001b[0m | \u001b[36m__main__\u001b[0m:\u001b[36m<module>\u001b[0m:\u001b[36m17\u001b[0m - \u001b[1m📌 SiteEUIWN(kBtu/sf) : 153 valeurs aberrantes détectées\u001b[0m\n",
      "\u001b[32m2025-01-31 15:51:14.072\u001b[0m | \u001b[1mINFO    \u001b[0m | \u001b[36m__main__\u001b[0m:\u001b[36m<module>\u001b[0m:\u001b[36m17\u001b[0m - \u001b[1m📌 SourceEUI(kBtu/sf) : 136 valeurs aberrantes détectées\u001b[0m\n",
      "\u001b[32m2025-01-31 15:51:14.073\u001b[0m | \u001b[1mINFO    \u001b[0m | \u001b[36m__main__\u001b[0m:\u001b[36m<module>\u001b[0m:\u001b[36m17\u001b[0m - \u001b[1m📌 SourceEUIWN(kBtu/sf) : 137 valeurs aberrantes détectées\u001b[0m\n",
      "\u001b[32m2025-01-31 15:51:14.074\u001b[0m | \u001b[1mINFO    \u001b[0m | \u001b[36m__main__\u001b[0m:\u001b[36m<module>\u001b[0m:\u001b[36m17\u001b[0m - \u001b[1m📌 SiteEnergyUse(kBtu) : 188 valeurs aberrantes détectées\u001b[0m\n",
      "\u001b[32m2025-01-31 15:51:14.074\u001b[0m | \u001b[1mINFO    \u001b[0m | \u001b[36m__main__\u001b[0m:\u001b[36m<module>\u001b[0m:\u001b[36m17\u001b[0m - \u001b[1m📌 SiteEnergyUseWN(kBtu) : 185 valeurs aberrantes détectées\u001b[0m\n",
      "\u001b[32m2025-01-31 15:51:14.075\u001b[0m | \u001b[1mINFO    \u001b[0m | \u001b[36m__main__\u001b[0m:\u001b[36m<module>\u001b[0m:\u001b[36m17\u001b[0m - \u001b[1m📌 SteamUse(kBtu) : 114 valeurs aberrantes détectées\u001b[0m\n",
      "\u001b[32m2025-01-31 15:51:14.075\u001b[0m | \u001b[1mINFO    \u001b[0m | \u001b[36m__main__\u001b[0m:\u001b[36m<module>\u001b[0m:\u001b[36m17\u001b[0m - \u001b[1m📌 Electricity(kWh) : 193 valeurs aberrantes détectées\u001b[0m\n",
      "\u001b[32m2025-01-31 15:51:14.075\u001b[0m | \u001b[1mINFO    \u001b[0m | \u001b[36m__main__\u001b[0m:\u001b[36m<module>\u001b[0m:\u001b[36m17\u001b[0m - \u001b[1m📌 Electricity(kBtu) : 193 valeurs aberrantes détectées\u001b[0m\n",
      "\u001b[32m2025-01-31 15:51:14.076\u001b[0m | \u001b[1mINFO    \u001b[0m | \u001b[36m__main__\u001b[0m:\u001b[36m<module>\u001b[0m:\u001b[36m17\u001b[0m - \u001b[1m📌 NaturalGas(therms) : 184 valeurs aberrantes détectées\u001b[0m\n",
      "\u001b[32m2025-01-31 15:51:14.076\u001b[0m | \u001b[1mINFO    \u001b[0m | \u001b[36m__main__\u001b[0m:\u001b[36m<module>\u001b[0m:\u001b[36m17\u001b[0m - \u001b[1m📌 NaturalGas(kBtu) : 184 valeurs aberrantes détectées\u001b[0m\n",
      "\u001b[32m2025-01-31 15:51:14.077\u001b[0m | \u001b[1mINFO    \u001b[0m | \u001b[36m__main__\u001b[0m:\u001b[36m<module>\u001b[0m:\u001b[36m17\u001b[0m - \u001b[1m📌 TotalGHGEmissions : 178 valeurs aberrantes détectées\u001b[0m\n",
      "\u001b[32m2025-01-31 15:51:14.077\u001b[0m | \u001b[1mINFO    \u001b[0m | \u001b[36m__main__\u001b[0m:\u001b[36m<module>\u001b[0m:\u001b[36m17\u001b[0m - \u001b[1m📌 GHGEmissionsIntensity : 140 valeurs aberrantes détectées\u001b[0m\n",
      "\u001b[32m2025-01-31 15:51:14.078\u001b[0m | \u001b[1mINFO    \u001b[0m | \u001b[36m__main__\u001b[0m:\u001b[36m<module>\u001b[0m:\u001b[36m23\u001b[0m - \u001b[1m🔤 BuildingType contient 5 valeurs uniques\u001b[0m\n",
      "\u001b[32m2025-01-31 15:51:14.079\u001b[0m | \u001b[1mINFO    \u001b[0m | \u001b[36m__main__\u001b[0m:\u001b[36m<module>\u001b[0m:\u001b[36m25\u001b[0m - \u001b[1mValeurs uniques dans BuildingType : ['NonResidential' 'Nonresidential COS' 'SPS-District K-12' 'Campus'\n",
      " 'Nonresidential WA']\u001b[0m\n",
      "\u001b[32m2025-01-31 15:51:14.080\u001b[0m | \u001b[1mINFO    \u001b[0m | \u001b[36m__main__\u001b[0m:\u001b[36m<module>\u001b[0m:\u001b[36m23\u001b[0m - \u001b[1m🔤 PrimaryPropertyType contient 22 valeurs uniques\u001b[0m\n",
      "\u001b[32m2025-01-31 15:51:14.080\u001b[0m | \u001b[1mINFO    \u001b[0m | \u001b[36m__main__\u001b[0m:\u001b[36m<module>\u001b[0m:\u001b[36m23\u001b[0m - \u001b[1m🔤 PropertyName contient 1664 valeurs uniques\u001b[0m\n",
      "\u001b[32m2025-01-31 15:51:14.081\u001b[0m | \u001b[1mINFO    \u001b[0m | \u001b[36m__main__\u001b[0m:\u001b[36m<module>\u001b[0m:\u001b[36m23\u001b[0m - \u001b[1m🔤 Address contient 1647 valeurs uniques\u001b[0m\n",
      "\u001b[32m2025-01-31 15:51:14.082\u001b[0m | \u001b[1mINFO    \u001b[0m | \u001b[36m__main__\u001b[0m:\u001b[36m<module>\u001b[0m:\u001b[36m23\u001b[0m - \u001b[1m🔤 City contient 1 valeurs uniques\u001b[0m\n",
      "\u001b[32m2025-01-31 15:51:14.082\u001b[0m | \u001b[1mINFO    \u001b[0m | \u001b[36m__main__\u001b[0m:\u001b[36m<module>\u001b[0m:\u001b[36m25\u001b[0m - \u001b[1mValeurs uniques dans City : ['Seattle']\u001b[0m\n",
      "\u001b[32m2025-01-31 15:51:14.083\u001b[0m | \u001b[1mINFO    \u001b[0m | \u001b[36m__main__\u001b[0m:\u001b[36m<module>\u001b[0m:\u001b[36m23\u001b[0m - \u001b[1m🔤 State contient 1 valeurs uniques\u001b[0m\n",
      "\u001b[32m2025-01-31 15:51:14.083\u001b[0m | \u001b[1mINFO    \u001b[0m | \u001b[36m__main__\u001b[0m:\u001b[36m<module>\u001b[0m:\u001b[36m25\u001b[0m - \u001b[1mValeurs uniques dans State : ['WA']\u001b[0m\n",
      "\u001b[32m2025-01-31 15:51:14.084\u001b[0m | \u001b[1mINFO    \u001b[0m | \u001b[36m__main__\u001b[0m:\u001b[36m<module>\u001b[0m:\u001b[36m23\u001b[0m - \u001b[1m🔤 TaxParcelIdentificationNumber contient 1587 valeurs uniques\u001b[0m\n",
      "\u001b[32m2025-01-31 15:51:14.084\u001b[0m | \u001b[1mINFO    \u001b[0m | \u001b[36m__main__\u001b[0m:\u001b[36m<module>\u001b[0m:\u001b[36m23\u001b[0m - \u001b[1m🔤 Neighborhood contient 19 valeurs uniques\u001b[0m\n",
      "\u001b[32m2025-01-31 15:51:14.085\u001b[0m | \u001b[1mINFO    \u001b[0m | \u001b[36m__main__\u001b[0m:\u001b[36m<module>\u001b[0m:\u001b[36m23\u001b[0m - \u001b[1m🔤 ListOfAllPropertyUseTypes contient 373 valeurs uniques\u001b[0m\n",
      "\u001b[32m2025-01-31 15:51:14.085\u001b[0m | \u001b[1mINFO    \u001b[0m | \u001b[36m__main__\u001b[0m:\u001b[36m<module>\u001b[0m:\u001b[36m23\u001b[0m - \u001b[1m🔤 LargestPropertyUseType contient 56 valeurs uniques\u001b[0m\n",
      "\u001b[32m2025-01-31 15:51:14.086\u001b[0m | \u001b[1mINFO    \u001b[0m | \u001b[36m__main__\u001b[0m:\u001b[36m<module>\u001b[0m:\u001b[36m23\u001b[0m - \u001b[1m🔤 SecondLargestPropertyUseType contient 47 valeurs uniques\u001b[0m\n",
      "\u001b[32m2025-01-31 15:51:14.086\u001b[0m | \u001b[1mINFO    \u001b[0m | \u001b[36m__main__\u001b[0m:\u001b[36m<module>\u001b[0m:\u001b[36m23\u001b[0m - \u001b[1m🔤 ThirdLargestPropertyUseType contient 39 valeurs uniques\u001b[0m\n",
      "\u001b[32m2025-01-31 15:51:14.087\u001b[0m | \u001b[1mINFO    \u001b[0m | \u001b[36m__main__\u001b[0m:\u001b[36m<module>\u001b[0m:\u001b[36m23\u001b[0m - \u001b[1m🔤 YearsENERGYSTARCertified contient 64 valeurs uniques\u001b[0m\n",
      "\u001b[32m2025-01-31 15:51:14.087\u001b[0m | \u001b[1mINFO    \u001b[0m | \u001b[36m__main__\u001b[0m:\u001b[36m<module>\u001b[0m:\u001b[36m23\u001b[0m - \u001b[1m🔤 ComplianceStatus contient 4 valeurs uniques\u001b[0m\n",
      "\u001b[32m2025-01-31 15:51:14.088\u001b[0m | \u001b[1mINFO    \u001b[0m | \u001b[36m__main__\u001b[0m:\u001b[36m<module>\u001b[0m:\u001b[36m25\u001b[0m - \u001b[1mValeurs uniques dans ComplianceStatus : ['Compliant' 'Error - Correct Default Data' 'Missing Data' 'Non-Compliant']\u001b[0m\n",
      "\u001b[32m2025-01-31 15:51:14.088\u001b[0m | \u001b[1mINFO    \u001b[0m | \u001b[36m__main__\u001b[0m:\u001b[36m<module>\u001b[0m:\u001b[36m23\u001b[0m - \u001b[1m🔤 Outlier contient 2 valeurs uniques\u001b[0m\n",
      "\u001b[32m2025-01-31 15:51:14.089\u001b[0m | \u001b[1mINFO    \u001b[0m | \u001b[36m__main__\u001b[0m:\u001b[36m<module>\u001b[0m:\u001b[36m25\u001b[0m - \u001b[1mValeurs uniques dans Outlier : [nan 'High outlier' 'Low outlier']\u001b[0m\n"
     ]
    }
   ],
   "source": [
    "# Détection des valeurs aberrantes pour les variables numériques\n",
    "numeric_columns = building_consumption.select_dtypes(include=[np.number]).columns\n",
    "outliers = {}\n",
    "for col in numeric_columns:\n",
    "    q1 = building_consumption[col].quantile(0.25)\n",
    "    q3 = building_consumption[col].quantile(0.75)\n",
    "    iqr = q3 - q1\n",
    "    lower_bound = q1 - 1.5 * iqr\n",
    "    upper_bound = q3 + 1.5 * iqr\n",
    "    outlier_count = ((building_consumption[col] < lower_bound) | (building_consumption[col] > upper_bound)).sum()\n",
    "    if outlier_count > 0:\n",
    "        outliers[col] = outlier_count\n",
    "logger.info(\"=\" * 60)\n",
    "logger.info(\"🔍 Valeurs aberrantes détectées :\")\n",
    "logger.info(\"=\" * 60)\n",
    "for col, count in outliers.items():\n",
    "    logger.info(f\"📌 {col} : {count} valeurs aberrantes détectées\")\n",
    "\n",
    "# Vérification des erreurs typographiques pour les variables catégoriques\n",
    "categorical_columns = building_consumption.select_dtypes(include=['object']).columns\n",
    "for col in categorical_columns:\n",
    "    unique_values = building_consumption[col].nunique()\n",
    "    logger.info(f\"🔤 {col} contient {unique_values} valeurs uniques\")\n",
    "    if unique_values < 10:  # Seuil arbitraire pour l'affichage\n",
    "        logger.info(f\"Valeurs uniques dans {col} : {building_consumption[col].unique()}\")"
   ]
  },
  {
   "cell_type": "code",
   "execution_count": 9,
   "metadata": {},
   "outputs": [
    {
     "name": "stderr",
     "output_type": "stream",
     "text": [
      "\u001b[32m2025-01-31 15:51:14.095\u001b[0m | \u001b[1mINFO    \u001b[0m | \u001b[36m__main__\u001b[0m:\u001b[36m<module>\u001b[0m:\u001b[36m1\u001b[0m - \u001b[1m============================================================\u001b[0m\n",
      "\u001b[32m2025-01-31 15:51:14.098\u001b[0m | \u001b[1mINFO    \u001b[0m | \u001b[36m__main__\u001b[0m:\u001b[36m<module>\u001b[0m:\u001b[36m5\u001b[0m - \u001b[1m📌 Suppression des colonnes avec une seule valeur unique : ['City', 'State']\u001b[0m\n",
      "\u001b[32m2025-01-31 15:51:14.101\u001b[0m | \u001b[1mINFO    \u001b[0m | \u001b[36m__main__\u001b[0m:\u001b[36m<module>\u001b[0m:\u001b[36m7\u001b[0m - \u001b[1m--------------------\u001b[0m\n",
      "\u001b[32m2025-01-31 15:51:14.103\u001b[0m | \u001b[1mINFO    \u001b[0m | \u001b[36m__main__\u001b[0m:\u001b[36m<module>\u001b[0m:\u001b[36m10\u001b[0m - \u001b[1m📌 Suppression des colonnes sans valeur analytique : ['PropertyName', 'Address', 'TaxParcelIdentificationNumber', 'ListOfAllPropertyUseTypes']\u001b[0m\n",
      "\u001b[32m2025-01-31 15:51:14.104\u001b[0m | \u001b[1mINFO    \u001b[0m | \u001b[36m__main__\u001b[0m:\u001b[36m<module>\u001b[0m:\u001b[36m12\u001b[0m - \u001b[1m============================================================\u001b[0m\n"
     ]
    }
   ],
   "source": [
    "logger.info(\"=\" * 60)\n",
    "# Suppression des colonnes ayant une seule valeur unique\n",
    "unique_value_columns = [col for col in categorical_columns if building_consumption[col].nunique() == 1]\n",
    "if unique_value_columns:\n",
    "    logger.info(f\"📌 Suppression des colonnes avec une seule valeur unique : {unique_value_columns}\")\n",
    "    building_consumption.drop(columns=unique_value_columns, inplace=True)\n",
    "logger.info(\"-\" * 20)\n",
    "# Suppression des colonnes sans intérêt pour l'analyse\n",
    "columns_to_remove = ['PropertyName', 'Address', 'TaxParcelIdentificationNumber', 'ListOfAllPropertyUseTypes']\n",
    "logger.info(f\"📌 Suppression des colonnes sans valeur analytique : {columns_to_remove}\")\n",
    "building_consumption.drop(columns=columns_to_remove, inplace=True)\n",
    "logger.info(\"=\" * 60)"
   ]
  },
  {
   "cell_type": "code",
   "execution_count": 10,
   "metadata": {},
   "outputs": [
    {
     "name": "stderr",
     "output_type": "stream",
     "text": [
      "\u001b[32m2025-01-31 15:51:14.113\u001b[0m | \u001b[1mINFO    \u001b[0m | \u001b[36m__main__\u001b[0m:\u001b[36m<module>\u001b[0m:\u001b[36m2\u001b[0m - \u001b[1m============================================================\u001b[0m\n",
      "\u001b[32m2025-01-31 15:51:14.115\u001b[0m | \u001b[1mINFO    \u001b[0m | \u001b[36m__main__\u001b[0m:\u001b[36m<module>\u001b[0m:\u001b[36m3\u001b[0m - \u001b[1m📊 Résumé statistique des variables numériques\u001b[0m\n",
      "\u001b[32m2025-01-31 15:51:14.116\u001b[0m | \u001b[1mINFO    \u001b[0m | \u001b[36m__main__\u001b[0m:\u001b[36m<module>\u001b[0m:\u001b[36m4\u001b[0m - \u001b[1m============================================================\u001b[0m\n",
      "\u001b[32m2025-01-31 15:51:14.141\u001b[0m | \u001b[1mINFO    \u001b[0m | \u001b[36m__main__\u001b[0m:\u001b[36m<module>\u001b[0m:\u001b[36m5\u001b[0m - \u001b[1m\n",
      "        OSEBuildingID  DataYear       ZipCode  CouncilDistrictCode     Latitude    Longitude    YearBuilt  NumberofBuildings  NumberofFloors  PropertyGFATotal  PropertyGFAParking  PropertyGFABuilding(s)  LargestPropertyUseTypeGFA  SecondLargestPropertyUseTypeGFA  ThirdLargestPropertyUseTypeGFA  \\\n",
      "count    1668.000000    1668.0   1652.000000          1668.000000  1668.000000  1668.000000  1668.000000        1666.000000     1668.000000      1.668000e+03         1668.000000            1.668000e+03               1.662000e+03                       855.000000                       353.00000   \n",
      "mean    16336.346523    2016.0  98116.819613             4.356715    47.616054  -122.332908  1961.913669           1.168667        4.121103      1.188427e+05        12897.979017            1.059447e+05               9.876469e+04                     36804.160581                     14923.13994   \n",
      "std     13835.292512       0.0     18.430353             2.191048     0.048168     0.024580    32.741755           2.931409        6.563407      2.973622e+05        42274.511185            2.842116e+05               2.767111e+05                     69845.261024                     36790.55656   \n",
      "min         1.000000    2016.0  98006.000000             1.000000    47.499170  -122.411820  1900.000000           0.000000        0.000000      1.128500e+04            0.000000            3.636000e+03               5.656000e+03                         0.000000                         0.00000   \n",
      "25%       582.750000    2016.0  98105.000000             2.000000    47.585458  -122.343280  1930.000000           1.000000        1.000000      2.947775e+04            0.000000            2.847525e+04               2.552750e+04                      5350.000000                      2663.00000   \n",
      "50%     21143.500000    2016.0  98109.000000             4.000000    47.612340  -122.332935  1965.000000           1.000000        2.000000      4.928950e+04            0.000000            4.739150e+04               4.377050e+04                     12000.000000                      5931.00000   \n",
      "75%     24602.250000    2016.0  98125.000000             7.000000    47.649675  -122.321675  1989.000000           1.000000        4.000000      1.053250e+05            0.000000            9.475975e+04               9.198375e+04                     31881.000000                     12941.00000   \n",
      "max     50226.000000    2016.0  98199.000000             7.000000    47.733870  -122.258640  2015.000000         111.000000       99.000000      9.320156e+06       512608.000000            9.320156e+06               9.320156e+06                    686750.000000                    459748.00000   \n",
      "\n",
      "       ENERGYSTARScore  SiteEUI(kBtu/sf)  SiteEUIWN(kBtu/sf)  SourceEUI(kBtu/sf)  SourceEUIWN(kBtu/sf)  SiteEnergyUse(kBtu)  SiteEnergyUseWN(kBtu)  SteamUse(kBtu)  Electricity(kWh)  Electricity(kBtu)  NaturalGas(therms)  NaturalGas(kBtu)  Comments  TotalGHGEmissions  GHGEmissionsIntensity  \n",
      "count      1094.000000       1665.000000         1665.000000         1666.000000           1666.000000         1.666000e+03           1.665000e+03    1.666000e+03      1.666000e+03       1.666000e+03        1.666000e+03      1.666000e+03       0.0        1666.000000            1666.000000  \n",
      "mean         65.449726         72.158799           74.568529          175.829892            178.090876         8.437933e+06           8.064790e+06    5.125726e+05      1.712630e+06       5.843493e+06        1.970845e+04      1.970845e+06       NaN         184.973301               1.607845  \n",
      "std          28.492928         74.048129           75.028403          185.932121            185.918749         3.024380e+07           2.203878e+07    5.513944e+06      6.095172e+06       2.079673e+07        9.370814e+04      9.370814e+06       NaN         751.976001               2.336882  \n",
      "min           1.000000          0.000000            0.000000            0.000000             -2.100000         0.000000e+00           0.000000e+00    0.000000e+00     -3.382680e+04      -1.154170e+05        0.000000e+00      0.000000e+00       NaN          -0.800000              -0.020000  \n",
      "25%          48.000000         33.700001           35.400002           76.450001             79.325003         1.229291e+06           1.294615e+06    0.000000e+00      2.114083e+05       7.213255e+05        0.000000e+00      0.000000e+00       NaN          19.967500               0.350000  \n",
      "50%          73.000000         51.900002           53.900002          130.949997            134.150002         2.554947e+06           2.685146e+06    0.000000e+00      4.724153e+05       1.611881e+06        4.982630e+03      4.982630e+05       NaN          49.580000               0.880000  \n",
      "75%          89.000000         81.699997           85.199997          203.950001            205.700001         6.913348e+06           7.109712e+06    0.000000e+00      1.420747e+06       4.847589e+06        1.520000e+04      1.520000e+06       NaN         142.382500               1.890000  \n",
      "max         100.000000        834.400024          834.400024         2620.000000           2620.000000         8.739237e+08           4.716139e+08    1.349435e+08      1.925775e+08       6.570744e+08        2.979090e+06      2.979090e+08       NaN       16870.980000              34.090000  \u001b[0m\n",
      "\u001b[32m2025-01-31 15:51:14.143\u001b[0m | \u001b[1mINFO    \u001b[0m | \u001b[36m__main__\u001b[0m:\u001b[36m<module>\u001b[0m:\u001b[36m6\u001b[0m - \u001b[1m============================================================\u001b[0m\n"
     ]
    }
   ],
   "source": [
    "# Générer un résumé statistique des variables numériques\n",
    "logger.info(\"=\" * 60)\n",
    "logger.info(\"📊 Résumé statistique des variables numériques\")\n",
    "logger.info(\"=\" * 60)\n",
    "logger.info(f\"\\n {building_consumption.describe()}\")\n",
    "logger.info(\"=\" * 60)"
   ]
  },
  {
   "cell_type": "code",
   "execution_count": 11,
   "metadata": {},
   "outputs": [
    {
     "name": "stderr",
     "output_type": "stream",
     "text": [
      "\u001b[32m2025-01-31 15:51:14.150\u001b[0m | \u001b[1mINFO    \u001b[0m | \u001b[36m__main__\u001b[0m:\u001b[36m<module>\u001b[0m:\u001b[36m2\u001b[0m - \u001b[1m============================================================\u001b[0m\n",
      "\u001b[32m2025-01-31 15:51:14.151\u001b[0m | \u001b[1mINFO    \u001b[0m | \u001b[36m__main__\u001b[0m:\u001b[36m<module>\u001b[0m:\u001b[36m3\u001b[0m - \u001b[1m🔤 Résumé statistique des variables catégoriques\u001b[0m\n",
      "\u001b[32m2025-01-31 15:51:14.152\u001b[0m | \u001b[1mINFO    \u001b[0m | \u001b[36m__main__\u001b[0m:\u001b[36m<module>\u001b[0m:\u001b[36m4\u001b[0m - \u001b[1m============================================================\u001b[0m\n",
      "\u001b[32m2025-01-31 15:51:14.158\u001b[0m | \u001b[1mINFO    \u001b[0m | \u001b[36m__main__\u001b[0m:\u001b[36m<module>\u001b[0m:\u001b[36m5\u001b[0m - \u001b[1m          BuildingType          PrimaryPropertyType Neighborhood LargestPropertyUseType SecondLargestPropertyUseType ThirdLargestPropertyUseType YearsENERGYSTARCertified ComplianceStatus      Outlier\n",
      "count             1668                         1668         1668                   1662                          855                         353                       98             1668           17\n",
      "unique               5                           22           19                     56                           47                          39                       64                4            2\n",
      "top     NonResidential  Small- and Mid-Sized Office     DOWNTOWN                 Office                      Parking                      Office                     2016        Compliant  Low outlier\n",
      "freq              1460                          292          361                    497                          336                          49                       12             1548           15\u001b[0m\n",
      "\u001b[32m2025-01-31 15:51:14.159\u001b[0m | \u001b[1mINFO    \u001b[0m | \u001b[36m__main__\u001b[0m:\u001b[36m<module>\u001b[0m:\u001b[36m6\u001b[0m - \u001b[1m============================================================\u001b[0m\n"
     ]
    }
   ],
   "source": [
    "# Générer un résumé statistique des variables catégoriques\n",
    "logger.info(\"=\" * 60)\n",
    "logger.info(\"🔤 Résumé statistique des variables catégoriques\")\n",
    "logger.info(\"=\" * 60)\n",
    "logger.info(building_consumption.describe(include=['object']))\n",
    "logger.info(\"=\" * 60)"
   ]
  },
  {
   "cell_type": "code",
   "execution_count": 12,
   "metadata": {},
   "outputs": [
    {
     "name": "stderr",
     "output_type": "stream",
     "text": [
      "\u001b[32m2025-01-31 15:51:14.168\u001b[0m | \u001b[1mINFO    \u001b[0m | \u001b[36m__main__\u001b[0m:\u001b[36m<module>\u001b[0m:\u001b[36m2\u001b[0m - \u001b[1m============================================================\u001b[0m\n",
      "\u001b[32m2025-01-31 15:51:14.170\u001b[0m | \u001b[1mINFO    \u001b[0m | \u001b[36m__main__\u001b[0m:\u001b[36m<module>\u001b[0m:\u001b[36m3\u001b[0m - \u001b[1mDébut de l'harmonisation des noms des colonnes du DataFrame\u001b[0m\n",
      "\u001b[32m2025-01-31 15:51:14.170\u001b[0m | \u001b[1mINFO    \u001b[0m | \u001b[36m__main__\u001b[0m:\u001b[36m<module>\u001b[0m:\u001b[36m4\u001b[0m - \u001b[1m============================================================\u001b[0m\n",
      "\u001b[32m2025-01-31 15:51:14.171\u001b[0m | \u001b[1mINFO    \u001b[0m | \u001b[36m__main__\u001b[0m:\u001b[36m<module>\u001b[0m:\u001b[36m64\u001b[0m - \u001b[1m--------------------\u001b[0m\n",
      "\u001b[32m2025-01-31 15:51:14.171\u001b[0m | \u001b[1mINFO    \u001b[0m | \u001b[36m__main__\u001b[0m:\u001b[36m<module>\u001b[0m:\u001b[36m65\u001b[0m - \u001b[1mRenommage des colonnes pour le DataFrame 'building_consumption'...\u001b[0m\n",
      "\u001b[32m2025-01-31 15:51:14.172\u001b[0m | \u001b[1mINFO    \u001b[0m | \u001b[36m__main__\u001b[0m:\u001b[36m<module>\u001b[0m:\u001b[36m66\u001b[0m - \u001b[1m--------------------\u001b[0m\n",
      "\u001b[32m2025-01-31 15:51:14.173\u001b[0m | \u001b[1mINFO    \u001b[0m | \u001b[36m__main__\u001b[0m:\u001b[36m<module>\u001b[0m:\u001b[36m79\u001b[0m - \u001b[1mColonnes renommées avec succès :\u001b[0m\n",
      "\u001b[32m2025-01-31 15:51:14.173\u001b[0m | \u001b[1mINFO    \u001b[0m | \u001b[36m__main__\u001b[0m:\u001b[36m<module>\u001b[0m:\u001b[36m81\u001b[0m - \u001b[1mbuilding_id, year, building_type, property_type, zip_code, council_district, neighborhood, latitude, longitude, year_built\u001b[0m\n",
      "\u001b[32m2025-01-31 15:51:14.174\u001b[0m | \u001b[1mINFO    \u001b[0m | \u001b[36m__main__\u001b[0m:\u001b[36m<module>\u001b[0m:\u001b[36m81\u001b[0m - \u001b[1mnum_buildings, num_floors, gfa_total, gfa_parking, gfa_buildings, largest_use_type, largest_use_gfa, second_largest_use, second_largest_gfa, third_largest_use\u001b[0m\n",
      "\u001b[32m2025-01-31 15:51:14.174\u001b[0m | \u001b[1mINFO    \u001b[0m | \u001b[36m__main__\u001b[0m:\u001b[36m<module>\u001b[0m:\u001b[36m81\u001b[0m - \u001b[1mthird_largest_gfa, energy_star_years, energy_star_score, site_eui, site_eui_wn, source_eui, source_eui_wn, site_energy_use, site_energy_use_wn, steam_use\u001b[0m\n",
      "\u001b[32m2025-01-31 15:51:14.175\u001b[0m | \u001b[1mINFO    \u001b[0m | \u001b[36m__main__\u001b[0m:\u001b[36m<module>\u001b[0m:\u001b[36m81\u001b[0m - \u001b[1melectricity_kwh, electricity_kbtu, natural_gas_therms, natural_gas_kbtu, default_data, comments, compliance_status, outlier, ghg_emissions_total, ghg_emissions_intensity\u001b[0m\n",
      "\u001b[32m2025-01-31 15:51:14.176\u001b[0m | \u001b[1mINFO    \u001b[0m | \u001b[36m__main__\u001b[0m:\u001b[36m<module>\u001b[0m:\u001b[36m86\u001b[0m - \u001b[1m============================================================\u001b[0m\n",
      "\u001b[32m2025-01-31 15:51:14.176\u001b[0m | \u001b[1mINFO    \u001b[0m | \u001b[36m__main__\u001b[0m:\u001b[36m<module>\u001b[0m:\u001b[36m89\u001b[0m - \u001b[1mAperçu du DataFrame après renommage :\u001b[0m\n",
      "\u001b[32m2025-01-31 15:51:14.177\u001b[0m | \u001b[1mINFO    \u001b[0m | \u001b[36m__main__\u001b[0m:\u001b[36m<module>\u001b[0m:\u001b[36m90\u001b[0m - \u001b[1m============================================================\u001b[0m\n",
      "\u001b[32m2025-01-31 15:51:14.183\u001b[0m | \u001b[1mINFO    \u001b[0m | \u001b[36m__main__\u001b[0m:\u001b[36m<module>\u001b[0m:\u001b[36m91\u001b[0m - \u001b[1m\n",
      "    building_id  year   building_type property_type  zip_code  council_district neighborhood  latitude  longitude  year_built  num_buildings  num_floors  gfa_total  gfa_parking  gfa_buildings largest_use_type  largest_use_gfa second_largest_use  second_largest_gfa third_largest_use  \\\n",
      "0            1  2016  NonResidential         Hotel   98101.0                 7     DOWNTOWN  47.61220 -122.33799        1927            1.0          12      88434            0          88434            Hotel          88434.0                NaN                 NaN               NaN   \n",
      "1            2  2016  NonResidential         Hotel   98101.0                 7     DOWNTOWN  47.61317 -122.33393        1996            1.0          11     103566        15064          88502            Hotel          83880.0            Parking             15064.0        Restaurant   \n",
      "2            3  2016  NonResidential         Hotel   98101.0                 7     DOWNTOWN  47.61393 -122.33810        1969            1.0          41     956110       196718         759392            Hotel         756493.0                NaN                 NaN               NaN   \n",
      "3            5  2016  NonResidential         Hotel   98101.0                 7     DOWNTOWN  47.61412 -122.33664        1926            1.0          10      61320            0          61320            Hotel          61320.0                NaN                 NaN               NaN   \n",
      "4            8  2016  NonResidential         Hotel   98121.0                 7     DOWNTOWN  47.61375 -122.34047        1980            1.0          18     175580        62000         113580            Hotel         123445.0            Parking             68009.0     Swimming Pool   \n",
      "\n",
      "   third_largest_gfa energy_star_years  energy_star_score    site_eui  site_eui_wn  source_eui  source_eui_wn  site_energy_use  site_energy_use_wn    steam_use  electricity_kwh  electricity_kbtu  natural_gas_therms  natural_gas_kbtu  default_data  comments compliance_status outlier  \\\n",
      "0                NaN               NaN               60.0   81.699997    84.300003  182.500000     189.000000        7226362.5           7456910.0   2003882.00     1.156514e+06         3946027.0         12764.52930         1276453.0         False       NaN         Compliant     NaN   \n",
      "1             4622.0               NaN               61.0   94.800003    97.900002  176.100006     179.399994        8387933.0           8664479.0         0.00     9.504252e+05         3242851.0         51450.81641         5145082.0         False       NaN         Compliant     NaN   \n",
      "2                NaN               NaN               43.0   96.000000    97.699997  241.899994     244.100006       72587024.0          73937112.0  21566554.00     1.451544e+07        49526664.0         14938.00000         1493800.0         False       NaN         Compliant     NaN   \n",
      "3                NaN               NaN               56.0  110.800003   113.300003  216.199997     224.000000        6794584.0           6946800.5   2214446.25     8.115253e+05         2768924.0         18112.13086         1811213.0         False       NaN         Compliant     NaN   \n",
      "4                0.0               NaN               75.0  114.800003   118.699997  211.399994     215.600006       14172606.0          14656503.0         0.00     1.573449e+06         5368607.0         88039.98438         8803998.0         False       NaN         Compliant     NaN   \n",
      "\n",
      "   ghg_emissions_total  ghg_emissions_intensity  \n",
      "0               249.98                     2.83  \n",
      "1               295.86                     2.86  \n",
      "2              2089.28                     2.19  \n",
      "3               286.43                     4.67  \n",
      "4               505.01                     2.88  \u001b[0m\n",
      "\u001b[32m2025-01-31 15:51:14.184\u001b[0m | \u001b[1mINFO    \u001b[0m | \u001b[36m__main__\u001b[0m:\u001b[36m<module>\u001b[0m:\u001b[36m92\u001b[0m - \u001b[1m============================================================\u001b[0m\n"
     ]
    }
   ],
   "source": [
    "# 🚀 Harmonisation des noms du DataFrame\n",
    "logger.info(\"=\" * 60)\n",
    "logger.info(\"Début de l'harmonisation des noms des colonnes du DataFrame\")\n",
    "logger.info(\"=\" * 60)\n",
    "\n",
    "# --- Mapping des nouveaux noms de colonnes ---\n",
    "columns_mapping = {\n",
    "    # Identification et localisation\n",
    "    \"OSEBuildingID\": \"building_id\",\n",
    "    \"DataYear\": \"year\",\n",
    "    \"BuildingType\": \"building_type\",\n",
    "    \"PrimaryPropertyType\": \"property_type\",\n",
    "    \"PropertyName\": \"property_name\",\n",
    "    \"Address\": \"address\",\n",
    "    \"City\": \"city\",\n",
    "    \"State\": \"state\",\n",
    "    \"ZipCode\": \"zip_code\",\n",
    "    \"TaxParcelIdentificationNumber\": \"tax_parcel_id\",\n",
    "    \"CouncilDistrictCode\": \"council_district\",\n",
    "    \"Neighborhood\": \"neighborhood\",\n",
    "    \"Latitude\": \"latitude\",\n",
    "    \"Longitude\": \"longitude\",\n",
    "    # Caractéristiques des bâtiments\n",
    "    \"YearBuilt\": \"year_built\",\n",
    "    \"NumberofBuildings\": \"num_buildings\",\n",
    "    \"NumberofFloors\": \"num_floors\",\n",
    "    \"PropertyGFATotal\": \"gfa_total\",\n",
    "    \"PropertyGFAParking\": \"gfa_parking\",\n",
    "    \"PropertyGFABuilding(s)\": \"gfa_buildings\",\n",
    "    \"ListOfAllPropertyUseTypes\": \"property_use_list\",\n",
    "    \"LargestPropertyUseType\": \"largest_use_type\",\n",
    "    \"LargestPropertyUseTypeGFA\": \"largest_use_gfa\",\n",
    "    \"SecondLargestPropertyUseType\": \"second_largest_use\",\n",
    "    \"SecondLargestPropertyUseTypeGFA\": \"second_largest_gfa\",\n",
    "    \"ThirdLargestPropertyUseType\": \"third_largest_use\",\n",
    "    \"ThirdLargestPropertyUseTypeGFA\": \"third_largest_gfa\",\n",
    "    # Certifications et scores énergétiques\n",
    "    \"YearsENERGYSTARCertified\": \"energy_star_years\",\n",
    "    \"ENERGYSTARScore\": \"energy_star_score\",\n",
    "    # Consommation énergétique\n",
    "    \"SiteEUI(kBtu/sf)\": \"site_eui\",\n",
    "    \"SiteEUIWN(kBtu/sf)\": \"site_eui_wn\",\n",
    "    \"SourceEUI(kBtu/sf)\": \"source_eui\",\n",
    "    \"SourceEUIWN(kBtu/sf)\": \"source_eui_wn\",\n",
    "    \"SiteEnergyUse(kBtu)\": \"site_energy_use\",\n",
    "    \"SiteEnergyUseWN(kBtu)\": \"site_energy_use_wn\",\n",
    "    \"SteamUse(kBtu)\": \"steam_use\",\n",
    "    \"Electricity(kWh)\": \"electricity_kwh\",\n",
    "    \"Electricity(kBtu)\": \"electricity_kbtu\",\n",
    "    \"NaturalGas(therms)\": \"natural_gas_therms\",\n",
    "    \"NaturalGas(kBtu)\": \"natural_gas_kbtu\",\n",
    "    # Divers\n",
    "    \"DefaultData\": \"default_data\",\n",
    "    \"Comments\": \"comments\",\n",
    "    \"ComplianceStatus\": \"compliance_status\",\n",
    "    \"Outlier\": \"outlier\",\n",
    "    # Émissions de gaz à effet de serre\n",
    "    \"TotalGHGEmissions\": \"ghg_emissions_total\",\n",
    "    \"GHGEmissionsIntensity\": \"ghg_emissions_intensity\"\n",
    "}\n",
    "\n",
    "# --- Vérification et application du renommage ---\n",
    "if building_consumption is not None:\n",
    "    logger.info(\"-\" * 20)\n",
    "    logger.info(\"Renommage des colonnes pour le DataFrame 'building_consumption'...\")\n",
    "    logger.info(\"-\" * 20)\n",
    "    # Application du mapping des noms de colonnes\n",
    "    building_consumption.rename(columns=columns_mapping, inplace=True)\n",
    "\n",
    "    # Récupération des nouveaux noms de colonnes\n",
    "    renamed_columns = list(building_consumption.columns)\n",
    "\n",
    "    # Formater les noms de colonnes pour les logs\n",
    "    max_columns_per_line = 10  # Nombre maximum de colonnes par ligne dans les logs\n",
    "    formatted_columns = [\n",
    "        renamed_columns[i:i + max_columns_per_line]\n",
    "        for i in range(0, len(renamed_columns), max_columns_per_line)\n",
    "    ]\n",
    "    logger.info(\"Colonnes renommées avec succès :\")\n",
    "    for line in formatted_columns:\n",
    "        logger.info(\", \".join(line))  # Loguer les colonnes par groupes\n",
    "\n",
    "else:\n",
    "    logger.warning(\"Le DataFrame 'building_consumption' est introuvable.\")\n",
    "\n",
    "logger.info(\"=\" * 60)\n",
    "\n",
    "# --- Vérification : Aperçu des nouvelles colonnes ---\n",
    "logger.info(\"Aperçu du DataFrame après renommage :\")\n",
    "logger.info(\"=\" * 60)\n",
    "logger.info(f\"\\n {building_consumption.head()}\")\n",
    "logger.info(\"=\" * 60)\n"
   ]
  },
  {
   "cell_type": "code",
   "execution_count": 13,
   "metadata": {},
   "outputs": [
    {
     "name": "stderr",
     "output_type": "stream",
     "text": [
      "\u001b[32m2025-01-31 15:51:14.190\u001b[0m | \u001b[1mINFO    \u001b[0m | \u001b[36m__main__\u001b[0m:\u001b[36m<module>\u001b[0m:\u001b[36m2\u001b[0m - \u001b[1m============================================================\u001b[0m\n",
      "\u001b[32m2025-01-31 15:51:14.191\u001b[0m | \u001b[1mINFO    \u001b[0m | \u001b[36m__main__\u001b[0m:\u001b[36m<module>\u001b[0m:\u001b[36m3\u001b[0m - \u001b[1m Analyse des Doublons \u001b[0m\n",
      "\u001b[32m2025-01-31 15:51:14.192\u001b[0m | \u001b[1mINFO    \u001b[0m | \u001b[36m__main__\u001b[0m:\u001b[36m<module>\u001b[0m:\u001b[36m4\u001b[0m - \u001b[1m============================================================\u001b[0m\n",
      "\u001b[32m2025-01-31 15:51:14.197\u001b[0m | \u001b[1mINFO    \u001b[0m | \u001b[36m__main__\u001b[0m:\u001b[36m<module>\u001b[0m:\u001b[36m9\u001b[0m - \u001b[1mNombre total de doublons : 0\u001b[0m\n",
      "\u001b[32m2025-01-31 15:51:14.197\u001b[0m | \u001b[1mINFO    \u001b[0m | \u001b[36m__main__\u001b[0m:\u001b[36m<module>\u001b[0m:\u001b[36m16\u001b[0m - \u001b[1m✅ Aucun doublon détecté dans le DataFrame.\u001b[0m\n",
      "\u001b[32m2025-01-31 15:51:14.198\u001b[0m | \u001b[1mINFO    \u001b[0m | \u001b[36m__main__\u001b[0m:\u001b[36m<module>\u001b[0m:\u001b[36m26\u001b[0m - \u001b[1mAucune suppression de doublons effectuée.\u001b[0m\n",
      "\u001b[32m2025-01-31 15:51:14.199\u001b[0m | \u001b[1mINFO    \u001b[0m | \u001b[36m__main__\u001b[0m:\u001b[36m<module>\u001b[0m:\u001b[36m29\u001b[0m - \u001b[1mNombre de lignes finales : 1668\u001b[0m\n",
      "\u001b[32m2025-01-31 15:51:14.199\u001b[0m | \u001b[1mINFO    \u001b[0m | \u001b[36m__main__\u001b[0m:\u001b[36m<module>\u001b[0m:\u001b[36m30\u001b[0m - \u001b[1mNombre de colonnes finales : 40\u001b[0m\n",
      "\u001b[32m2025-01-31 15:51:14.200\u001b[0m | \u001b[1mINFO    \u001b[0m | \u001b[36m__main__\u001b[0m:\u001b[36m<module>\u001b[0m:\u001b[36m31\u001b[0m - \u001b[1m============================================================\u001b[0m\n"
     ]
    }
   ],
   "source": [
    "# === Étude des Doublons ===\n",
    "logger.info(\"=\" * 60)\n",
    "logger.info(\" Analyse des Doublons \")\n",
    "logger.info(\"=\" * 60)\n",
    "\n",
    "# --- Identifier les doublons ---\n",
    "duplicate_rows = building_consumption.duplicated()  # Détection des doublons\n",
    "total_duplicates = duplicate_rows.sum()  # Nombre total de doublons\n",
    "logger.info(f\"Nombre total de doublons : {total_duplicates}\")\n",
    "\n",
    "# --- Afficher un aperçu des doublons (si présents) ---\n",
    "if total_duplicates > 0:\n",
    "    logger.warning(\"⚠️ Des doublons ont été détectés dans le DataFrame.\")\n",
    "    logger.info(f\"Aperçu des doublons :\\n{building_consumption[duplicate_rows].head()}\")  # Aperçu des doublons\n",
    "else:\n",
    "    logger.info(\"✅ Aucun doublon détecté dans le DataFrame.\")\n",
    "\n",
    "# --- Suppression des doublons ---\n",
    "if total_duplicates > 0:\n",
    "    # Supprimer les doublons\n",
    "    building_consumption_no_duplicates = building_consumption.drop_duplicates()\n",
    "    logger.info(f\"Doublons supprimés. Nombre de lignes après nettoyage : {building_consumption_no_duplicates.shape[0]}\")\n",
    "else:\n",
    "    # Aucune suppression nécessaire\n",
    "    building_consumption_no_duplicates = building_consumption\n",
    "    logger.info(\"Aucune suppression de doublons effectuée.\")\n",
    "\n",
    "# --- Résumé final ---\n",
    "logger.info(f\"Nombre de lignes finales : {building_consumption_no_duplicates.shape[0]}\")\n",
    "logger.info(f\"Nombre de colonnes finales : {building_consumption_no_duplicates.shape[1]}\")\n",
    "logger.info(\"=\" * 60)"
   ]
  },
  {
   "cell_type": "code",
   "execution_count": 14,
   "metadata": {},
   "outputs": [
    {
     "name": "stderr",
     "output_type": "stream",
     "text": [
      "\u001b[32m2025-01-31 15:51:14.208\u001b[0m | \u001b[1mINFO    \u001b[0m | \u001b[36m__main__\u001b[0m:\u001b[36m<module>\u001b[0m:\u001b[36m2\u001b[0m - \u001b[1m============================================================\u001b[0m\n",
      "\u001b[32m2025-01-31 15:51:14.209\u001b[0m | \u001b[1mINFO    \u001b[0m | \u001b[36m__main__\u001b[0m:\u001b[36m<module>\u001b[0m:\u001b[36m3\u001b[0m - \u001b[1m Analyse et Nettoyage des Valeurs Manquantes \u001b[0m\n",
      "\u001b[32m2025-01-31 15:51:14.210\u001b[0m | \u001b[1mINFO    \u001b[0m | \u001b[36m__main__\u001b[0m:\u001b[36m<module>\u001b[0m:\u001b[36m4\u001b[0m - \u001b[1m============================================================\u001b[0m\n"
     ]
    },
    {
     "data": {
      "application/vnd.plotly.v1+json": {
       "config": {
        "plotlyServerURL": "https://plot.ly"
       },
       "data": [
        {
         "alignmentgroup": "True",
         "hovertemplate": "Color=blue<br>Colonnes=%{x}<br>% Manquant=%{text}<extra></extra>",
         "legendgroup": "blue",
         "marker": {
          "color": "blue",
          "pattern": {
           "shape": ""
          }
         },
         "name": "blue",
         "offsetgroup": "blue",
         "orientation": "v",
         "showlegend": true,
         "text": [
          0.9592326139088728,
          0.1199040767386091,
          0.3597122302158274,
          0.3597122302158274,
          0.1798561151079137,
          0.1798561151079137,
          0.1199040767386091,
          0.1199040767386091,
          0.1199040767386091,
          0.1798561151079137,
          0.1199040767386091,
          0.1199040767386091,
          0.1199040767386091,
          0.1199040767386091,
          0.1199040767386091,
          0.1199040767386091,
          0.1199040767386091
         ],
         "textposition": "outside",
         "texttemplate": "%{text:.2f}%",
         "type": "bar",
         "x": [
          "zip_code",
          "num_buildings",
          "largest_use_type",
          "largest_use_gfa",
          "site_eui",
          "site_eui_wn",
          "source_eui",
          "source_eui_wn",
          "site_energy_use",
          "site_energy_use_wn",
          "steam_use",
          "electricity_kwh",
          "electricity_kbtu",
          "natural_gas_therms",
          "natural_gas_kbtu",
          "ghg_emissions_total",
          "ghg_emissions_intensity"
         ],
         "xaxis": "x",
         "y": [
          0.9592326139088728,
          0.1199040767386091,
          0.3597122302158274,
          0.3597122302158274,
          0.1798561151079137,
          0.1798561151079137,
          0.1199040767386091,
          0.1199040767386091,
          0.1199040767386091,
          0.1798561151079137,
          0.1199040767386091,
          0.1199040767386091,
          0.1199040767386091,
          0.1199040767386091,
          0.1199040767386091,
          0.1199040767386091,
          0.1199040767386091
         ],
         "yaxis": "y"
        },
        {
         "alignmentgroup": "True",
         "hovertemplate": "Color=red<br>Colonnes=%{x}<br>% Manquant=%{text}<extra></extra>",
         "legendgroup": "red",
         "marker": {
          "color": "red",
          "pattern": {
           "shape": ""
          }
         },
         "name": "red",
         "offsetgroup": "red",
         "orientation": "v",
         "showlegend": true,
         "text": [
          48.74100719424461,
          48.74100719424461,
          78.8369304556355,
          78.8369304556355,
          94.12470023980816,
          34.412470023980816,
          100,
          98.98081534772182
         ],
         "textposition": "outside",
         "texttemplate": "%{text:.2f}%",
         "type": "bar",
         "x": [
          "second_largest_use",
          "second_largest_gfa",
          "third_largest_use",
          "third_largest_gfa",
          "energy_star_years",
          "energy_star_score",
          "comments",
          "outlier"
         ],
         "xaxis": "x",
         "y": [
          48.74100719424461,
          48.74100719424461,
          78.8369304556355,
          78.8369304556355,
          94.12470023980816,
          34.412470023980816,
          100,
          98.98081534772182
         ],
         "yaxis": "y"
        }
       ],
       "layout": {
        "barmode": "relative",
        "height": 600,
        "legend": {
         "title": {
          "text": "Color"
         },
         "tracegroupgap": 0
        },
        "plot_bgcolor": "white",
        "template": {
         "data": {
          "bar": [
           {
            "error_x": {
             "color": "#2a3f5f"
            },
            "error_y": {
             "color": "#2a3f5f"
            },
            "marker": {
             "line": {
              "color": "#E5ECF6",
              "width": 0.5
             },
             "pattern": {
              "fillmode": "overlay",
              "size": 10,
              "solidity": 0.2
             }
            },
            "type": "bar"
           }
          ],
          "barpolar": [
           {
            "marker": {
             "line": {
              "color": "#E5ECF6",
              "width": 0.5
             },
             "pattern": {
              "fillmode": "overlay",
              "size": 10,
              "solidity": 0.2
             }
            },
            "type": "barpolar"
           }
          ],
          "carpet": [
           {
            "aaxis": {
             "endlinecolor": "#2a3f5f",
             "gridcolor": "white",
             "linecolor": "white",
             "minorgridcolor": "white",
             "startlinecolor": "#2a3f5f"
            },
            "baxis": {
             "endlinecolor": "#2a3f5f",
             "gridcolor": "white",
             "linecolor": "white",
             "minorgridcolor": "white",
             "startlinecolor": "#2a3f5f"
            },
            "type": "carpet"
           }
          ],
          "choropleth": [
           {
            "colorbar": {
             "outlinewidth": 0,
             "ticks": ""
            },
            "type": "choropleth"
           }
          ],
          "contour": [
           {
            "colorbar": {
             "outlinewidth": 0,
             "ticks": ""
            },
            "colorscale": [
             [
              0,
              "#0d0887"
             ],
             [
              0.1111111111111111,
              "#46039f"
             ],
             [
              0.2222222222222222,
              "#7201a8"
             ],
             [
              0.3333333333333333,
              "#9c179e"
             ],
             [
              0.4444444444444444,
              "#bd3786"
             ],
             [
              0.5555555555555556,
              "#d8576b"
             ],
             [
              0.6666666666666666,
              "#ed7953"
             ],
             [
              0.7777777777777778,
              "#fb9f3a"
             ],
             [
              0.8888888888888888,
              "#fdca26"
             ],
             [
              1,
              "#f0f921"
             ]
            ],
            "type": "contour"
           }
          ],
          "contourcarpet": [
           {
            "colorbar": {
             "outlinewidth": 0,
             "ticks": ""
            },
            "type": "contourcarpet"
           }
          ],
          "heatmap": [
           {
            "colorbar": {
             "outlinewidth": 0,
             "ticks": ""
            },
            "colorscale": [
             [
              0,
              "#0d0887"
             ],
             [
              0.1111111111111111,
              "#46039f"
             ],
             [
              0.2222222222222222,
              "#7201a8"
             ],
             [
              0.3333333333333333,
              "#9c179e"
             ],
             [
              0.4444444444444444,
              "#bd3786"
             ],
             [
              0.5555555555555556,
              "#d8576b"
             ],
             [
              0.6666666666666666,
              "#ed7953"
             ],
             [
              0.7777777777777778,
              "#fb9f3a"
             ],
             [
              0.8888888888888888,
              "#fdca26"
             ],
             [
              1,
              "#f0f921"
             ]
            ],
            "type": "heatmap"
           }
          ],
          "heatmapgl": [
           {
            "colorbar": {
             "outlinewidth": 0,
             "ticks": ""
            },
            "colorscale": [
             [
              0,
              "#0d0887"
             ],
             [
              0.1111111111111111,
              "#46039f"
             ],
             [
              0.2222222222222222,
              "#7201a8"
             ],
             [
              0.3333333333333333,
              "#9c179e"
             ],
             [
              0.4444444444444444,
              "#bd3786"
             ],
             [
              0.5555555555555556,
              "#d8576b"
             ],
             [
              0.6666666666666666,
              "#ed7953"
             ],
             [
              0.7777777777777778,
              "#fb9f3a"
             ],
             [
              0.8888888888888888,
              "#fdca26"
             ],
             [
              1,
              "#f0f921"
             ]
            ],
            "type": "heatmapgl"
           }
          ],
          "histogram": [
           {
            "marker": {
             "pattern": {
              "fillmode": "overlay",
              "size": 10,
              "solidity": 0.2
             }
            },
            "type": "histogram"
           }
          ],
          "histogram2d": [
           {
            "colorbar": {
             "outlinewidth": 0,
             "ticks": ""
            },
            "colorscale": [
             [
              0,
              "#0d0887"
             ],
             [
              0.1111111111111111,
              "#46039f"
             ],
             [
              0.2222222222222222,
              "#7201a8"
             ],
             [
              0.3333333333333333,
              "#9c179e"
             ],
             [
              0.4444444444444444,
              "#bd3786"
             ],
             [
              0.5555555555555556,
              "#d8576b"
             ],
             [
              0.6666666666666666,
              "#ed7953"
             ],
             [
              0.7777777777777778,
              "#fb9f3a"
             ],
             [
              0.8888888888888888,
              "#fdca26"
             ],
             [
              1,
              "#f0f921"
             ]
            ],
            "type": "histogram2d"
           }
          ],
          "histogram2dcontour": [
           {
            "colorbar": {
             "outlinewidth": 0,
             "ticks": ""
            },
            "colorscale": [
             [
              0,
              "#0d0887"
             ],
             [
              0.1111111111111111,
              "#46039f"
             ],
             [
              0.2222222222222222,
              "#7201a8"
             ],
             [
              0.3333333333333333,
              "#9c179e"
             ],
             [
              0.4444444444444444,
              "#bd3786"
             ],
             [
              0.5555555555555556,
              "#d8576b"
             ],
             [
              0.6666666666666666,
              "#ed7953"
             ],
             [
              0.7777777777777778,
              "#fb9f3a"
             ],
             [
              0.8888888888888888,
              "#fdca26"
             ],
             [
              1,
              "#f0f921"
             ]
            ],
            "type": "histogram2dcontour"
           }
          ],
          "mesh3d": [
           {
            "colorbar": {
             "outlinewidth": 0,
             "ticks": ""
            },
            "type": "mesh3d"
           }
          ],
          "parcoords": [
           {
            "line": {
             "colorbar": {
              "outlinewidth": 0,
              "ticks": ""
             }
            },
            "type": "parcoords"
           }
          ],
          "pie": [
           {
            "automargin": true,
            "type": "pie"
           }
          ],
          "scatter": [
           {
            "fillpattern": {
             "fillmode": "overlay",
             "size": 10,
             "solidity": 0.2
            },
            "type": "scatter"
           }
          ],
          "scatter3d": [
           {
            "line": {
             "colorbar": {
              "outlinewidth": 0,
              "ticks": ""
             }
            },
            "marker": {
             "colorbar": {
              "outlinewidth": 0,
              "ticks": ""
             }
            },
            "type": "scatter3d"
           }
          ],
          "scattercarpet": [
           {
            "marker": {
             "colorbar": {
              "outlinewidth": 0,
              "ticks": ""
             }
            },
            "type": "scattercarpet"
           }
          ],
          "scattergeo": [
           {
            "marker": {
             "colorbar": {
              "outlinewidth": 0,
              "ticks": ""
             }
            },
            "type": "scattergeo"
           }
          ],
          "scattergl": [
           {
            "marker": {
             "colorbar": {
              "outlinewidth": 0,
              "ticks": ""
             }
            },
            "type": "scattergl"
           }
          ],
          "scattermapbox": [
           {
            "marker": {
             "colorbar": {
              "outlinewidth": 0,
              "ticks": ""
             }
            },
            "type": "scattermapbox"
           }
          ],
          "scatterpolar": [
           {
            "marker": {
             "colorbar": {
              "outlinewidth": 0,
              "ticks": ""
             }
            },
            "type": "scatterpolar"
           }
          ],
          "scatterpolargl": [
           {
            "marker": {
             "colorbar": {
              "outlinewidth": 0,
              "ticks": ""
             }
            },
            "type": "scatterpolargl"
           }
          ],
          "scatterternary": [
           {
            "marker": {
             "colorbar": {
              "outlinewidth": 0,
              "ticks": ""
             }
            },
            "type": "scatterternary"
           }
          ],
          "surface": [
           {
            "colorbar": {
             "outlinewidth": 0,
             "ticks": ""
            },
            "colorscale": [
             [
              0,
              "#0d0887"
             ],
             [
              0.1111111111111111,
              "#46039f"
             ],
             [
              0.2222222222222222,
              "#7201a8"
             ],
             [
              0.3333333333333333,
              "#9c179e"
             ],
             [
              0.4444444444444444,
              "#bd3786"
             ],
             [
              0.5555555555555556,
              "#d8576b"
             ],
             [
              0.6666666666666666,
              "#ed7953"
             ],
             [
              0.7777777777777778,
              "#fb9f3a"
             ],
             [
              0.8888888888888888,
              "#fdca26"
             ],
             [
              1,
              "#f0f921"
             ]
            ],
            "type": "surface"
           }
          ],
          "table": [
           {
            "cells": {
             "fill": {
              "color": "#EBF0F8"
             },
             "line": {
              "color": "white"
             }
            },
            "header": {
             "fill": {
              "color": "#C8D4E3"
             },
             "line": {
              "color": "white"
             }
            },
            "type": "table"
           }
          ]
         },
         "layout": {
          "annotationdefaults": {
           "arrowcolor": "#2a3f5f",
           "arrowhead": 0,
           "arrowwidth": 1
          },
          "autotypenumbers": "strict",
          "coloraxis": {
           "colorbar": {
            "outlinewidth": 0,
            "ticks": ""
           }
          },
          "colorscale": {
           "diverging": [
            [
             0,
             "#8e0152"
            ],
            [
             0.1,
             "#c51b7d"
            ],
            [
             0.2,
             "#de77ae"
            ],
            [
             0.3,
             "#f1b6da"
            ],
            [
             0.4,
             "#fde0ef"
            ],
            [
             0.5,
             "#f7f7f7"
            ],
            [
             0.6,
             "#e6f5d0"
            ],
            [
             0.7,
             "#b8e186"
            ],
            [
             0.8,
             "#7fbc41"
            ],
            [
             0.9,
             "#4d9221"
            ],
            [
             1,
             "#276419"
            ]
           ],
           "sequential": [
            [
             0,
             "#0d0887"
            ],
            [
             0.1111111111111111,
             "#46039f"
            ],
            [
             0.2222222222222222,
             "#7201a8"
            ],
            [
             0.3333333333333333,
             "#9c179e"
            ],
            [
             0.4444444444444444,
             "#bd3786"
            ],
            [
             0.5555555555555556,
             "#d8576b"
            ],
            [
             0.6666666666666666,
             "#ed7953"
            ],
            [
             0.7777777777777778,
             "#fb9f3a"
            ],
            [
             0.8888888888888888,
             "#fdca26"
            ],
            [
             1,
             "#f0f921"
            ]
           ],
           "sequentialminus": [
            [
             0,
             "#0d0887"
            ],
            [
             0.1111111111111111,
             "#46039f"
            ],
            [
             0.2222222222222222,
             "#7201a8"
            ],
            [
             0.3333333333333333,
             "#9c179e"
            ],
            [
             0.4444444444444444,
             "#bd3786"
            ],
            [
             0.5555555555555556,
             "#d8576b"
            ],
            [
             0.6666666666666666,
             "#ed7953"
            ],
            [
             0.7777777777777778,
             "#fb9f3a"
            ],
            [
             0.8888888888888888,
             "#fdca26"
            ],
            [
             1,
             "#f0f921"
            ]
           ]
          },
          "colorway": [
           "#636efa",
           "#EF553B",
           "#00cc96",
           "#ab63fa",
           "#FFA15A",
           "#19d3f3",
           "#FF6692",
           "#B6E880",
           "#FF97FF",
           "#FECB52"
          ],
          "font": {
           "color": "#2a3f5f"
          },
          "geo": {
           "bgcolor": "white",
           "lakecolor": "white",
           "landcolor": "#E5ECF6",
           "showlakes": true,
           "showland": true,
           "subunitcolor": "white"
          },
          "hoverlabel": {
           "align": "left"
          },
          "hovermode": "closest",
          "mapbox": {
           "style": "light"
          },
          "paper_bgcolor": "white",
          "plot_bgcolor": "#E5ECF6",
          "polar": {
           "angularaxis": {
            "gridcolor": "white",
            "linecolor": "white",
            "ticks": ""
           },
           "bgcolor": "#E5ECF6",
           "radialaxis": {
            "gridcolor": "white",
            "linecolor": "white",
            "ticks": ""
           }
          },
          "scene": {
           "xaxis": {
            "backgroundcolor": "#E5ECF6",
            "gridcolor": "white",
            "gridwidth": 2,
            "linecolor": "white",
            "showbackground": true,
            "ticks": "",
            "zerolinecolor": "white"
           },
           "yaxis": {
            "backgroundcolor": "#E5ECF6",
            "gridcolor": "white",
            "gridwidth": 2,
            "linecolor": "white",
            "showbackground": true,
            "ticks": "",
            "zerolinecolor": "white"
           },
           "zaxis": {
            "backgroundcolor": "#E5ECF6",
            "gridcolor": "white",
            "gridwidth": 2,
            "linecolor": "white",
            "showbackground": true,
            "ticks": "",
            "zerolinecolor": "white"
           }
          },
          "shapedefaults": {
           "line": {
            "color": "#2a3f5f"
           }
          },
          "ternary": {
           "aaxis": {
            "gridcolor": "white",
            "linecolor": "white",
            "ticks": ""
           },
           "baxis": {
            "gridcolor": "white",
            "linecolor": "white",
            "ticks": ""
           },
           "bgcolor": "#E5ECF6",
           "caxis": {
            "gridcolor": "white",
            "linecolor": "white",
            "ticks": ""
           }
          },
          "title": {
           "x": 0.05
          },
          "xaxis": {
           "automargin": true,
           "gridcolor": "white",
           "linecolor": "white",
           "ticks": "",
           "title": {
            "standoff": 15
           },
           "zerolinecolor": "white",
           "zerolinewidth": 2
          },
          "yaxis": {
           "automargin": true,
           "gridcolor": "white",
           "linecolor": "white",
           "ticks": "",
           "title": {
            "standoff": 15
           },
           "zerolinecolor": "white",
           "zerolinewidth": 2
          }
         }
        },
        "title": {
         "text": "Pourcentage de valeurs manquantes"
        },
        "width": 2000,
        "xaxis": {
         "anchor": "y",
         "categoryarray": [
          "zip_code",
          "num_buildings",
          "largest_use_type",
          "largest_use_gfa",
          "second_largest_use",
          "second_largest_gfa",
          "third_largest_use",
          "third_largest_gfa",
          "energy_star_years",
          "energy_star_score",
          "site_eui",
          "site_eui_wn",
          "source_eui",
          "source_eui_wn",
          "site_energy_use",
          "site_energy_use_wn",
          "steam_use",
          "electricity_kwh",
          "electricity_kbtu",
          "natural_gas_therms",
          "natural_gas_kbtu",
          "comments",
          "outlier",
          "ghg_emissions_total",
          "ghg_emissions_intensity"
         ],
         "categoryorder": "array",
         "domain": [
          0,
          1
         ],
         "tickangle": 45,
         "title": {
          "text": "Colonnes"
         }
        },
        "yaxis": {
         "anchor": "x",
         "domain": [
          0,
          1
         ],
         "title": {
          "text": "% de valeurs manquantes"
         }
        }
       }
      }
     },
     "metadata": {},
     "output_type": "display_data"
    },
    {
     "name": "stderr",
     "output_type": "stream",
     "text": [
      "\u001b[32m2025-01-31 15:51:14.241\u001b[0m | \u001b[1mINFO    \u001b[0m | \u001b[36m__main__\u001b[0m:\u001b[36m<module>\u001b[0m:\u001b[36m59\u001b[0m - \u001b[1m============================================================\u001b[0m\n",
      "\u001b[32m2025-01-31 15:51:14.241\u001b[0m | \u001b[1mINFO    \u001b[0m | \u001b[36m__main__\u001b[0m:\u001b[36m<module>\u001b[0m:\u001b[36m62\u001b[0m - \u001b[1m8 colonnes ont plus de 30% de valeurs manquantes.\u001b[0m\n",
      "\u001b[32m2025-01-31 15:51:14.242\u001b[0m | \u001b[1mINFO    \u001b[0m | \u001b[36m__main__\u001b[0m:\u001b[36m<module>\u001b[0m:\u001b[36m66\u001b[0m - \u001b[1msecond_largest_use, second_largest_gfa, third_largest_use, third_largest_gfa, energy_star_years, energy_star_score, comments, outlier\u001b[0m\n",
      "\u001b[32m2025-01-31 15:51:14.243\u001b[0m | \u001b[1mINFO    \u001b[0m | \u001b[36m__main__\u001b[0m:\u001b[36m<module>\u001b[0m:\u001b[36m69\u001b[0m - \u001b[1m============================================================\u001b[0m\n"
     ]
    }
   ],
   "source": [
    "# === Analyse des valeurs manquantes ===\n",
    "logger.info(\"=\" * 60)\n",
    "logger.info(\" Analyse et Nettoyage des Valeurs Manquantes \")\n",
    "logger.info(\"=\" * 60)\n",
    "\n",
    "# --- Calcul des valeurs manquantes ---\n",
    "missing_values = building_consumption_no_duplicates.isnull().sum()  # Total des valeurs manquantes\n",
    "missing_percent = (missing_values / len(building_consumption_no_duplicates)) * 100  # Pourcentage\n",
    "\n",
    "# Résumé des colonnes avec leurs pourcentages de valeurs manquantes\n",
    "missing_summary = pd.DataFrame({\n",
    "    'Colonnes': building_consumption_no_duplicates.columns,\n",
    "    'Total Manquantes': missing_values,\n",
    "    'Pourcentage Manquantes (%)': missing_percent\n",
    "})\n",
    "\n",
    "# --- Identifier les colonnes ayant plus de 40% de valeurs manquantes ---\n",
    "threshold = 30  # Seuil en pourcentage\n",
    "cols_to_drop = missing_summary[missing_summary['Pourcentage Manquantes (%)'] > threshold]['Colonnes'].tolist()\n",
    "\n",
    "# Ajouter une couleur pour les barres (rouge pour les colonnes > 30%)\n",
    "missing_summary['Color'] = missing_summary['Colonnes'].apply(\n",
    "    lambda col: 'red' if col in cols_to_drop else 'blue'\n",
    ")\n",
    "\n",
    "# Filtrer les colonnes avec des valeurs manquantes pour la visualisation\n",
    "missing_data_filtered = missing_summary[missing_summary['Total Manquantes'] > 0]\n",
    "\n",
    "# --- Visualisation des valeurs manquantes ---\n",
    "if not missing_data_filtered.empty:\n",
    "    # Graphique interactif pour les valeurs manquantes\n",
    "    fig = px.bar(\n",
    "        missing_data_filtered,\n",
    "        x='Colonnes',\n",
    "        y='Pourcentage Manquantes (%)',\n",
    "        color='Color',\n",
    "        title=\"Pourcentage de valeurs manquantes\",\n",
    "        labels={'Pourcentage Manquantes (%)': '% Manquant', 'Colonnes': 'Colonnes'},\n",
    "        text='Pourcentage Manquantes (%)',\n",
    "        color_discrete_map={'red': 'red', 'blue': 'blue'}\n",
    "    )\n",
    "    fig.update_traces(texttemplate='%{text:.2f}%', textposition='outside')\n",
    "    fig.update_layout(\n",
    "        plot_bgcolor='white',\n",
    "        xaxis=dict(\n",
    "            title=\"Colonnes\",\n",
    "            tickangle=45,\n",
    "            categoryorder='array',\n",
    "            categoryarray=missing_data_filtered['Colonnes']\n",
    "        ),\n",
    "        yaxis=dict(title=\"% de valeurs manquantes\"),\n",
    "        width=2000,\n",
    "        height=600\n",
    "    )\n",
    "    fig.show()\n",
    "else:\n",
    "    logger.info(\"✅ Aucune valeur manquante à visualiser.\")\n",
    "\n",
    "logger.info(\"=\" * 60)\n",
    "\n",
    "# --- Afficher les colonnes à supprimer ---\n",
    "logger.info(f\"{len(cols_to_drop)} colonnes ont plus de {threshold}% de valeurs manquantes.\")\n",
    "if cols_to_drop:\n",
    "    max_columns_per_line = 8  # Limiter le nombre de colonnes affichées par ligne\n",
    "    for i in range(0, len(cols_to_drop), max_columns_per_line):\n",
    "        logger.info(\", \".join(cols_to_drop[i:i + max_columns_per_line]))\n",
    "else:\n",
    "    logger.info(\"✅ Aucune colonne n'a plus de 70% de valeurs manquantes.\")\n",
    "logger.info(\"=\" * 60)"
   ]
  },
  {
   "cell_type": "code",
   "execution_count": 15,
   "metadata": {},
   "outputs": [
    {
     "name": "stderr",
     "output_type": "stream",
     "text": [
      "\u001b[32m2025-01-31 15:51:14.248\u001b[0m | \u001b[1mINFO    \u001b[0m | \u001b[36m__main__\u001b[0m:\u001b[36m<module>\u001b[0m:\u001b[36m1\u001b[0m - \u001b[1m============================================================\u001b[0m\n",
      "\u001b[32m2025-01-31 15:51:14.249\u001b[0m | \u001b[1mINFO    \u001b[0m | \u001b[36m__main__\u001b[0m:\u001b[36m<module>\u001b[0m:\u001b[36m4\u001b[0m - \u001b[1mSuppression des colonnes avec plus de 30% de valeurs manquantes : ['second_largest_use', 'second_largest_gfa', 'third_largest_use', 'third_largest_gfa', 'energy_star_years', 'energy_star_score', 'comments', 'outlier']\u001b[0m\n",
      "\u001b[32m2025-01-31 15:51:14.250\u001b[0m | \u001b[1mINFO    \u001b[0m | \u001b[36m__main__\u001b[0m:\u001b[36m<module>\u001b[0m:\u001b[36m6\u001b[0m - \u001b[1mDataFrame nettoyé: Nombre de colonnes restantes : 32\u001b[0m\n",
      "\u001b[32m2025-01-31 15:51:14.251\u001b[0m | \u001b[1mINFO    \u001b[0m | \u001b[36m__main__\u001b[0m:\u001b[36m<module>\u001b[0m:\u001b[36m7\u001b[0m - \u001b[1m                   Nombre de colonnes supprimées : 8\u001b[0m\n",
      "\u001b[32m2025-01-31 15:51:14.252\u001b[0m | \u001b[1mINFO    \u001b[0m | \u001b[36m__main__\u001b[0m:\u001b[36m<module>\u001b[0m:\u001b[36m8\u001b[0m - \u001b[1m                   Nombre de lignes restantes : 1668\u001b[0m\n",
      "\u001b[32m2025-01-31 15:51:14.252\u001b[0m | \u001b[1mINFO    \u001b[0m | \u001b[36m__main__\u001b[0m:\u001b[36m<module>\u001b[0m:\u001b[36m12\u001b[0m - \u001b[1m============================================================\u001b[0m\n"
     ]
    }
   ],
   "source": [
    "logger.info(\"=\" * 60)\n",
    "# --- Suppression des colonnes ayant plus de 30% de valeurs manquantes ---\n",
    "if cols_to_drop:\n",
    "    logger.info(f\"Suppression des colonnes avec plus de {threshold}% de valeurs manquantes : {cols_to_drop}\")\n",
    "    building_consumption_cleaned = building_consumption_no_duplicates.drop(columns=cols_to_drop)\n",
    "    logger.info(f\"DataFrame nettoyé: Nombre de colonnes restantes : {building_consumption_cleaned.shape[1]}\")\n",
    "    logger.info(f\"                   Nombre de colonnes supprimées : {len(cols_to_drop)}\")\n",
    "    logger.info(f\"                   Nombre de lignes restantes : {building_consumption_cleaned.shape[0]}\")\n",
    "else:\n",
    "    building_consumption_cleaned = building_consumption_no_duplicates\n",
    "    logger.info(\"Aucune colonne supprimée.\")\n",
    "logger.info(\"=\" * 60)"
   ]
  },
  {
   "cell_type": "code",
   "execution_count": 16,
   "metadata": {},
   "outputs": [
    {
     "name": "stderr",
     "output_type": "stream",
     "text": [
      "\u001b[32m2025-01-31 15:51:14.262\u001b[0m | \u001b[1mINFO    \u001b[0m | \u001b[36m__main__\u001b[0m:\u001b[36m<module>\u001b[0m:\u001b[36m11\u001b[0m - \u001b[1m============================================================\u001b[0m\n",
      "\u001b[32m2025-01-31 15:51:14.264\u001b[0m | \u001b[1mINFO    \u001b[0m | \u001b[36m__main__\u001b[0m:\u001b[36m<module>\u001b[0m:\u001b[36m12\u001b[0m - \u001b[1m🔍 Colonnes ayant encore des valeurs manquantes après suppression :\u001b[0m\n",
      "\u001b[32m2025-01-31 15:51:14.265\u001b[0m | \u001b[1mINFO    \u001b[0m | \u001b[36m__main__\u001b[0m:\u001b[36m<module>\u001b[0m:\u001b[36m13\u001b[0m - \u001b[1m============================================================\u001b[0m\n",
      "\u001b[32m2025-01-31 15:51:14.267\u001b[0m | \u001b[1mINFO    \u001b[0m | \u001b[36m__main__\u001b[0m:\u001b[36m<module>\u001b[0m:\u001b[36m14\u001b[0m - \u001b[1m\n",
      "                                         Colonnes  Total Manquantes  Pourcentage Manquantes (%)\n",
      "zip_code                                zip_code                16                    0.959233\n",
      "num_buildings                      num_buildings                 2                    0.119904\n",
      "largest_use_type                largest_use_type                 6                    0.359712\n",
      "largest_use_gfa                  largest_use_gfa                 6                    0.359712\n",
      "site_eui                                site_eui                 3                    0.179856\n",
      "site_eui_wn                          site_eui_wn                 3                    0.179856\n",
      "source_eui                            source_eui                 2                    0.119904\n",
      "source_eui_wn                      source_eui_wn                 2                    0.119904\n",
      "site_energy_use                  site_energy_use                 2                    0.119904\n",
      "site_energy_use_wn            site_energy_use_wn                 3                    0.179856\n",
      "steam_use                              steam_use                 2                    0.119904\n",
      "electricity_kwh                  electricity_kwh                 2                    0.119904\n",
      "electricity_kbtu                electricity_kbtu                 2                    0.119904\n",
      "natural_gas_therms            natural_gas_therms                 2                    0.119904\n",
      "natural_gas_kbtu                natural_gas_kbtu                 2                    0.119904\n",
      "ghg_emissions_total          ghg_emissions_total                 2                    0.119904\n",
      "ghg_emissions_intensity  ghg_emissions_intensity                 2                    0.119904\u001b[0m\n",
      "\u001b[32m2025-01-31 15:51:14.269\u001b[0m | \u001b[1mINFO    \u001b[0m | \u001b[36m__main__\u001b[0m:\u001b[36m<module>\u001b[0m:\u001b[36m15\u001b[0m - \u001b[1m============================================================\u001b[0m\n"
     ]
    }
   ],
   "source": [
    "# Recalcul des valeurs manquantes après suppression des colonnes\n",
    "missing_values = building_consumption_cleaned.isnull().sum()\n",
    "missing_percent = (missing_values / len(building_consumption_cleaned)) * 100\n",
    "\n",
    "# Filtrer les colonnes ayant encore des valeurs manquantes\n",
    "missing_summary_remaining = pd.DataFrame({\n",
    "    'Colonnes': building_consumption_cleaned.columns,\n",
    "    'Total Manquantes': missing_values,\n",
    "    'Pourcentage Manquantes (%)': missing_percent\n",
    "}).query(\"`Total Manquantes` > 0\")\n",
    "logger.info(\"=\" * 60)\n",
    "logger.info(\"🔍 Colonnes ayant encore des valeurs manquantes après suppression :\")\n",
    "logger.info(\"=\" * 60)\n",
    "logger.info(f\"\\n {missing_summary_remaining}\")\n",
    "logger.info(\"=\" * 60)\n"
   ]
  },
  {
   "cell_type": "code",
   "execution_count": 17,
   "metadata": {},
   "outputs": [
    {
     "name": "stderr",
     "output_type": "stream",
     "text": [
      "\u001b[32m2025-01-31 15:51:14.279\u001b[0m | \u001b[1mINFO    \u001b[0m | \u001b[36m__main__\u001b[0m:\u001b[36m<module>\u001b[0m:\u001b[36m1\u001b[0m - \u001b[1m============================================================\u001b[0m\n",
      "\u001b[32m2025-01-31 15:51:14.280\u001b[0m | \u001b[1mINFO    \u001b[0m | \u001b[36m__main__\u001b[0m:\u001b[36m<module>\u001b[0m:\u001b[36m2\u001b[0m - \u001b[1m🔍 Analyse des corrélations entre les variables et les cibles ('site_energy_use' & 'ghg_emissions_total')\u001b[0m\n",
      "\u001b[32m2025-01-31 15:51:14.281\u001b[0m | \u001b[1mINFO    \u001b[0m | \u001b[36m__main__\u001b[0m:\u001b[36m<module>\u001b[0m:\u001b[36m3\u001b[0m - \u001b[1m============================================================\u001b[0m\n",
      "\u001b[32m2025-01-31 15:51:14.282\u001b[0m | \u001b[1mINFO    \u001b[0m | \u001b[36m__main__\u001b[0m:\u001b[36m<module>\u001b[0m:\u001b[36m12\u001b[0m - \u001b[1m✅ Les variables cibles sont présentes dans le dataset.\u001b[0m\n",
      "\u001b[32m2025-01-31 15:51:14.283\u001b[0m | \u001b[1mINFO    \u001b[0m | \u001b[36m__main__\u001b[0m:\u001b[36m<module>\u001b[0m:\u001b[36m15\u001b[0m - \u001b[1m📊 Sélection des variables numériques...\u001b[0m\n",
      "\u001b[32m2025-01-31 15:51:14.284\u001b[0m | \u001b[1mINFO    \u001b[0m | \u001b[36m__main__\u001b[0m:\u001b[36m<module>\u001b[0m:\u001b[36m18\u001b[0m - \u001b[1m🔢 Nombre de variables numériques sélectionnées : 26\u001b[0m\n",
      "\u001b[32m2025-01-31 15:51:14.284\u001b[0m | \u001b[1mINFO    \u001b[0m | \u001b[36m__main__\u001b[0m:\u001b[36m<module>\u001b[0m:\u001b[36m21\u001b[0m - \u001b[1m🧮 Calcul de la matrice de corrélation...\u001b[0m\n",
      "\u001b[32m2025-01-31 15:51:14.287\u001b[0m | \u001b[1mINFO    \u001b[0m | \u001b[36m__main__\u001b[0m:\u001b[36m<module>\u001b[0m:\u001b[36m25\u001b[0m - \u001b[1m📉 Extraction des corrélations avec les variables cibles...\u001b[0m\n",
      "\u001b[32m2025-01-31 15:51:14.290\u001b[0m | \u001b[1mINFO    \u001b[0m | \u001b[36m__main__\u001b[0m:\u001b[36m<module>\u001b[0m:\u001b[36m28\u001b[0m - \u001b[1m✅ Matrice de corrélation extraite et triée.\u001b[0m\n",
      "\u001b[32m2025-01-31 15:51:14.291\u001b[0m | \u001b[1mINFO    \u001b[0m | \u001b[36m__main__\u001b[0m:\u001b[36m<module>\u001b[0m:\u001b[36m31\u001b[0m - \u001b[1m📊 Affichage de la heatmap des corrélations...\u001b[0m\n"
     ]
    },
    {
     "data": {
      "image/png": "[encoded data removed]",
      "text/plain": [
       "<Figure size 1000x800 with 2 Axes>"
      ]
     },
     "metadata": {},
     "output_type": "display_data"
    },
    {
     "name": "stderr",
     "output_type": "stream",
     "text": [
      "\u001b[32m2025-01-31 15:51:14.495\u001b[0m | \u001b[1mINFO    \u001b[0m | \u001b[36m__main__\u001b[0m:\u001b[36m<module>\u001b[0m:\u001b[36m38\u001b[0m - \u001b[1m✅ Heatmap affichée avec succès.\u001b[0m\n",
      "\u001b[32m2025-01-31 15:51:14.505\u001b[0m | \u001b[1mINFO    \u001b[0m | \u001b[36m__main__\u001b[0m:\u001b[36m<module>\u001b[0m:\u001b[36m39\u001b[0m - \u001b[1m============================================================\u001b[0m\n"
     ]
    }
   ],
   "source": [
    "logger.info(\"=\" * 60)\n",
    "logger.info(\"🔍 Analyse des corrélations entre les variables et les cibles ('site_energy_use' & 'ghg_emissions_total')\")\n",
    "logger.info(\"=\" * 60)\n",
    "# Vérifier que les variables cibles existent dans le dataset\n",
    "target_cols = [\"site_energy_use\", \"ghg_emissions_total\"]\n",
    "missing_targets = [col for col in target_cols if col not in building_consumption_cleaned.columns]\n",
    "\n",
    "if missing_targets:\n",
    "    logger.error(f\"❌ Les variables cibles suivantes sont absentes du dataset : {missing_targets}\")\n",
    "    raise ValueError(f\"Les variables cibles suivantes sont absentes du dataset : {missing_targets}\")\n",
    "\n",
    "logger.info(\"✅ Les variables cibles sont présentes dans le dataset.\")\n",
    "\n",
    "# Sélectionner uniquement les variables numériques\n",
    "logger.info(\"📊 Sélection des variables numériques...\")\n",
    "numeric_features = building_consumption_cleaned.select_dtypes(include=['number'])\n",
    "\n",
    "logger.info(f\"🔢 Nombre de variables numériques sélectionnées : {numeric_features.shape[1]}\")\n",
    "\n",
    "# Calculer la matrice de corrélation\n",
    "logger.info(\"🧮 Calcul de la matrice de corrélation...\")\n",
    "correlation_matrix = numeric_features.corr()\n",
    "\n",
    "# Extraire uniquement les corrélations des deux cibles et trier correctement\n",
    "logger.info(\"📉 Extraction des corrélations avec les variables cibles...\")\n",
    "target_correlation = correlation_matrix[target_cols].sort_values(by=\"site_energy_use\", ascending=False)\n",
    "\n",
    "logger.info(\"✅ Matrice de corrélation extraite et triée.\")\n",
    "\n",
    "# Afficher la heatmap des corrélations pour visualiser les différences\n",
    "logger.info(\"📊 Affichage de la heatmap des corrélations...\")\n",
    "\n",
    "plt.figure(figsize=(10, 8))\n",
    "sns.heatmap(target_correlation, annot=True, cmap=\"coolwarm\", fmt=\".2f\", linewidths=0.5)\n",
    "plt.title(\"Corrélation des variables avec 'site_energy_use' et 'ghg_emissions_total'\")\n",
    "plt.show()\n",
    "\n",
    "logger.info(\"✅ Heatmap affichée avec succès.\")\n",
    "logger.info(\"=\" * 60)\n"
   ]
  },
  {
   "cell_type": "code",
   "execution_count": 18,
   "metadata": {},
   "outputs": [
    {
     "name": "stderr",
     "output_type": "stream",
     "text": [
      "\u001b[32m2025-01-31 15:51:14.511\u001b[0m | \u001b[1mINFO    \u001b[0m | \u001b[36m__main__\u001b[0m:\u001b[36m<module>\u001b[0m:\u001b[36m1\u001b[0m - \u001b[1m============================================================\u001b[0m\n",
      "\u001b[32m2025-01-31 15:51:14.512\u001b[0m | \u001b[1mINFO    \u001b[0m | \u001b[36m__main__\u001b[0m:\u001b[36m<module>\u001b[0m:\u001b[36m5\u001b[0m - \u001b[1m 🗑 Suppression des colonnes faiblement corrélées : ['year', 'council_district', 'longitude', 'latitude', 'zip_code', 'building_id']\u001b[0m\n",
      "\u001b[32m2025-01-31 15:51:14.514\u001b[0m | \u001b[1mINFO    \u001b[0m | \u001b[36m__main__\u001b[0m:\u001b[36m<module>\u001b[0m:\u001b[36m10\u001b[0m - \u001b[1m✅ Colonnes faiblement corrélées supprimées. Nouveau nombre de colonnes : 26\u001b[0m\n",
      "\u001b[32m2025-01-31 15:51:14.515\u001b[0m | \u001b[1mINFO    \u001b[0m | \u001b[36m__main__\u001b[0m:\u001b[36m<module>\u001b[0m:\u001b[36m11\u001b[0m - \u001b[1m============================================================\u001b[0m\n"
     ]
    }
   ],
   "source": [
    "logger.info(\"=\" * 60)\n",
    "# Définition des colonnes à supprimer car trop peu corrélées avec les cibles\n",
    "low_corr_cols = [\"year\", \"council_district\", \"longitude\", \"latitude\", \"zip_code\", \"building_id\"]\n",
    "\n",
    "logger.info(f\" 🗑 Suppression des colonnes faiblement corrélées : {low_corr_cols}\")\n",
    "\n",
    "# Suppression des colonnes\n",
    "building_consumption_cleaned.drop(columns=low_corr_cols, inplace=True, errors='ignore')\n",
    "\n",
    "logger.info(f\"✅ Colonnes faiblement corrélées supprimées. Nouveau nombre de colonnes : {building_consumption_cleaned.shape[1]}\")\n",
    "logger.info(\"=\" * 60)"
   ]
  },
  {
   "cell_type": "code",
   "execution_count": 19,
   "metadata": {},
   "outputs": [
    {
     "name": "stderr",
     "output_type": "stream",
     "text": [
      "\u001b[32m2025-01-31 15:51:14.521\u001b[0m | \u001b[1mINFO    \u001b[0m | \u001b[36m__main__\u001b[0m:\u001b[36m<module>\u001b[0m:\u001b[36m1\u001b[0m - \u001b[1m============================================================\u001b[0m\n",
      "\u001b[32m2025-01-31 15:51:14.522\u001b[0m | \u001b[1mINFO    \u001b[0m | \u001b[36m__main__\u001b[0m:\u001b[36m<module>\u001b[0m:\u001b[36m5\u001b[0m - \u001b[1m 🔄 Suppression des colonnes redondantes : ['electricity_kwh', 'natural_gas_therms', 'site_energy_use_wn']\u001b[0m\n",
      "\u001b[32m2025-01-31 15:51:14.523\u001b[0m | \u001b[1mINFO    \u001b[0m | \u001b[36m__main__\u001b[0m:\u001b[36m<module>\u001b[0m:\u001b[36m10\u001b[0m - \u001b[1m✅ Colonnes redondantes supprimées. Nouveau nombre de colonnes : 23\u001b[0m\n",
      "\u001b[32m2025-01-31 15:51:14.524\u001b[0m | \u001b[1mINFO    \u001b[0m | \u001b[36m__main__\u001b[0m:\u001b[36m<module>\u001b[0m:\u001b[36m11\u001b[0m - \u001b[1m============================================================\u001b[0m\n"
     ]
    }
   ],
   "source": [
    "logger.info(\"=\" * 60)\n",
    "# Définition des colonnes redondantes à supprimer\n",
    "redundant_cols = [\"electricity_kwh\", \"natural_gas_therms\", \"site_energy_use_wn\"]  # On garde 'electricity_kbtu' et 'natural_gas_kbtu'\n",
    "\n",
    "logger.info(f\" 🔄 Suppression des colonnes redondantes : {redundant_cols}\")\n",
    "\n",
    "# Suppression des colonnes redondantes\n",
    "building_consumption_cleaned.drop(columns=redundant_cols, inplace=True, errors='ignore')\n",
    "\n",
    "logger.info(f\"✅ Colonnes redondantes supprimées. Nouveau nombre de colonnes : {building_consumption_cleaned.shape[1]}\")\n",
    "logger.info(\"=\" * 60)"
   ]
  },
  {
   "cell_type": "code",
   "execution_count": 20,
   "metadata": {},
   "outputs": [
    {
     "name": "stderr",
     "output_type": "stream",
     "text": [
      "\u001b[32m2025-01-31 15:51:14.530\u001b[0m | \u001b[1mINFO    \u001b[0m | \u001b[36m__main__\u001b[0m:\u001b[36m<module>\u001b[0m:\u001b[36m1\u001b[0m - \u001b[1m============================================================\u001b[0m\n",
      "\u001b[32m2025-01-31 15:51:14.531\u001b[0m | \u001b[1mINFO    \u001b[0m | \u001b[36m__main__\u001b[0m:\u001b[36m<module>\u001b[0m:\u001b[36m2\u001b[0m - \u001b[1m📊 Vérification finale du dataset après nettoyage...\u001b[0m\n",
      "\u001b[32m2025-01-31 15:51:14.531\u001b[0m | \u001b[1mINFO    \u001b[0m | \u001b[36m__main__\u001b[0m:\u001b[36m<module>\u001b[0m:\u001b[36m3\u001b[0m - \u001b[1m--------------------\u001b[0m\n",
      "\u001b[32m2025-01-31 15:51:14.532\u001b[0m | \u001b[1mINFO    \u001b[0m | \u001b[36m__main__\u001b[0m:\u001b[36m<module>\u001b[0m:\u001b[36m4\u001b[0m - \u001b[1mNombre final de lignes : 1668\u001b[0m\n",
      "\u001b[32m2025-01-31 15:51:14.533\u001b[0m | \u001b[1mINFO    \u001b[0m | \u001b[36m__main__\u001b[0m:\u001b[36m<module>\u001b[0m:\u001b[36m5\u001b[0m - \u001b[1mNombre final de colonnes : 23\u001b[0m\n",
      "\u001b[32m2025-01-31 15:51:14.534\u001b[0m | \u001b[1mINFO    \u001b[0m | \u001b[36m__main__\u001b[0m:\u001b[36m<module>\u001b[0m:\u001b[36m6\u001b[0m - \u001b[1m============================================================\u001b[0m\n",
      "\u001b[32m2025-01-31 15:51:14.534\u001b[0m | \u001b[1mINFO    \u001b[0m | \u001b[36m__main__\u001b[0m:\u001b[36m<module>\u001b[0m:\u001b[36m8\u001b[0m - \u001b[1m🔍 Aperçu des 5 premières lignes après nettoyage :\u001b[0m\n",
      "\u001b[32m2025-01-31 15:51:14.535\u001b[0m | \u001b[1mINFO    \u001b[0m | \u001b[36m__main__\u001b[0m:\u001b[36m<module>\u001b[0m:\u001b[36m9\u001b[0m - \u001b[1m============================================================\u001b[0m\n",
      "\u001b[32m2025-01-31 15:51:14.539\u001b[0m | \u001b[1mINFO    \u001b[0m | \u001b[36m__main__\u001b[0m:\u001b[36m<module>\u001b[0m:\u001b[36m10\u001b[0m - \u001b[1m\n",
      "     building_type property_type neighborhood  year_built  num_buildings  num_floors  gfa_total  gfa_parking  gfa_buildings largest_use_type  largest_use_gfa    site_eui  site_eui_wn  source_eui  source_eui_wn  site_energy_use    steam_use  electricity_kbtu  natural_gas_kbtu  default_data  \\\n",
      "0  NonResidential         Hotel     DOWNTOWN        1927            1.0          12      88434            0          88434            Hotel          88434.0   81.699997    84.300003  182.500000     189.000000        7226362.5   2003882.00         3946027.0         1276453.0         False   \n",
      "1  NonResidential         Hotel     DOWNTOWN        1996            1.0          11     103566        15064          88502            Hotel          83880.0   94.800003    97.900002  176.100006     179.399994        8387933.0         0.00         3242851.0         5145082.0         False   \n",
      "2  NonResidential         Hotel     DOWNTOWN        1969            1.0          41     956110       196718         759392            Hotel         756493.0   96.000000    97.699997  241.899994     244.100006       72587024.0  21566554.00        49526664.0         1493800.0         False   \n",
      "3  NonResidential         Hotel     DOWNTOWN        1926            1.0          10      61320            0          61320            Hotel          61320.0  110.800003   113.300003  216.199997     224.000000        6794584.0   2214446.25         2768924.0         1811213.0         False   \n",
      "4  NonResidential         Hotel     DOWNTOWN        1980            1.0          18     175580        62000         113580            Hotel         123445.0  114.800003   118.699997  211.399994     215.600006       14172606.0         0.00         5368607.0         8803998.0         False   \n",
      "\n",
      "  compliance_status  ghg_emissions_total  ghg_emissions_intensity  \n",
      "0         Compliant               249.98                     2.83  \n",
      "1         Compliant               295.86                     2.86  \n",
      "2         Compliant              2089.28                     2.19  \n",
      "3         Compliant               286.43                     4.67  \n",
      "4         Compliant               505.01                     2.88  \u001b[0m\n"
     ]
    }
   ],
   "source": [
    "logger.info(\"=\" * 60)\n",
    "logger.info(\"📊 Vérification finale du dataset après nettoyage...\")\n",
    "logger.info(\"-\" * 20)\n",
    "logger.info(f\"Nombre final de lignes : {building_consumption_cleaned.shape[0]}\")\n",
    "logger.info(f\"Nombre final de colonnes : {building_consumption_cleaned.shape[1]}\")\n",
    "logger.info(\"=\" * 60)\n",
    "# Afficher un aperçu des 5 premières lignes après nettoyage\n",
    "logger.info(\"🔍 Aperçu des 5 premières lignes après nettoyage :\")\n",
    "logger.info(\"=\" * 60)\n",
    "logger.info(f\"\\n {building_consumption_cleaned.head()}\")\n"
   ]
  },
  {
   "cell_type": "code",
   "execution_count": 26,
   "metadata": {},
   "outputs": [
    {
     "name": "stderr",
     "output_type": "stream",
     "text": [
      "\u001b[32m2025-01-31 16:08:40.878\u001b[0m | \u001b[1mINFO    \u001b[0m | \u001b[36m__main__\u001b[0m:\u001b[36m<module>\u001b[0m:\u001b[36m1\u001b[0m - \u001b[1m============================================================\u001b[0m\n",
      "\u001b[32m2025-01-31 16:08:40.878\u001b[0m | \u001b[1mINFO    \u001b[0m | \u001b[36m__main__\u001b[0m:\u001b[36m<module>\u001b[0m:\u001b[36m2\u001b[0m - \u001b[1m🔍 Début de l'analyse des variables numériques.\u001b[0m\n",
      "\u001b[32m2025-01-31 16:08:40.879\u001b[0m | \u001b[1mINFO    \u001b[0m | \u001b[36m__main__\u001b[0m:\u001b[36m<module>\u001b[0m:\u001b[36m3\u001b[0m - \u001b[1m============================================================\u001b[0m\n",
      "\u001b[32m2025-01-31 16:08:40.882\u001b[0m | \u001b[1mINFO    \u001b[0m | \u001b[36m__main__\u001b[0m:\u001b[36m<module>\u001b[0m:\u001b[36m36\u001b[0m - \u001b[1m------------------------------------------------------------\u001b[0m\n",
      "\u001b[32m2025-01-31 16:08:40.883\u001b[0m | \u001b[1mINFO    \u001b[0m | \u001b[36m__main__\u001b[0m:\u001b[36m<module>\u001b[0m:\u001b[36m37\u001b[0m - \u001b[1m📊 Colonnes numériques détectées : ['site_energy_use', 'ghg_emissions_total', 'year_built', 'num_buildings', 'num_floors', 'gfa_total', 'gfa_parking', 'gfa_buildings', 'largest_use_gfa', 'site_eui', 'site_eui_wn', 'source_eui', 'source_eui_wn', 'steam_use', 'electricity_kbtu', 'natural_gas_kbtu', 'ghg_emissions_intensity']\u001b[0m\n",
      "\u001b[32m2025-01-31 16:08:40.884\u001b[0m | \u001b[1mINFO    \u001b[0m | \u001b[36m__main__\u001b[0m:\u001b[36m<module>\u001b[0m:\u001b[36m38\u001b[0m - \u001b[1m--------------------\u001b[0m\n",
      "\u001b[32m2025-01-31 16:08:40.885\u001b[0m | \u001b[1mINFO    \u001b[0m | \u001b[36m__main__\u001b[0m:\u001b[36m<module>\u001b[0m:\u001b[36m39\u001b[0m - \u001b[1m📖 Colonnes catégorielles détectées : ['building_type', 'property_type', 'neighborhood', 'largest_use_type', 'compliance_status']\u001b[0m\n",
      "\u001b[32m2025-01-31 16:08:40.885\u001b[0m | \u001b[1mINFO    \u001b[0m | \u001b[36m__main__\u001b[0m:\u001b[36m<module>\u001b[0m:\u001b[36m40\u001b[0m - \u001b[1m------------------------------------------------------------\u001b[0m\n",
      "\u001b[32m2025-01-31 16:08:40.886\u001b[0m | \u001b[1mINFO    \u001b[0m | \u001b[36m__main__\u001b[0m:\u001b[36m<module>\u001b[0m:\u001b[36m73\u001b[0m - \u001b[1m📌 Analyse en cours pour la colonne : site_energy_use\u001b[0m\n",
      "\u001b[32m2025-01-31 16:08:41.014\u001b[0m | \u001b[1mINFO    \u001b[0m | \u001b[36m__main__\u001b[0m:\u001b[36m<module>\u001b[0m:\u001b[36m87\u001b[0m - \u001b[1m   📈 Histogramme créé pour site_energy_use.\u001b[0m\n",
      "\u001b[32m2025-01-31 16:08:41.055\u001b[0m | \u001b[1mINFO    \u001b[0m | \u001b[36m__main__\u001b[0m:\u001b[36m<module>\u001b[0m:\u001b[36m93\u001b[0m - \u001b[1m   📊 Boxplot créé pour site_energy_use.\u001b[0m\n",
      "\u001b[32m2025-01-31 16:08:41.096\u001b[0m | \u001b[1mINFO    \u001b[0m | \u001b[36m__main__\u001b[0m:\u001b[36m<module>\u001b[0m:\u001b[36m106\u001b[0m - \u001b[1m  📉 KDE ajoutée pour site_energy_use.\u001b[0m\n",
      "\u001b[32m2025-01-31 16:08:41.099\u001b[0m | \u001b[1mINFO    \u001b[0m | \u001b[36m__main__\u001b[0m:\u001b[36m<module>\u001b[0m:\u001b[36m114\u001b[0m - \u001b[1m  📊 Tableau des statistiques créé pour site_energy_use.\u001b[0m\n",
      "\u001b[32m2025-01-31 16:08:41.100\u001b[0m | \u001b[1mINFO    \u001b[0m | \u001b[36m__main__\u001b[0m:\u001b[36m<module>\u001b[0m:\u001b[36m73\u001b[0m - \u001b[1m📌 Analyse en cours pour la colonne : ghg_emissions_total\u001b[0m\n",
      "\u001b[32m2025-01-31 16:08:41.182\u001b[0m | \u001b[1mINFO    \u001b[0m | \u001b[36m__main__\u001b[0m:\u001b[36m<module>\u001b[0m:\u001b[36m87\u001b[0m - \u001b[1m   📈 Histogramme créé pour ghg_emissions_total.\u001b[0m\n",
      "\u001b[32m2025-01-31 16:08:41.230\u001b[0m | \u001b[1mINFO    \u001b[0m | \u001b[36m__main__\u001b[0m:\u001b[36m<module>\u001b[0m:\u001b[36m93\u001b[0m - \u001b[1m   📊 Boxplot créé pour ghg_emissions_total.\u001b[0m\n",
      "\u001b[32m2025-01-31 16:08:41.286\u001b[0m | \u001b[1mINFO    \u001b[0m | \u001b[36m__main__\u001b[0m:\u001b[36m<module>\u001b[0m:\u001b[36m106\u001b[0m - \u001b[1m  📉 KDE ajoutée pour ghg_emissions_total.\u001b[0m\n",
      "\u001b[32m2025-01-31 16:08:41.289\u001b[0m | \u001b[1mINFO    \u001b[0m | \u001b[36m__main__\u001b[0m:\u001b[36m<module>\u001b[0m:\u001b[36m114\u001b[0m - \u001b[1m  📊 Tableau des statistiques créé pour ghg_emissions_total.\u001b[0m\n",
      "\u001b[32m2025-01-31 16:08:41.290\u001b[0m | \u001b[1mINFO    \u001b[0m | \u001b[36m__main__\u001b[0m:\u001b[36m<module>\u001b[0m:\u001b[36m73\u001b[0m - \u001b[1m📌 Analyse en cours pour la colonne : year_built\u001b[0m\n",
      "\u001b[32m2025-01-31 16:08:41.372\u001b[0m | \u001b[1mINFO    \u001b[0m | \u001b[36m__main__\u001b[0m:\u001b[36m<module>\u001b[0m:\u001b[36m87\u001b[0m - \u001b[1m   📈 Histogramme créé pour year_built.\u001b[0m\n",
      "\u001b[32m2025-01-31 16:08:41.418\u001b[0m | \u001b[1mINFO    \u001b[0m | \u001b[36m__main__\u001b[0m:\u001b[36m<module>\u001b[0m:\u001b[36m93\u001b[0m - \u001b[1m   📊 Boxplot créé pour year_built.\u001b[0m\n",
      "\u001b[32m2025-01-31 16:08:41.473\u001b[0m | \u001b[1mINFO    \u001b[0m | \u001b[36m__main__\u001b[0m:\u001b[36m<module>\u001b[0m:\u001b[36m106\u001b[0m - \u001b[1m  📉 KDE ajoutée pour year_built.\u001b[0m\n",
      "\u001b[32m2025-01-31 16:08:41.476\u001b[0m | \u001b[1mINFO    \u001b[0m | \u001b[36m__main__\u001b[0m:\u001b[36m<module>\u001b[0m:\u001b[36m114\u001b[0m - \u001b[1m  📊 Tableau des statistiques créé pour year_built.\u001b[0m\n",
      "\u001b[32m2025-01-31 16:08:41.476\u001b[0m | \u001b[1mINFO    \u001b[0m | \u001b[36m__main__\u001b[0m:\u001b[36m<module>\u001b[0m:\u001b[36m73\u001b[0m - \u001b[1m📌 Analyse en cours pour la colonne : num_buildings\u001b[0m\n",
      "\u001b[32m2025-01-31 16:08:41.547\u001b[0m | \u001b[1mINFO    \u001b[0m | \u001b[36m__main__\u001b[0m:\u001b[36m<module>\u001b[0m:\u001b[36m87\u001b[0m - \u001b[1m   📈 Histogramme créé pour num_buildings.\u001b[0m\n",
      "\u001b[32m2025-01-31 16:08:41.589\u001b[0m | \u001b[1mINFO    \u001b[0m | \u001b[36m__main__\u001b[0m:\u001b[36m<module>\u001b[0m:\u001b[36m93\u001b[0m - \u001b[1m   📊 Boxplot créé pour num_buildings.\u001b[0m\n",
      "\u001b[32m2025-01-31 16:08:41.629\u001b[0m | \u001b[1mINFO    \u001b[0m | \u001b[36m__main__\u001b[0m:\u001b[36m<module>\u001b[0m:\u001b[36m106\u001b[0m - \u001b[1m  📉 KDE ajoutée pour num_buildings.\u001b[0m\n",
      "\u001b[32m2025-01-31 16:08:41.631\u001b[0m | \u001b[1mINFO    \u001b[0m | \u001b[36m__main__\u001b[0m:\u001b[36m<module>\u001b[0m:\u001b[36m114\u001b[0m - \u001b[1m  📊 Tableau des statistiques créé pour num_buildings.\u001b[0m\n",
      "\u001b[32m2025-01-31 16:08:41.632\u001b[0m | \u001b[1mINFO    \u001b[0m | \u001b[36m__main__\u001b[0m:\u001b[36m<module>\u001b[0m:\u001b[36m73\u001b[0m - \u001b[1m📌 Analyse en cours pour la colonne : num_floors\u001b[0m\n",
      "\u001b[32m2025-01-31 16:08:41.704\u001b[0m | \u001b[1mINFO    \u001b[0m | \u001b[36m__main__\u001b[0m:\u001b[36m<module>\u001b[0m:\u001b[36m87\u001b[0m - \u001b[1m   📈 Histogramme créé pour num_floors.\u001b[0m\n",
      "\u001b[32m2025-01-31 16:08:41.745\u001b[0m | \u001b[1mINFO    \u001b[0m | \u001b[36m__main__\u001b[0m:\u001b[36m<module>\u001b[0m:\u001b[36m93\u001b[0m - \u001b[1m   📊 Boxplot créé pour num_floors.\u001b[0m\n",
      "\u001b[32m2025-01-31 16:08:41.798\u001b[0m | \u001b[1mINFO    \u001b[0m | \u001b[36m__main__\u001b[0m:\u001b[36m<module>\u001b[0m:\u001b[36m106\u001b[0m - \u001b[1m  📉 KDE ajoutée pour num_floors.\u001b[0m\n",
      "\u001b[32m2025-01-31 16:08:41.801\u001b[0m | \u001b[1mINFO    \u001b[0m | \u001b[36m__main__\u001b[0m:\u001b[36m<module>\u001b[0m:\u001b[36m114\u001b[0m - \u001b[1m  📊 Tableau des statistiques créé pour num_floors.\u001b[0m\n",
      "\u001b[32m2025-01-31 16:08:41.801\u001b[0m | \u001b[1mINFO    \u001b[0m | \u001b[36m__main__\u001b[0m:\u001b[36m<module>\u001b[0m:\u001b[36m73\u001b[0m - \u001b[1m📌 Analyse en cours pour la colonne : gfa_total\u001b[0m\n",
      "\u001b[32m2025-01-31 16:08:41.866\u001b[0m | \u001b[1mINFO    \u001b[0m | \u001b[36m__main__\u001b[0m:\u001b[36m<module>\u001b[0m:\u001b[36m87\u001b[0m - \u001b[1m   📈 Histogramme créé pour gfa_total.\u001b[0m\n",
      "\u001b[32m2025-01-31 16:08:41.905\u001b[0m | \u001b[1mINFO    \u001b[0m | \u001b[36m__main__\u001b[0m:\u001b[36m<module>\u001b[0m:\u001b[36m93\u001b[0m - \u001b[1m   📊 Boxplot créé pour gfa_total.\u001b[0m\n",
      "\u001b[32m2025-01-31 16:08:41.952\u001b[0m | \u001b[1mINFO    \u001b[0m | \u001b[36m__main__\u001b[0m:\u001b[36m<module>\u001b[0m:\u001b[36m106\u001b[0m - \u001b[1m  📉 KDE ajoutée pour gfa_total.\u001b[0m\n",
      "\u001b[32m2025-01-31 16:08:41.954\u001b[0m | \u001b[1mINFO    \u001b[0m | \u001b[36m__main__\u001b[0m:\u001b[36m<module>\u001b[0m:\u001b[36m114\u001b[0m - \u001b[1m  📊 Tableau des statistiques créé pour gfa_total.\u001b[0m\n",
      "\u001b[32m2025-01-31 16:08:41.955\u001b[0m | \u001b[1mINFO    \u001b[0m | \u001b[36m__main__\u001b[0m:\u001b[36m<module>\u001b[0m:\u001b[36m73\u001b[0m - \u001b[1m📌 Analyse en cours pour la colonne : gfa_parking\u001b[0m\n",
      "\u001b[32m2025-01-31 16:08:42.030\u001b[0m | \u001b[1mINFO    \u001b[0m | \u001b[36m__main__\u001b[0m:\u001b[36m<module>\u001b[0m:\u001b[36m87\u001b[0m - \u001b[1m   📈 Histogramme créé pour gfa_parking.\u001b[0m\n",
      "\u001b[32m2025-01-31 16:08:42.072\u001b[0m | \u001b[1mINFO    \u001b[0m | \u001b[36m__main__\u001b[0m:\u001b[36m<module>\u001b[0m:\u001b[36m93\u001b[0m - \u001b[1m   📊 Boxplot créé pour gfa_parking.\u001b[0m\n",
      "\u001b[32m2025-01-31 16:08:42.121\u001b[0m | \u001b[1mINFO    \u001b[0m | \u001b[36m__main__\u001b[0m:\u001b[36m<module>\u001b[0m:\u001b[36m106\u001b[0m - \u001b[1m  📉 KDE ajoutée pour gfa_parking.\u001b[0m\n",
      "\u001b[32m2025-01-31 16:08:42.123\u001b[0m | \u001b[1mINFO    \u001b[0m | \u001b[36m__main__\u001b[0m:\u001b[36m<module>\u001b[0m:\u001b[36m114\u001b[0m - \u001b[1m  📊 Tableau des statistiques créé pour gfa_parking.\u001b[0m\n",
      "\u001b[32m2025-01-31 16:08:42.124\u001b[0m | \u001b[1mINFO    \u001b[0m | \u001b[36m__main__\u001b[0m:\u001b[36m<module>\u001b[0m:\u001b[36m73\u001b[0m - \u001b[1m📌 Analyse en cours pour la colonne : gfa_buildings\u001b[0m\n",
      "\u001b[32m2025-01-31 16:08:42.189\u001b[0m | \u001b[1mINFO    \u001b[0m | \u001b[36m__main__\u001b[0m:\u001b[36m<module>\u001b[0m:\u001b[36m87\u001b[0m - \u001b[1m   📈 Histogramme créé pour gfa_buildings.\u001b[0m\n",
      "\u001b[32m2025-01-31 16:08:42.228\u001b[0m | \u001b[1mINFO    \u001b[0m | \u001b[36m__main__\u001b[0m:\u001b[36m<module>\u001b[0m:\u001b[36m93\u001b[0m - \u001b[1m   📊 Boxplot créé pour gfa_buildings.\u001b[0m\n",
      "\u001b[32m2025-01-31 16:08:42.273\u001b[0m | \u001b[1mINFO    \u001b[0m | \u001b[36m__main__\u001b[0m:\u001b[36m<module>\u001b[0m:\u001b[36m106\u001b[0m - \u001b[1m  📉 KDE ajoutée pour gfa_buildings.\u001b[0m\n",
      "\u001b[32m2025-01-31 16:08:42.276\u001b[0m | \u001b[1mINFO    \u001b[0m | \u001b[36m__main__\u001b[0m:\u001b[36m<module>\u001b[0m:\u001b[36m114\u001b[0m - \u001b[1m  📊 Tableau des statistiques créé pour gfa_buildings.\u001b[0m\n",
      "\u001b[32m2025-01-31 16:08:42.277\u001b[0m | \u001b[1mINFO    \u001b[0m | \u001b[36m__main__\u001b[0m:\u001b[36m<module>\u001b[0m:\u001b[36m73\u001b[0m - \u001b[1m📌 Analyse en cours pour la colonne : largest_use_gfa\u001b[0m\n",
      "\u001b[32m2025-01-31 16:08:42.551\u001b[0m | \u001b[1mINFO    \u001b[0m | \u001b[36m__main__\u001b[0m:\u001b[36m<module>\u001b[0m:\u001b[36m87\u001b[0m - \u001b[1m   📈 Histogramme créé pour largest_use_gfa.\u001b[0m\n",
      "\u001b[32m2025-01-31 16:08:42.591\u001b[0m | \u001b[1mINFO    \u001b[0m | \u001b[36m__main__\u001b[0m:\u001b[36m<module>\u001b[0m:\u001b[36m93\u001b[0m - \u001b[1m   📊 Boxplot créé pour largest_use_gfa.\u001b[0m\n",
      "\u001b[32m2025-01-31 16:08:42.628\u001b[0m | \u001b[1mINFO    \u001b[0m | \u001b[36m__main__\u001b[0m:\u001b[36m<module>\u001b[0m:\u001b[36m106\u001b[0m - \u001b[1m  📉 KDE ajoutée pour largest_use_gfa.\u001b[0m\n",
      "\u001b[32m2025-01-31 16:08:42.631\u001b[0m | \u001b[1mINFO    \u001b[0m | \u001b[36m__main__\u001b[0m:\u001b[36m<module>\u001b[0m:\u001b[36m114\u001b[0m - \u001b[1m  📊 Tableau des statistiques créé pour largest_use_gfa.\u001b[0m\n",
      "\u001b[32m2025-01-31 16:08:42.631\u001b[0m | \u001b[1mINFO    \u001b[0m | \u001b[36m__main__\u001b[0m:\u001b[36m<module>\u001b[0m:\u001b[36m73\u001b[0m - \u001b[1m📌 Analyse en cours pour la colonne : site_eui\u001b[0m\n",
      "\u001b[32m2025-01-31 16:08:42.705\u001b[0m | \u001b[1mINFO    \u001b[0m | \u001b[36m__main__\u001b[0m:\u001b[36m<module>\u001b[0m:\u001b[36m87\u001b[0m - \u001b[1m   📈 Histogramme créé pour site_eui.\u001b[0m\n",
      "\u001b[32m2025-01-31 16:08:42.744\u001b[0m | \u001b[1mINFO    \u001b[0m | \u001b[36m__main__\u001b[0m:\u001b[36m<module>\u001b[0m:\u001b[36m93\u001b[0m - \u001b[1m   📊 Boxplot créé pour site_eui.\u001b[0m\n",
      "\u001b[32m2025-01-31 16:08:42.790\u001b[0m | \u001b[1mINFO    \u001b[0m | \u001b[36m__main__\u001b[0m:\u001b[36m<module>\u001b[0m:\u001b[36m106\u001b[0m - \u001b[1m  📉 KDE ajoutée pour site_eui.\u001b[0m\n",
      "\u001b[32m2025-01-31 16:08:42.792\u001b[0m | \u001b[1mINFO    \u001b[0m | \u001b[36m__main__\u001b[0m:\u001b[36m<module>\u001b[0m:\u001b[36m114\u001b[0m - \u001b[1m  📊 Tableau des statistiques créé pour site_eui.\u001b[0m\n",
      "\u001b[32m2025-01-31 16:08:42.792\u001b[0m | \u001b[1mINFO    \u001b[0m | \u001b[36m__main__\u001b[0m:\u001b[36m<module>\u001b[0m:\u001b[36m73\u001b[0m - \u001b[1m📌 Analyse en cours pour la colonne : site_eui_wn\u001b[0m\n",
      "\u001b[32m2025-01-31 16:08:42.865\u001b[0m | \u001b[1mINFO    \u001b[0m | \u001b[36m__main__\u001b[0m:\u001b[36m<module>\u001b[0m:\u001b[36m87\u001b[0m - \u001b[1m   📈 Histogramme créé pour site_eui_wn.\u001b[0m\n",
      "\u001b[32m2025-01-31 16:08:42.905\u001b[0m | \u001b[1mINFO    \u001b[0m | \u001b[36m__main__\u001b[0m:\u001b[36m<module>\u001b[0m:\u001b[36m93\u001b[0m - \u001b[1m   📊 Boxplot créé pour site_eui_wn.\u001b[0m\n",
      "\u001b[32m2025-01-31 16:08:42.949\u001b[0m | \u001b[1mINFO    \u001b[0m | \u001b[36m__main__\u001b[0m:\u001b[36m<module>\u001b[0m:\u001b[36m106\u001b[0m - \u001b[1m  📉 KDE ajoutée pour site_eui_wn.\u001b[0m\n",
      "\u001b[32m2025-01-31 16:08:42.952\u001b[0m | \u001b[1mINFO    \u001b[0m | \u001b[36m__main__\u001b[0m:\u001b[36m<module>\u001b[0m:\u001b[36m114\u001b[0m - \u001b[1m  📊 Tableau des statistiques créé pour site_eui_wn.\u001b[0m\n",
      "\u001b[32m2025-01-31 16:08:42.953\u001b[0m | \u001b[1mINFO    \u001b[0m | \u001b[36m__main__\u001b[0m:\u001b[36m<module>\u001b[0m:\u001b[36m73\u001b[0m - \u001b[1m📌 Analyse en cours pour la colonne : source_eui\u001b[0m\n",
      "\u001b[32m2025-01-31 16:08:43.028\u001b[0m | \u001b[1mINFO    \u001b[0m | \u001b[36m__main__\u001b[0m:\u001b[36m<module>\u001b[0m:\u001b[36m87\u001b[0m - \u001b[1m   📈 Histogramme créé pour source_eui.\u001b[0m\n",
      "\u001b[32m2025-01-31 16:08:43.067\u001b[0m | \u001b[1mINFO    \u001b[0m | \u001b[36m__main__\u001b[0m:\u001b[36m<module>\u001b[0m:\u001b[36m93\u001b[0m - \u001b[1m   📊 Boxplot créé pour source_eui.\u001b[0m\n",
      "\u001b[32m2025-01-31 16:08:43.112\u001b[0m | \u001b[1mINFO    \u001b[0m | \u001b[36m__main__\u001b[0m:\u001b[36m<module>\u001b[0m:\u001b[36m106\u001b[0m - \u001b[1m  📉 KDE ajoutée pour source_eui.\u001b[0m\n",
      "\u001b[32m2025-01-31 16:08:43.115\u001b[0m | \u001b[1mINFO    \u001b[0m | \u001b[36m__main__\u001b[0m:\u001b[36m<module>\u001b[0m:\u001b[36m114\u001b[0m - \u001b[1m  📊 Tableau des statistiques créé pour source_eui.\u001b[0m\n",
      "\u001b[32m2025-01-31 16:08:43.116\u001b[0m | \u001b[1mINFO    \u001b[0m | \u001b[36m__main__\u001b[0m:\u001b[36m<module>\u001b[0m:\u001b[36m73\u001b[0m - \u001b[1m📌 Analyse en cours pour la colonne : source_eui_wn\u001b[0m\n",
      "\u001b[32m2025-01-31 16:08:43.187\u001b[0m | \u001b[1mINFO    \u001b[0m | \u001b[36m__main__\u001b[0m:\u001b[36m<module>\u001b[0m:\u001b[36m87\u001b[0m - \u001b[1m   📈 Histogramme créé pour source_eui_wn.\u001b[0m\n",
      "\u001b[32m2025-01-31 16:08:43.233\u001b[0m | \u001b[1mINFO    \u001b[0m | \u001b[36m__main__\u001b[0m:\u001b[36m<module>\u001b[0m:\u001b[36m93\u001b[0m - \u001b[1m   📊 Boxplot créé pour source_eui_wn.\u001b[0m\n",
      "\u001b[32m2025-01-31 16:08:43.277\u001b[0m | \u001b[1mINFO    \u001b[0m | \u001b[36m__main__\u001b[0m:\u001b[36m<module>\u001b[0m:\u001b[36m106\u001b[0m - \u001b[1m  📉 KDE ajoutée pour source_eui_wn.\u001b[0m\n",
      "\u001b[32m2025-01-31 16:08:43.280\u001b[0m | \u001b[1mINFO    \u001b[0m | \u001b[36m__main__\u001b[0m:\u001b[36m<module>\u001b[0m:\u001b[36m114\u001b[0m - \u001b[1m  📊 Tableau des statistiques créé pour source_eui_wn.\u001b[0m\n",
      "\u001b[32m2025-01-31 16:08:43.280\u001b[0m | \u001b[1mINFO    \u001b[0m | \u001b[36m__main__\u001b[0m:\u001b[36m<module>\u001b[0m:\u001b[36m73\u001b[0m - \u001b[1m📌 Analyse en cours pour la colonne : steam_use\u001b[0m\n",
      "\u001b[32m2025-01-31 16:08:43.350\u001b[0m | \u001b[1mINFO    \u001b[0m | \u001b[36m__main__\u001b[0m:\u001b[36m<module>\u001b[0m:\u001b[36m87\u001b[0m - \u001b[1m   📈 Histogramme créé pour steam_use.\u001b[0m\n",
      "\u001b[32m2025-01-31 16:08:43.395\u001b[0m | \u001b[1mINFO    \u001b[0m | \u001b[36m__main__\u001b[0m:\u001b[36m<module>\u001b[0m:\u001b[36m93\u001b[0m - \u001b[1m   📊 Boxplot créé pour steam_use.\u001b[0m\n",
      "\u001b[32m2025-01-31 16:08:43.443\u001b[0m | \u001b[1mINFO    \u001b[0m | \u001b[36m__main__\u001b[0m:\u001b[36m<module>\u001b[0m:\u001b[36m106\u001b[0m - \u001b[1m  📉 KDE ajoutée pour steam_use.\u001b[0m\n",
      "\u001b[32m2025-01-31 16:08:43.445\u001b[0m | \u001b[1mINFO    \u001b[0m | \u001b[36m__main__\u001b[0m:\u001b[36m<module>\u001b[0m:\u001b[36m114\u001b[0m - \u001b[1m  📊 Tableau des statistiques créé pour steam_use.\u001b[0m\n",
      "\u001b[32m2025-01-31 16:08:43.446\u001b[0m | \u001b[1mINFO    \u001b[0m | \u001b[36m__main__\u001b[0m:\u001b[36m<module>\u001b[0m:\u001b[36m73\u001b[0m - \u001b[1m📌 Analyse en cours pour la colonne : electricity_kbtu\u001b[0m\n",
      "\u001b[32m2025-01-31 16:08:43.515\u001b[0m | \u001b[1mINFO    \u001b[0m | \u001b[36m__main__\u001b[0m:\u001b[36m<module>\u001b[0m:\u001b[36m87\u001b[0m - \u001b[1m   📈 Histogramme créé pour electricity_kbtu.\u001b[0m\n",
      "\u001b[32m2025-01-31 16:08:43.557\u001b[0m | \u001b[1mINFO    \u001b[0m | \u001b[36m__main__\u001b[0m:\u001b[36m<module>\u001b[0m:\u001b[36m93\u001b[0m - \u001b[1m   📊 Boxplot créé pour electricity_kbtu.\u001b[0m\n",
      "\u001b[32m2025-01-31 16:08:43.603\u001b[0m | \u001b[1mINFO    \u001b[0m | \u001b[36m__main__\u001b[0m:\u001b[36m<module>\u001b[0m:\u001b[36m106\u001b[0m - \u001b[1m  📉 KDE ajoutée pour electricity_kbtu.\u001b[0m\n",
      "\u001b[32m2025-01-31 16:08:43.605\u001b[0m | \u001b[1mINFO    \u001b[0m | \u001b[36m__main__\u001b[0m:\u001b[36m<module>\u001b[0m:\u001b[36m114\u001b[0m - \u001b[1m  📊 Tableau des statistiques créé pour electricity_kbtu.\u001b[0m\n",
      "\u001b[32m2025-01-31 16:08:43.606\u001b[0m | \u001b[1mINFO    \u001b[0m | \u001b[36m__main__\u001b[0m:\u001b[36m<module>\u001b[0m:\u001b[36m73\u001b[0m - \u001b[1m📌 Analyse en cours pour la colonne : natural_gas_kbtu\u001b[0m\n",
      "\u001b[32m2025-01-31 16:08:43.674\u001b[0m | \u001b[1mINFO    \u001b[0m | \u001b[36m__main__\u001b[0m:\u001b[36m<module>\u001b[0m:\u001b[36m87\u001b[0m - \u001b[1m   📈 Histogramme créé pour natural_gas_kbtu.\u001b[0m\n",
      "\u001b[32m2025-01-31 16:08:43.718\u001b[0m | \u001b[1mINFO    \u001b[0m | \u001b[36m__main__\u001b[0m:\u001b[36m<module>\u001b[0m:\u001b[36m93\u001b[0m - \u001b[1m   📊 Boxplot créé pour natural_gas_kbtu.\u001b[0m\n",
      "\u001b[32m2025-01-31 16:08:43.765\u001b[0m | \u001b[1mINFO    \u001b[0m | \u001b[36m__main__\u001b[0m:\u001b[36m<module>\u001b[0m:\u001b[36m106\u001b[0m - \u001b[1m  📉 KDE ajoutée pour natural_gas_kbtu.\u001b[0m\n",
      "\u001b[32m2025-01-31 16:08:43.768\u001b[0m | \u001b[1mINFO    \u001b[0m | \u001b[36m__main__\u001b[0m:\u001b[36m<module>\u001b[0m:\u001b[36m114\u001b[0m - \u001b[1m  📊 Tableau des statistiques créé pour natural_gas_kbtu.\u001b[0m\n",
      "\u001b[32m2025-01-31 16:08:43.769\u001b[0m | \u001b[1mINFO    \u001b[0m | \u001b[36m__main__\u001b[0m:\u001b[36m<module>\u001b[0m:\u001b[36m73\u001b[0m - \u001b[1m📌 Analyse en cours pour la colonne : ghg_emissions_intensity\u001b[0m\n",
      "\u001b[32m2025-01-31 16:08:43.839\u001b[0m | \u001b[1mINFO    \u001b[0m | \u001b[36m__main__\u001b[0m:\u001b[36m<module>\u001b[0m:\u001b[36m87\u001b[0m - \u001b[1m   📈 Histogramme créé pour ghg_emissions_intensity.\u001b[0m\n",
      "\u001b[32m2025-01-31 16:08:43.985\u001b[0m | \u001b[1mINFO    \u001b[0m | \u001b[36m__main__\u001b[0m:\u001b[36m<module>\u001b[0m:\u001b[36m93\u001b[0m - \u001b[1m   📊 Boxplot créé pour ghg_emissions_intensity.\u001b[0m\n",
      "\u001b[32m2025-01-31 16:08:44.043\u001b[0m | \u001b[1mINFO    \u001b[0m | \u001b[36m__main__\u001b[0m:\u001b[36m<module>\u001b[0m:\u001b[36m106\u001b[0m - \u001b[1m  📉 KDE ajoutée pour ghg_emissions_intensity.\u001b[0m\n",
      "\u001b[32m2025-01-31 16:08:44.046\u001b[0m | \u001b[1mINFO    \u001b[0m | \u001b[36m__main__\u001b[0m:\u001b[36m<module>\u001b[0m:\u001b[36m114\u001b[0m - \u001b[1m  📊 Tableau des statistiques créé pour ghg_emissions_intensity.\u001b[0m\n",
      "\u001b[32m2025-01-31 16:08:44.047\u001b[0m | \u001b[1mINFO    \u001b[0m | \u001b[36m__main__\u001b[0m:\u001b[36m<module>\u001b[0m:\u001b[36m139\u001b[0m - \u001b[1m📌 Analyse en cours pour la colonne catégorielle : building_type\u001b[0m\n",
      "\u001b[32m2025-01-31 16:08:44.139\u001b[0m | \u001b[1mINFO    \u001b[0m | \u001b[36m__main__\u001b[0m:\u001b[36m<module>\u001b[0m:\u001b[36m139\u001b[0m - \u001b[1m📌 Analyse en cours pour la colonne catégorielle : property_type\u001b[0m\n",
      "\u001b[32m2025-01-31 16:08:44.342\u001b[0m | \u001b[1mINFO    \u001b[0m | \u001b[36m__main__\u001b[0m:\u001b[36m<module>\u001b[0m:\u001b[36m139\u001b[0m - \u001b[1m📌 Analyse en cours pour la colonne catégorielle : neighborhood\u001b[0m\n",
      "\u001b[32m2025-01-31 16:08:44.518\u001b[0m | \u001b[1mINFO    \u001b[0m | \u001b[36m__main__\u001b[0m:\u001b[36m<module>\u001b[0m:\u001b[36m139\u001b[0m - \u001b[1m📌 Analyse en cours pour la colonne catégorielle : largest_use_type\u001b[0m\n",
      "\u001b[32m2025-01-31 16:08:44.965\u001b[0m | \u001b[1mINFO    \u001b[0m | \u001b[36m__main__\u001b[0m:\u001b[36m<module>\u001b[0m:\u001b[36m139\u001b[0m - \u001b[1m📌 Analyse en cours pour la colonne catégorielle : compliance_status\u001b[0m\n",
      "\u001b[32m2025-01-31 16:08:45.061\u001b[0m | \u001b[1mINFO    \u001b[0m | \u001b[36m__main__\u001b[0m:\u001b[36m<module>\u001b[0m:\u001b[36m171\u001b[0m - \u001b[1m✅ Rapport HTML généré avec succès : f:\\1.Boulot\\02_Openclassrooms\\Github\\consommation_energie_batiments\\outputs\\analyse_numerique.html\u001b[0m\n",
      "\u001b[32m2025-01-31 16:08:45.062\u001b[0m | \u001b[1mINFO    \u001b[0m | \u001b[36m__main__\u001b[0m:\u001b[36m<module>\u001b[0m:\u001b[36m172\u001b[0m - \u001b[1m🎯 Fin de l'analyse des colonnes numériques.\u001b[0m\n",
      "\u001b[32m2025-01-31 16:08:45.062\u001b[0m | \u001b[1mINFO    \u001b[0m | \u001b[36m__main__\u001b[0m:\u001b[36m<module>\u001b[0m:\u001b[36m173\u001b[0m - \u001b[1m============================================================\u001b[0m\n"
     ]
    }
   ],
   "source": [
    "logger.info(\"=\" * 60)\n",
    "logger.info(\"🔍 Début de l'analyse des variables numériques.\")\n",
    "logger.info(\"=\" * 60)\n",
    "\n",
    "# Définir le chemin du répertoire outputs\n",
    "output_dir = directories[\"outputs_dir\"][\"absolute\"]\n",
    "os.makedirs(output_dir, exist_ok=True)\n",
    " \n",
    "# Liste des variables cibles et explicatives\n",
    "TARGET_VARS = [\"site_energy_use\", \"ghg_emissions_total\"]\n",
    "other_numerical_columns = [col for col in building_consumption_cleaned.select_dtypes(include=['int64', 'float64']).columns if col not in TARGET_VARS]\n",
    "numerical_columns = TARGET_VARS + other_numerical_columns  # On place les cibles en premier\n",
    "categorical_columns = building_consumption_cleaned.select_dtypes(include=['object', 'category']).columns\n",
    "\n",
    "# Mapping des titres plus explicites\n",
    "title_mapping = {\n",
    "    \"site_energy_use\": \"🔋 Consommation énergétique du site\",\n",
    "    \"ghg_emissions_total\": \"🌍 Émissions totales de CO2\",\n",
    "    \"year_built\": \"🏗 Année de construction\",\n",
    "    \"num_buildings\": \"🏢 Nombre de bâtiments\",\n",
    "    \"num_floors\": \"📊 Nombre d'étages\",\n",
    "    \"gfa_total\": \"📏 Surface totale (sqft)\",\n",
    "    \"gfa_parking\": \"🚗 Surface du parking (sqft)\",\n",
    "    \"gfa_buildings\": \"🏠 Surface des bâtiments (sqft)\",\n",
    "    \"largest_use_gfa\": \"🏢 Surface du plus grand usage\",\n",
    "    \"site_eui\": \"⚡ Intensité de l'utilisation de l'énergie (EUI)\",\n",
    "    \"site_eui_wn\": \"🌤 EUI normalisé par la météo\",\n",
    "    \"source_eui\": \"🔌 Source EUI\",\n",
    "    \"source_eui_wn\": \"⛅ Source EUI normalisé\",\n",
    "    \"steam_use\": \"💨 Consommation de vapeur (kBtu)\",\n",
    "    \"electricity_kbtu\": \"⚡ Consommation électrique (kBtu)\",\n",
    "    \"natural_gas_kbtu\": \"🔥 Consommation de gaz naturel (kBtu)\",\n",
    "    \"ghg_emissions_intensity\": \"🌱 Intensité des émissions de CO2\"\n",
    "}\n",
    "\n",
    "logger.info(\"-\" * 60)\n",
    "logger.info(f\"\\U0001F4CA Colonnes numériques détectées : {list(numerical_columns)}\")\n",
    "logger.info(\"-\" * 20)\n",
    "logger.info(f\"\\U0001F4D6 Colonnes catégorielles détectées : {list(categorical_columns)}\")\n",
    "logger.info(\"-\" * 60)\n",
    "\n",
    "html_content = \"\"\"\n",
    "<html>\n",
    "<head>\n",
    "    <title>Analyse des Variables Numériques</title>\n",
    "    <style>\n",
    "        body { font-family: Arial, sans-serif; background-color: #f8f9fa; margin: 20px; font-size: 14px; }\n",
    "        .container { max-width: 1200px; margin: auto; padding: 20px; }\n",
    "        h1, h2 { text-align: center; color: #333; }\n",
    "        h2 { border-bottom: 2px solid #007BFF; padding-bottom: 5px; font-size: 16px; }\n",
    "        .target { color: #DC3545; font-weight: bold; }\n",
    "        .grid { display: flex; flex-wrap: wrap; gap: 10px; justify-content: space-between; }\n",
    "        .image { width: 30%; height: auto; }\n",
    "        img { width: 100%; height: auto; border-radius: 5px; }\n",
    "        table { width: 100%; border-collapse: collapse; font-size: 12px; }\n",
    "        th, td { border: 1px solid #ddd; padding: 6px; text-align: center; }\n",
    "        th { background-color: #007BFF; color: white; }\n",
    "        .categorical-grid { display: flex; flex-direction: row; gap: 10px; align-items: center; justify-content: center; }\n",
    "        .categorical-grid .image { width: 45%; }\n",
    "        .categorical-grid table { width: 50%; }\n",
    "    </style>\n",
    "</head>\n",
    "<body>\n",
    "    <div class='container'>\n",
    "        <h1>📊 Analyse des Variables Numériques</h1>\n",
    "\"\"\"\n",
    "\n",
    "# Variables cibles et explicatives\n",
    "target_section = \"<h2 class='target'>🎯 Variables Cibles</h2>\"\n",
    "explicative_section = \"<h2 class=''>📌 Variables Explicatives</h2>\"\n",
    "\n",
    "for feature in numerical_columns:\n",
    "    logger.info(f\"📌 Analyse en cours pour la colonne : {feature}\")\n",
    "    is_target = feature in TARGET_VARS\n",
    "    title = title_mapping.get(feature, feature.replace(\"_\", \" \").title())\n",
    "    \n",
    "    data = building_consumption_cleaned[feature].replace([np.inf, -np.inf], np.nan).dropna()\n",
    "    \n",
    "    hist_path = f\"{output_dir}/{feature}_histogram.png\"\n",
    "    box_path = f\"{output_dir}/{feature}_boxplot.png\"\n",
    "    kde_path = f\"{output_dir}/{feature}_kde.png\"\n",
    "    \n",
    "    plt.figure(figsize=(6, 5))\n",
    "    sns.histplot(data, bins=30, kde=True, color='blue', alpha=0.75)\n",
    "    plt.savefig(hist_path)\n",
    "    plt.close()\n",
    "    logger.info(f\"   📈 Histogramme créé pour {feature}.\")\n",
    "\n",
    "    plt.figure(figsize=(6, 5))\n",
    "    sns.boxplot(y=data, color='red')\n",
    "    plt.savefig(box_path)\n",
    "    plt.close()\n",
    "    logger.info(f\"   📊 Boxplot créé pour {feature}.\")\n",
    "\n",
    "    kde_html = \"\"\n",
    "    if len(data) > 1 and len(data.unique()) > 1:\n",
    "        try:\n",
    "            kde = gaussian_kde(data)\n",
    "            x_vals = np.linspace(data.min(), data.max(), 100)\n",
    "            y_vals = kde(x_vals)\n",
    "            plt.figure(figsize=(6, 5))\n",
    "            plt.plot(x_vals, y_vals, color='red')\n",
    "            plt.savefig(kde_path)\n",
    "            plt.close()\n",
    "            kde_html = f\"<div class='image'><img src='{kde_path}'></div>\"\n",
    "            logger.info(f\"  📉 KDE ajoutée pour {feature}.\")\n",
    "        except np.linalg.LinAlgError:\n",
    "            kde_html = \"\"\n",
    "            logger.warning(f\"   ⚠️ Impossible de calculer la KDE pour {feature}.\")\n",
    "\n",
    "    \n",
    "    stats = data.describe().to_frame().reset_index()\n",
    "    stats_html = stats.to_html(index=False, escape=False, border=1)\n",
    "    logger.info(f\"  📊 Tableau des statistiques créé pour {feature}.\")\n",
    "\n",
    "    section_content = f\"\"\"\n",
    "    <h2 class='{'target' if is_target else ''}'>{title}</h2>\n",
    "    <div class='grid'>\n",
    "        <div class='image'><img src='{hist_path}'></div>\n",
    "        <div class='image'><img src='{box_path}'></div>\n",
    "        {kde_html}\n",
    "        <div class='image'>{stats_html}</div>\n",
    "    </div>\n",
    "    \"\"\"\n",
    "\n",
    "    if is_target:\n",
    "        target_section += section_content\n",
    "    else:\n",
    "        explicative_section += section_content\n",
    "\n",
    "html_content += target_section + explicative_section\n",
    "html_content += \"</div></body></html>\"\n",
    "\n",
    " \n",
    "    \n",
    "# Analyse des variables catégorielles\n",
    "html_content += \"<h1>📑 Analyse des Variables Catégorielles</h1>\"\n",
    "for feature in categorical_columns:\n",
    "    logger.info(f\"📌 Analyse en cours pour la colonne catégorielle : {feature}\")\n",
    "\n",
    "    value_counts = building_consumption_cleaned[feature].value_counts()\n",
    "\n",
    "    # Graphique en barres\n",
    "    bar_path = os.path.join(output_dir, f\"{feature}_barplot.png\")\n",
    "    plt.figure(figsize=(6, 4))\n",
    "    sns.barplot(x=value_counts.values, y=value_counts.index, palette=\"Blues_r\")\n",
    "    plt.xlabel(\"Nombre d'occurrences\")\n",
    "    plt.ylabel(\"Catégories\")\n",
    "    plt.title(f\"Distribution de {feature}\")\n",
    "    plt.savefig(bar_path, bbox_inches='tight')\n",
    "    plt.close()\n",
    "\n",
    "    # Tableau des statistiques\n",
    "    stats_html = value_counts.to_frame().reset_index().to_html(index=False, escape=False, border=1)\n",
    "\n",
    "    html_content += f\"\"\"\n",
    "    <h2>{feature}</h2>\n",
    "    <div class='categorical-grid'>\n",
    "        <div class='image'><img src='{bar_path}'></div>\n",
    "        <div class='image'>{stats_html}</div>\n",
    "    </div>\n",
    "    \"\"\"\n",
    "\n",
    "html_content += \"</div></body></html>\"\n",
    "\n",
    "# Sauvegarde du fichier HTML\n",
    "html_path = os.path.join(output_dir, \"analyse_numerique.html\")\n",
    "with open(html_path, \"w\", encoding=\"utf-8\") as f:\n",
    "    f.write(html_content)\n",
    "\n",
    "logger.info(f\"✅ Rapport HTML généré avec succès : {html_path}\")\n",
    "logger.info(\"🎯 Fin de l'analyse des colonnes numériques.\")\n",
    "logger.info(\"=\" * 60)"
   ]
  }
 ],
 "metadata": {
  "kernelspec": {
   "display_name": "env",
   "language": "python",
   "name": "python3"
  },
  "language_info": {
   "codemirror_mode": {
    "name": "ipython",
    "version": 3
   },
   "file_extension": ".py",
   "mimetype": "text/x-python",
   "name": "python",
   "nbconvert_exporter": "python",
   "pygments_lexer": "ipython3",
   "version": "3.12.8"
  }
 },
 "nbformat": 4,
 "nbformat_minor": 2
}
